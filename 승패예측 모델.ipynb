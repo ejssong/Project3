{
 "cells": [
  {
   "cell_type": "code",
   "execution_count": 1,
   "metadata": {},
   "outputs": [],
   "source": [
    "import requests, xmltodict, json\n",
    "from datetime import datetime, timedelta"
   ]
  },
  {
   "cell_type": "code",
   "execution_count": 2,
   "metadata": {},
   "outputs": [
    {
     "name": "stdout",
     "output_type": "stream",
     "text": [
      "2021-05-19 15:17:53.212906\n",
      "2021-05-19 15:17:53.213903\n"
     ]
    }
   ],
   "source": [
    "print(datetime.today())\n",
    "print(str(datetime.today()))"
   ]
  },
  {
   "cell_type": "code",
   "execution_count": 3,
   "metadata": {},
   "outputs": [
    {
     "name": "stdout",
     "output_type": "stream",
     "text": [
      "20210519\n",
      "20210520\n",
      "20210521\n"
     ]
    }
   ],
   "source": [
    "today = str(datetime.today()).replace('-', '')[:8]\n",
    "tomorrow = str((datetime.today() + timedelta(days=1))).replace('-', '')[:8]\n",
    "aftTmr = str((datetime.today() + timedelta(days=2))).replace('-', '')[:8]\n",
    "print(today)\n",
    "print(tomorrow)\n",
    "print(aftTmr)"
   ]
  },
  {
   "cell_type": "code",
   "execution_count": 4,
   "metadata": {},
   "outputs": [
    {
     "data": {
      "text/plain": [
       "5"
      ]
     },
     "execution_count": 4,
     "metadata": {},
     "output_type": "execute_result"
    }
   ],
   "source": [
    "# 월\n",
    "# month\n",
    "month = int(today[4:6])\n",
    "month"
   ]
  },
  {
   "cell_type": "markdown",
   "metadata": {},
   "source": [
    "### 동네예보 키값 및 날짜 설정"
   ]
  },
  {
   "cell_type": "markdown",
   "metadata": {},
   "source": [
    "    POP\t강수확률 - %\n",
    "\tPTY\t강수형태 - 코드값 : 없음(0), 비(1), 비/눈(진눈개비)(2), 눈(3), 소나기(4), 빗방울(5), 빗방울/눈날림(6), 눈날림(7)\n",
    "\tR06\t6시간 강수량 - 범주(1 mm)\n",
    "\tREH\t습도 - %\n",
    "\tS06\t6시간 신적설\t- 범주(1 cm)\n",
    "\tSKY\t하늘상태 - 코드값 : 맑음(1), 구름많음(3), 흐림(4), (구름조금(2) 삭제)\n",
    "\tT3H\t3시간 기온 - ℃\n",
    "\tTMN\t아침 최저기온 - ℃\n",
    "\tTMX\t낮 최고기온 - ℃\n",
    "\tUUU\t풍속(동서성분) - m/s\n",
    "\tVVV\t풍속(남북성분) - m/s\n",
    "\tWAV\t파고 - M\n",
    "\tVEC\t풍향 - deg\n",
    "\tWSD\t풍속 - m/s"
   ]
  },
  {
   "cell_type": "code",
   "execution_count": 5,
   "metadata": {},
   "outputs": [],
   "source": [
    "# 동네예보\n",
    "key = \"wbqXO%2BaP6L04913iIX%2B9w8SpepZMxZG7rhqD22QOOgobPNhFZYPz0uRM5%2FdkgD3gsxC751E%2FvU1VTeL7rJCSeQ%3D%3D\"\n",
    "base_date = today #예보날짜(현재 날짜)\n",
    "#base_time (예보시간) : '0500'고정(데이터갯수225개)"
   ]
  },
  {
   "cell_type": "markdown",
   "metadata": {},
   "source": [
    "### 서울 동네예보 (nx = 60, ny = 127)"
   ]
  },
  {
   "cell_type": "code",
   "execution_count": 6,
   "metadata": {
    "scrolled": true
   },
   "outputs": [],
   "source": [
    "url = \"http://apis.data.go.kr/1360000/VilageFcstInfoService/getVilageFcst?serviceKey={}&pageNo=1&numOfRows=225&dataType=JSON&base_date={}&base_time=0500&nx=60&ny=127\".format(key, base_date)\n",
    "content = requests.get(url).content\n",
    "jsonObj = json.loads(content)\n",
    "item = jsonObj['response']['body']['items']['item']"
   ]
  },
  {
   "cell_type": "code",
   "execution_count": 7,
   "metadata": {},
   "outputs": [],
   "source": [
    "T3HValueListSL = []  # 서울 기온 리스트\n",
    "\n",
    "for i in range(225) :\n",
    "        if item[i]['category']=='T3H' and item[i]['fcstDate']==today and item[i]['fcstTime']=='1800' :\n",
    "            T3HValueListSL.append(float(item[i]['fcstValue']))\n",
    "\n",
    "for i in range(225) :\n",
    "        if item[i]['category']=='T3H' and item[i]['fcstDate']==tomorrow and item[i]['fcstTime']=='1800' :\n",
    "            T3HValueListSL.append(float(item[i]['fcstValue']))\n",
    "            \n",
    "for i in range(225) :\n",
    "        if item[i]['category']=='T3H' and item[i]['fcstDate']==aftTmr and item[i]['fcstTime']=='1800' :\n",
    "            T3HValueListSL.append(float(item[i]['fcstValue']))\n",
    "            \n",
    "REHValueListSL = []  # 서울 습도 리스트\n",
    "\n",
    "for i in range(225) :\n",
    "        if item[i]['category']=='REH' and item[i]['fcstDate']==today and item[i]['fcstTime']=='1800' :\n",
    "            REHValueListSL.append(float(item[i]['fcstValue']))\n",
    "\n",
    "for i in range(225) :\n",
    "        if item[i]['category']=='REH' and item[i]['fcstDate']==tomorrow and item[i]['fcstTime']=='1800' :\n",
    "            REHValueListSL.append(float(item[i]['fcstValue']))\n",
    "            \n",
    "for i in range(225) :\n",
    "        if item[i]['category']=='REH' and item[i]['fcstDate']==aftTmr and item[i]['fcstTime']=='1800' :\n",
    "            REHValueListSL.append(float(item[i]['fcstValue']))\n",
    "            \n",
    "POPValueListSL = [] # 서울 강수확률 리스트\n",
    "\n",
    "for i in range(225) :\n",
    "        if item[i]['category']=='POP' and item[i]['fcstDate']==today and item[i]['fcstTime']=='1800' :\n",
    "            POPValueListSL.append(float(item[i]['fcstValue']))\n",
    "\n",
    "for i in range(225) :\n",
    "        if item[i]['category']=='POP' and item[i]['fcstDate']==tomorrow and item[i]['fcstTime']=='1800' :\n",
    "            POPValueListSL.append(float(item[i]['fcstValue']))\n",
    "            \n",
    "for i in range(225) :\n",
    "        if item[i]['category']=='POP' and item[i]['fcstDate']==aftTmr and item[i]['fcstTime']=='1800' :\n",
    "            POPValueListSL.append(float(item[i]['fcstValue']))\n",
    "            \n",
    "SKYValueListSL = [] # 서울 하늘 상태 \n",
    "for i in range(225) :\n",
    "        if item[i]['category']=='SKY' and item[i]['fcstDate']==today and item[i]['fcstTime']=='1800' :\n",
    "            SKYValueListSL.append(str(item[i]['fcstValue']))\n",
    "\n",
    "for i in range(225) :\n",
    "        if item[i]['category']=='SKY' and item[i]['fcstDate']==tomorrow and item[i]['fcstTime']=='1800' :\n",
    "            SKYValueListSL.append(str(item[i]['fcstValue']))\n",
    "            \n",
    "for i in range(225) :\n",
    "        if item[i]['category']=='SKY' and item[i]['fcstDate']==aftTmr and item[i]['fcstTime']=='1800' :\n",
    "            SKYValueListSL.append(str(item[i]['fcstValue']))\n",
    "\n",
    "VECValueListSL = [] # 서울 풍향 상태 \n",
    "for i in range(225) :\n",
    "        if item[i]['category']=='VEC' and item[i]['fcstDate']==today and item[i]['fcstTime']=='1800' :\n",
    "            VECValueListSL.append(str(item[i]['fcstValue']))\n",
    "\n",
    "for i in range(225) :\n",
    "        if item[i]['category']=='VEC' and item[i]['fcstDate']==tomorrow and item[i]['fcstTime']=='1800' :\n",
    "            VECValueListSL.append(str(item[i]['fcstValue']))\n",
    "            \n",
    "for i in range(225) :\n",
    "        if item[i]['category']=='VEC' and item[i]['fcstDate']==aftTmr and item[i]['fcstTime']=='1800' :\n",
    "            VECValueListSL.append(str(item[i]['fcstValue']))    \n",
    "\n",
    "WSDValueListSL = [] # 서울 풍속 상태 \n",
    "for i in range(225) :\n",
    "        if item[i]['category']=='WSD' and item[i]['fcstDate']==today and item[i]['fcstTime']=='1800' :\n",
    "            WSDValueListSL.append(str(item[i]['fcstValue']))\n",
    "\n",
    "for i in range(225) :\n",
    "        if item[i]['category']=='WSD' and item[i]['fcstDate']==tomorrow and item[i]['fcstTime']=='1800' :\n",
    "            WSDValueListSL.append(str(item[i]['fcstValue']))\n",
    "            \n",
    "for i in range(225) :\n",
    "        if item[i]['category']=='WSD' and item[i]['fcstDate']==aftTmr and item[i]['fcstTime']=='1800' :\n",
    "            WSDValueListSL.append(str(item[i]['fcstValue']))               "
   ]
  },
  {
   "cell_type": "markdown",
   "metadata": {},
   "source": [
    "### 광주 동네 예보 (nx = 58 , ny = 74)"
   ]
  },
  {
   "cell_type": "code",
   "execution_count": 8,
   "metadata": {},
   "outputs": [],
   "source": [
    "url = \"http://apis.data.go.kr/1360000/VilageFcstInfoService/getVilageFcst?serviceKey={}&pageNo=1&numOfRows=225&dataType=JSON&base_date={}&base_time=0500&nx=58&ny=74\".format(key, base_date)\n",
    "content = requests.get(url).content\n",
    "jsonObj = json.loads(content)\n",
    "item = jsonObj['response']['body']['items']['item']"
   ]
  },
  {
   "cell_type": "code",
   "execution_count": 9,
   "metadata": {},
   "outputs": [],
   "source": [
    "T3HValueListGJ = []  # 광주 기온 리스트\n",
    "\n",
    "for i in range(225) :\n",
    "        if item[i]['category']=='T3H' and item[i]['fcstDate']==today and item[i]['fcstTime']=='1800' :\n",
    "            T3HValueListGJ.append(float(item[i]['fcstValue']))\n",
    "\n",
    "for i in range(225) :\n",
    "        if item[i]['category']=='T3H' and item[i]['fcstDate']==tomorrow and item[i]['fcstTime']=='1800' :\n",
    "            T3HValueListGJ.append(float(item[i]['fcstValue']))\n",
    "            \n",
    "for i in range(225) :\n",
    "        if item[i]['category']=='T3H' and item[i]['fcstDate']==aftTmr and item[i]['fcstTime']=='1800' :\n",
    "            T3HValueListGJ.append(float(item[i]['fcstValue']))         \n",
    "            \n",
    "REHValueListGJ = []  # 광주 습도 리스트\n",
    "\n",
    "for i in range(225) :\n",
    "        if item[i]['category']=='REH' and item[i]['fcstDate']==today and item[i]['fcstTime']=='1800' :\n",
    "            REHValueListGJ.append(float(item[i]['fcstValue']))\n",
    "\n",
    "for i in range(225) :\n",
    "        if item[i]['category']=='REH' and item[i]['fcstDate']==tomorrow and item[i]['fcstTime']=='1800' :\n",
    "            REHValueListGJ.append(float(item[i]['fcstValue']))\n",
    "            \n",
    "for i in range(225) :\n",
    "        if item[i]['category']=='REH' and item[i]['fcstDate']==aftTmr and item[i]['fcstTime']=='1800' :\n",
    "            REHValueListGJ.append(float(item[i]['fcstValue']))\n",
    "            \n",
    "POPValueListGJ = [] # 광주 강수확률 리스트\n",
    "\n",
    "for i in range(225) :\n",
    "        if item[i]['category']=='POP' and item[i]['fcstDate']==today and item[i]['fcstTime']=='1800' :\n",
    "            POPValueListGJ.append(float(item[i]['fcstValue']))\n",
    "\n",
    "for i in range(225) :\n",
    "        if item[i]['category']=='POP' and item[i]['fcstDate']==tomorrow and item[i]['fcstTime']=='1800' :\n",
    "            POPValueListGJ.append(float(item[i]['fcstValue']))\n",
    "            \n",
    "for i in range(225) :\n",
    "        if item[i]['category']=='POP' and item[i]['fcstDate']==aftTmr and item[i]['fcstTime']=='1800' :\n",
    "            POPValueListGJ.append(float(item[i]['fcstValue']))\n",
    "\n",
    "SKYValueListGJ = [] # 광주 하늘상태 리스트\n",
    "\n",
    "for i in range(225) :\n",
    "        if item[i]['category']=='SKY' and item[i]['fcstDate']==today and item[i]['fcstTime']=='1800' :\n",
    "            SKYValueListGJ.append(str(item[i]['fcstValue']))\n",
    "\n",
    "for i in range(225) :\n",
    "        if item[i]['category']=='SKY' and item[i]['fcstDate']==tomorrow and item[i]['fcstTime']=='1800' :\n",
    "            SKYValueListGJ.append(str(item[i]['fcstValue']))\n",
    "            \n",
    "for i in range(225) :\n",
    "        if item[i]['category']=='SKY' and item[i]['fcstDate']==aftTmr and item[i]['fcstTime']=='1800' :\n",
    "            SKYValueListGJ.append(str(item[i]['fcstValue']))\n",
    "            \n",
    "VECValueListGJ = [] # 광주 풍향 상태 \n",
    "for i in range(225) :\n",
    "        if item[i]['category']=='VEC' and item[i]['fcstDate']==today and item[i]['fcstTime']=='1800' :\n",
    "            VECValueListGJ.append(str(item[i]['fcstValue']))\n",
    "\n",
    "for i in range(225) :\n",
    "        if item[i]['category']=='VEC' and item[i]['fcstDate']==tomorrow and item[i]['fcstTime']=='1800' :\n",
    "            VECValueListGJ.append(str(item[i]['fcstValue']))\n",
    "            \n",
    "for i in range(225) :\n",
    "        if item[i]['category']=='VEC' and item[i]['fcstDate']==aftTmr and item[i]['fcstTime']=='1800' :\n",
    "            VECValueListGJ.append(str(item[i]['fcstValue']))    \n",
    "\n",
    "WSDValueListGJ = [] # 광주 풍속 상태 \n",
    "for i in range(225) :\n",
    "        if item[i]['category']=='WSD' and item[i]['fcstDate']==today and item[i]['fcstTime']=='1800' :\n",
    "            WSDValueListGJ.append(str(item[i]['fcstValue']))\n",
    "\n",
    "for i in range(225) :\n",
    "        if item[i]['category']=='WSD' and item[i]['fcstDate']==tomorrow and item[i]['fcstTime']=='1800' :\n",
    "            WSDValueListGJ.append(str(item[i]['fcstValue']))\n",
    "            \n",
    "for i in range(225) :\n",
    "        if item[i]['category']=='WSD' and item[i]['fcstDate']==aftTmr and item[i]['fcstTime']=='1800' :\n",
    "            WSDValueListGJ.append(str(item[i]['fcstValue']))    "
   ]
  },
  {
   "cell_type": "markdown",
   "metadata": {},
   "source": [
    "### 부산 동네 예보 (nx = 98 , ny = 76)"
   ]
  },
  {
   "cell_type": "code",
   "execution_count": 10,
   "metadata": {},
   "outputs": [],
   "source": [
    "url = \"http://apis.data.go.kr/1360000/VilageFcstInfoService/getVilageFcst?serviceKey={}&pageNo=1&numOfRows=225&dataType=JSON&base_date={}&base_time=0500&nx=98&ny=76\".format(key, base_date)\n",
    "content = requests.get(url).content\n",
    "jsonObj = json.loads(content)\n",
    "item = jsonObj['response']['body']['items']['item']"
   ]
  },
  {
   "cell_type": "code",
   "execution_count": 11,
   "metadata": {},
   "outputs": [],
   "source": [
    "T3HValueListBS = []  # 부산 기온 리스트\n",
    "\n",
    "for i in range(225) :\n",
    "        if item[i]['category']=='T3H' and item[i]['fcstDate']==today and item[i]['fcstTime']=='1800' :\n",
    "            T3HValueListBS.append(float(item[i]['fcstValue']))\n",
    "\n",
    "for i in range(225) :\n",
    "        if item[i]['category']=='T3H' and item[i]['fcstDate']==tomorrow and item[i]['fcstTime']=='1800' :\n",
    "            T3HValueListBS.append(float(item[i]['fcstValue']))\n",
    "            \n",
    "for i in range(225) :\n",
    "        if item[i]['category']=='T3H' and item[i]['fcstDate']==aftTmr and item[i]['fcstTime']=='1800' :\n",
    "            T3HValueListBS.append(float(item[i]['fcstValue']))   \n",
    "            \n",
    "REHValueListBS = []  # 부산 습도 리스트\n",
    "\n",
    "for i in range(225) :\n",
    "        if item[i]['category']=='REH' and item[i]['fcstDate']==today and item[i]['fcstTime']=='1800' :\n",
    "            REHValueListBS.append(float(item[i]['fcstValue']))\n",
    "\n",
    "for i in range(225) :\n",
    "        if item[i]['category']=='REH' and item[i]['fcstDate']==tomorrow and item[i]['fcstTime']=='1800' :\n",
    "            REHValueListBS.append(float(item[i]['fcstValue']))\n",
    "            \n",
    "for i in range(225) :\n",
    "        if item[i]['category']=='REH' and item[i]['fcstDate']==aftTmr and item[i]['fcstTime']=='1800' :\n",
    "            REHValueListBS.append(float(item[i]['fcstValue']))\n",
    "            \n",
    "POPValueListBS = [] # 부산 강수확률 리스트\n",
    "\n",
    "for i in range(225) :\n",
    "        if item[i]['category']=='POP' and item[i]['fcstDate']==today and item[i]['fcstTime']=='1800' :\n",
    "            POPValueListBS.append(float(item[i]['fcstValue']))\n",
    "\n",
    "for i in range(225) :\n",
    "        if item[i]['category']=='POP' and item[i]['fcstDate']==tomorrow and item[i]['fcstTime']=='1800' :\n",
    "            POPValueListBS.append(float(item[i]['fcstValue']))\n",
    "            \n",
    "for i in range(225) :\n",
    "        if item[i]['category']=='POP' and item[i]['fcstDate']==aftTmr and item[i]['fcstTime']=='1800' :\n",
    "            POPValueListBS.append(float(item[i]['fcstValue']))\n",
    "            \n",
    "SKYValueListBS = [] # 부산 강수확률 리스트\n",
    "\n",
    "for i in range(225) :\n",
    "        if item[i]['category']=='SKY' and item[i]['fcstDate']==today and item[i]['fcstTime']=='1800' :\n",
    "            SKYValueListBS.append(str(item[i]['fcstValue']))\n",
    "\n",
    "for i in range(225) :\n",
    "        if item[i]['category']=='SKY' and item[i]['fcstDate']==tomorrow and item[i]['fcstTime']=='1800' :\n",
    "            SKYValueListBS.append(str(item[i]['fcstValue']))\n",
    "            \n",
    "for i in range(225) :\n",
    "        if item[i]['category']=='SKY' and item[i]['fcstDate']==aftTmr and item[i]['fcstTime']=='1800' :\n",
    "            SKYValueListBS.append(str(item[i]['fcstValue']))\n",
    "\n",
    "VECValueListBS = [] # 부산 풍향 상태 \n",
    "for i in range(225) :\n",
    "        if item[i]['category']=='VEC' and item[i]['fcstDate']==today and item[i]['fcstTime']=='1800' :\n",
    "            VECValueListBS.append(str(item[i]['fcstValue']))\n",
    "\n",
    "for i in range(225) :\n",
    "        if item[i]['category']=='VEC' and item[i]['fcstDate']==tomorrow and item[i]['fcstTime']=='1800' :\n",
    "            VECValueListBS.append(str(item[i]['fcstValue']))\n",
    "            \n",
    "for i in range(225) :\n",
    "        if item[i]['category']=='VEC' and item[i]['fcstDate']==aftTmr and item[i]['fcstTime']=='1800' :\n",
    "            VECValueListBS.append(str(item[i]['fcstValue']))    \n",
    "\n",
    "WSDValueListBS = [] # 부산 풍속 상태 \n",
    "for i in range(225) :\n",
    "        if item[i]['category']=='WSD' and item[i]['fcstDate']==today and item[i]['fcstTime']=='1800' :\n",
    "            WSDValueListBS.append(str(item[i]['fcstValue']))\n",
    "\n",
    "for i in range(225) :\n",
    "        if item[i]['category']=='WSD' and item[i]['fcstDate']==tomorrow and item[i]['fcstTime']=='1800' :\n",
    "            WSDValueListBS.append(str(item[i]['fcstValue']))\n",
    "            \n",
    "for i in range(225) :\n",
    "        if item[i]['category']=='WSD' and item[i]['fcstDate']==aftTmr and item[i]['fcstTime']=='1800' :\n",
    "            WSDValueListBS.append(str(item[i]['fcstValue']))    "
   ]
  },
  {
   "cell_type": "markdown",
   "metadata": {},
   "source": [
    "### 창원 기온 리스트 (nx = 90 , ny = 77)"
   ]
  },
  {
   "cell_type": "code",
   "execution_count": 12,
   "metadata": {},
   "outputs": [],
   "source": [
    "url = \"http://apis.data.go.kr/1360000/VilageFcstInfoService/getVilageFcst?serviceKey={}&pageNo=1&numOfRows=225&dataType=JSON&base_date={}&base_time=0500&nx=90&ny=77\".format(key, base_date)\n",
    "content = requests.get(url).content\n",
    "jsonObj = json.loads(content)\n",
    "item = jsonObj['response']['body']['items']['item']"
   ]
  },
  {
   "cell_type": "code",
   "execution_count": 13,
   "metadata": {},
   "outputs": [],
   "source": [
    "T3HValueListCW = []  # 창원 기온 리스트\n",
    "\n",
    "for i in range(225) :\n",
    "        if item[i]['category']=='T3H' and item[i]['fcstDate']==today and item[i]['fcstTime']=='1800' :\n",
    "            T3HValueListCW.append(float(item[i]['fcstValue']))\n",
    "\n",
    "for i in range(225) :\n",
    "        if item[i]['category']=='T3H' and item[i]['fcstDate']==tomorrow and item[i]['fcstTime']=='1800' :\n",
    "            T3HValueListCW.append(float(item[i]['fcstValue']))\n",
    "            \n",
    "for i in range(225) :\n",
    "        if item[i]['category']=='T3H' and item[i]['fcstDate']==aftTmr and item[i]['fcstTime']=='1800' :\n",
    "            T3HValueListCW.append(float(item[i]['fcstValue']))    \n",
    "            \n",
    "REHValueListCW = []  # 창원 습도 리스트\n",
    "\n",
    "for i in range(225) :\n",
    "        if item[i]['category']=='REH' and item[i]['fcstDate']==today and item[i]['fcstTime']=='1800' :\n",
    "            REHValueListCW.append(float(item[i]['fcstValue']))\n",
    "\n",
    "for i in range(225) :\n",
    "        if item[i]['category']=='REH' and item[i]['fcstDate']==tomorrow and item[i]['fcstTime']=='1800' :\n",
    "            REHValueListCW.append(float(item[i]['fcstValue']))\n",
    "            \n",
    "for i in range(225) :\n",
    "        if item[i]['category']=='REH' and item[i]['fcstDate']==aftTmr and item[i]['fcstTime']=='1800' :\n",
    "            REHValueListCW.append(float(item[i]['fcstValue']))\n",
    "            \n",
    "POPValueListCW = [] # 창원 강수확률 리스트\n",
    "\n",
    "for i in range(225) :\n",
    "        if item[i]['category']=='POP' and item[i]['fcstDate']==today and item[i]['fcstTime']=='1800' :\n",
    "            POPValueListCW.append(float(item[i]['fcstValue']))\n",
    "\n",
    "for i in range(225) :\n",
    "        if item[i]['category']=='POP' and item[i]['fcstDate']==tomorrow and item[i]['fcstTime']=='1800' :\n",
    "            POPValueListCW.append(float(item[i]['fcstValue']))\n",
    "            \n",
    "for i in range(225) :\n",
    "        if item[i]['category']=='POP' and item[i]['fcstDate']==aftTmr and item[i]['fcstTime']=='1800' :\n",
    "            POPValueListCW.append(float(item[i]['fcstValue']))\n",
    "            \n",
    "SKYValueListCW = [] # 창원 하늘상태 리스트\n",
    "\n",
    "for i in range(225) :\n",
    "        if item[i]['category']=='SKY' and item[i]['fcstDate']==today and item[i]['fcstTime']=='1800' :\n",
    "            SKYValueListCW.append(str(item[i]['fcstValue']))\n",
    "\n",
    "for i in range(225) :\n",
    "        if item[i]['category']=='SKY' and item[i]['fcstDate']==tomorrow and item[i]['fcstTime']=='1800' :\n",
    "            SKYValueListCW.append(str(item[i]['fcstValue']))\n",
    "            \n",
    "for i in range(225) :\n",
    "        if item[i]['category']=='SKY' and item[i]['fcstDate']==aftTmr and item[i]['fcstTime']=='1800' :\n",
    "            SKYValueListCW.append(str(item[i]['fcstValue']))\n",
    "\n",
    "VECValueListCW = [] # 창원 풍향 상태 \n",
    "for i in range(225) :\n",
    "        if item[i]['category']=='VEC' and item[i]['fcstDate']==today and item[i]['fcstTime']=='1800' :\n",
    "            VECValueListCW.append(str(item[i]['fcstValue']))\n",
    "\n",
    "for i in range(225) :\n",
    "        if item[i]['category']=='VEC' and item[i]['fcstDate']==tomorrow and item[i]['fcstTime']=='1800' :\n",
    "            VECValueListCW.append(str(item[i]['fcstValue']))\n",
    "            \n",
    "for i in range(225) :\n",
    "        if item[i]['category']=='VEC' and item[i]['fcstDate']==aftTmr and item[i]['fcstTime']=='1800' :\n",
    "            VECValueListCW.append(str(item[i]['fcstValue']))    \n",
    "\n",
    "WSDValueListCW = [] # 창원 풍속 상태 \n",
    "for i in range(225) :\n",
    "        if item[i]['category']=='WSD' and item[i]['fcstDate']==today and item[i]['fcstTime']=='1800' :\n",
    "            WSDValueListCW.append(str(item[i]['fcstValue']))\n",
    "\n",
    "for i in range(225) :\n",
    "        if item[i]['category']=='WSD' and item[i]['fcstDate']==tomorrow and item[i]['fcstTime']=='1800' :\n",
    "            WSDValueListCW.append(str(item[i]['fcstValue']))\n",
    "            \n",
    "for i in range(225) :\n",
    "        if item[i]['category']=='WSD' and item[i]['fcstDate']==aftTmr and item[i]['fcstTime']=='1800' :\n",
    "            WSDValueListCW.append(str(item[i]['fcstValue']))    "
   ]
  },
  {
   "cell_type": "markdown",
   "metadata": {},
   "source": [
    "### 인천 기온 리스트 (nx = 55 , ny = 124)"
   ]
  },
  {
   "cell_type": "code",
   "execution_count": 14,
   "metadata": {},
   "outputs": [],
   "source": [
    "url = \"http://apis.data.go.kr/1360000/VilageFcstInfoService/getVilageFcst?serviceKey={}&pageNo=1&numOfRows=225&dataType=JSON&base_date={}&base_time=0500&nx=55&ny=124\".format(key, base_date)\n",
    "content = requests.get(url).content\n",
    "jsonObj = json.loads(content)\n",
    "item = jsonObj['response']['body']['items']['item']"
   ]
  },
  {
   "cell_type": "code",
   "execution_count": 15,
   "metadata": {},
   "outputs": [],
   "source": [
    "T3HValueListIC = []  # 인천 기온 리스트\n",
    "\n",
    "for i in range(225) :\n",
    "        if item[i]['category']=='T3H' and item[i]['fcstDate']==today and item[i]['fcstTime']=='1800' :\n",
    "            T3HValueListIC.append(float(item[i]['fcstValue']))\n",
    "\n",
    "for i in range(225) :\n",
    "        if item[i]['category']=='T3H' and item[i]['fcstDate']==tomorrow and item[i]['fcstTime']=='1800' :\n",
    "            T3HValueListIC.append(float(item[i]['fcstValue']))\n",
    "            \n",
    "for i in range(225) :\n",
    "        if item[i]['category']=='T3H' and item[i]['fcstDate']==aftTmr and item[i]['fcstTime']=='1800' :\n",
    "            T3HValueListIC.append(float(item[i]['fcstValue']))            \n",
    "            \n",
    "REHValueListIC = []  # 인천 습도 리스트\n",
    "\n",
    "for i in range(225) :\n",
    "        if item[i]['category']=='REH' and item[i]['fcstDate']==today and item[i]['fcstTime']=='1800' :\n",
    "            REHValueListIC.append(float(item[i]['fcstValue']))\n",
    "\n",
    "for i in range(225) :\n",
    "        if item[i]['category']=='REH' and item[i]['fcstDate']==tomorrow and item[i]['fcstTime']=='1800' :\n",
    "            REHValueListIC.append(float(item[i]['fcstValue']))\n",
    "            \n",
    "for i in range(225) :\n",
    "        if item[i]['category']=='REH' and item[i]['fcstDate']==aftTmr and item[i]['fcstTime']=='1800' :\n",
    "            REHValueListIC.append(float(item[i]['fcstValue']))\n",
    "            \n",
    "POPValueListIC = [] # 인천 강수확률 리스트\n",
    "\n",
    "for i in range(225) :\n",
    "        if item[i]['category']=='POP' and item[i]['fcstDate']==today and item[i]['fcstTime']=='1800' :\n",
    "            POPValueListIC.append(float(item[i]['fcstValue']))\n",
    "\n",
    "for i in range(225) :\n",
    "        if item[i]['category']=='POP' and item[i]['fcstDate']==tomorrow and item[i]['fcstTime']=='1800' :\n",
    "            POPValueListIC.append(float(item[i]['fcstValue']))\n",
    "            \n",
    "for i in range(225) :\n",
    "        if item[i]['category']=='POP' and item[i]['fcstDate']==aftTmr and item[i]['fcstTime']=='1800' :\n",
    "            POPValueListIC.append(float(item[i]['fcstValue']))\n",
    "            \n",
    "SKYValueListIC = [] # 인천 강수확률 리스트\n",
    "\n",
    "for i in range(225) :\n",
    "        if item[i]['category']=='SKY' and item[i]['fcstDate']==today and item[i]['fcstTime']=='1800' :\n",
    "            SKYValueListIC.append(str(item[i]['fcstValue']))\n",
    "\n",
    "for i in range(225) :\n",
    "        if item[i]['category']=='SKY' and item[i]['fcstDate']==tomorrow and item[i]['fcstTime']=='1800' :\n",
    "            SKYValueListIC.append(str(item[i]['fcstValue']))\n",
    "            \n",
    "for i in range(225) :\n",
    "        if item[i]['category']=='SKY' and item[i]['fcstDate']==aftTmr and item[i]['fcstTime']=='1800' :\n",
    "            SKYValueListIC.append(str(item[i]['fcstValue']))\n",
    "\n",
    "VECValueListIC = [] # 인천 풍향 상태 \n",
    "for i in range(225) :\n",
    "        if item[i]['category']=='VEC' and item[i]['fcstDate']==today and item[i]['fcstTime']=='1800' :\n",
    "            VECValueListIC.append(str(item[i]['fcstValue']))\n",
    "\n",
    "for i in range(225) :\n",
    "        if item[i]['category']=='VEC' and item[i]['fcstDate']==tomorrow and item[i]['fcstTime']=='1800' :\n",
    "            VECValueListIC.append(str(item[i]['fcstValue']))\n",
    "            \n",
    "for i in range(225) :\n",
    "        if item[i]['category']=='VEC' and item[i]['fcstDate']==aftTmr and item[i]['fcstTime']=='1800' :\n",
    "            VECValueListIC.append(str(item[i]['fcstValue']))    \n",
    "\n",
    "WSDValueListIC = [] # 인천 풍속 상태 \n",
    "for i in range(225) :\n",
    "        if item[i]['category']=='WSD' and item[i]['fcstDate']==today and item[i]['fcstTime']=='1800' :\n",
    "            WSDValueListIC.append(str(item[i]['fcstValue']))\n",
    "\n",
    "for i in range(225) :\n",
    "        if item[i]['category']=='WSD' and item[i]['fcstDate']==tomorrow and item[i]['fcstTime']=='1800' :\n",
    "            WSDValueListIC.append(str(item[i]['fcstValue']))\n",
    "            \n",
    "for i in range(225) :\n",
    "        if item[i]['category']=='WSD' and item[i]['fcstDate']==aftTmr and item[i]['fcstTime']=='1800' :\n",
    "            WSDValueListIC.append(str(item[i]['fcstValue']))    "
   ]
  },
  {
   "cell_type": "markdown",
   "metadata": {},
   "source": [
    "### 대전 기온 리스트 (nx = 67 , ny = 100)"
   ]
  },
  {
   "cell_type": "code",
   "execution_count": 16,
   "metadata": {},
   "outputs": [],
   "source": [
    "url = \"http://apis.data.go.kr/1360000/VilageFcstInfoService/getVilageFcst?serviceKey={}&pageNo=1&numOfRows=225&dataType=JSON&base_date={}&base_time=0500&nx=67&ny=100\".format(key, base_date)\n",
    "content = requests.get(url).content\n",
    "jsonObj = json.loads(content)\n",
    "item = jsonObj['response']['body']['items']['item']"
   ]
  },
  {
   "cell_type": "code",
   "execution_count": 17,
   "metadata": {},
   "outputs": [],
   "source": [
    "T3HValueListDJ = []  # 대전 기온 리스트\n",
    "\n",
    "for i in range(225) :\n",
    "        if item[i]['category']=='T3H' and item[i]['fcstDate']==today and item[i]['fcstTime']=='1800' :\n",
    "            T3HValueListDJ.append(float(item[i]['fcstValue']))\n",
    "\n",
    "for i in range(225) :\n",
    "        if item[i]['category']=='T3H' and item[i]['fcstDate']==tomorrow and item[i]['fcstTime']=='1800' :\n",
    "            T3HValueListDJ.append(float(item[i]['fcstValue']))\n",
    "            \n",
    "for i in range(225) :\n",
    "        if item[i]['category']=='T3H' and item[i]['fcstDate']==aftTmr and item[i]['fcstTime']=='1800' :\n",
    "            T3HValueListDJ.append(float(item[i]['fcstValue'])) \n",
    "            \n",
    "REHValueListDJ = []  # 대전 습도 리스트\n",
    "\n",
    "for i in range(225) :\n",
    "        if item[i]['category']=='REH' and item[i]['fcstDate']==today and item[i]['fcstTime']=='1800' :\n",
    "            REHValueListDJ.append(float(item[i]['fcstValue']))\n",
    "\n",
    "for i in range(225) :\n",
    "        if item[i]['category']=='REH' and item[i]['fcstDate']==tomorrow and item[i]['fcstTime']=='1800' :\n",
    "            REHValueListDJ.append(float(item[i]['fcstValue']))\n",
    "            \n",
    "for i in range(225) :\n",
    "        if item[i]['category']=='REH' and item[i]['fcstDate']==aftTmr and item[i]['fcstTime']=='1800' :\n",
    "            REHValueListDJ.append(float(item[i]['fcstValue']))\n",
    "            \n",
    "POPValueListDJ = [] # 대전 강수확률 리스트\n",
    "\n",
    "for i in range(225) :\n",
    "        if item[i]['category']=='POP' and item[i]['fcstDate']==today and item[i]['fcstTime']=='1800' :\n",
    "            POPValueListDJ.append(float(item[i]['fcstValue']))\n",
    "\n",
    "for i in range(225) :\n",
    "        if item[i]['category']=='POP' and item[i]['fcstDate']==tomorrow and item[i]['fcstTime']=='1800' :\n",
    "            POPValueListDJ.append(float(item[i]['fcstValue']))\n",
    "            \n",
    "for i in range(225) :\n",
    "        if item[i]['category']=='POP' and item[i]['fcstDate']==aftTmr and item[i]['fcstTime']=='1800' :\n",
    "            POPValueListDJ.append(float(item[i]['fcstValue']))\n",
    "            \n",
    "SKYValueListDJ = [] # 대전 강수확률 리스트\n",
    "\n",
    "for i in range(225) :\n",
    "        if item[i]['category']=='SKY' and item[i]['fcstDate']==today and item[i]['fcstTime']=='1800' :\n",
    "            SKYValueListDJ.append(str(item[i]['fcstValue']))\n",
    "\n",
    "for i in range(225) :\n",
    "        if item[i]['category']=='SKY' and item[i]['fcstDate']==tomorrow and item[i]['fcstTime']=='1800' :\n",
    "            SKYValueListDJ.append(str(item[i]['fcstValue']))\n",
    "            \n",
    "for i in range(225) :\n",
    "        if item[i]['category']=='SKY' and item[i]['fcstDate']==aftTmr and item[i]['fcstTime']=='1800' :\n",
    "            SKYValueListDJ.append(str(item[i]['fcstValue']))\n",
    "            \n",
    "VECValueListDJ = [] # 대전 풍향 상태 \n",
    "for i in range(225) :\n",
    "        if item[i]['category']=='VEC' and item[i]['fcstDate']==today and item[i]['fcstTime']=='1800' :\n",
    "            VECValueListDJ.append(str(item[i]['fcstValue']))\n",
    "\n",
    "for i in range(225) :\n",
    "        if item[i]['category']=='VEC' and item[i]['fcstDate']==tomorrow and item[i]['fcstTime']=='1800' :\n",
    "            VECValueListDJ.append(str(item[i]['fcstValue']))\n",
    "            \n",
    "for i in range(225) :\n",
    "        if item[i]['category']=='VEC' and item[i]['fcstDate']==aftTmr and item[i]['fcstTime']=='1800' :\n",
    "            VECValueListDJ.append(str(item[i]['fcstValue']))    \n",
    "\n",
    "WSDValueListDJ= [] # 대전 풍속 상태 \n",
    "for i in range(225) :\n",
    "        if item[i]['category']=='WSD' and item[i]['fcstDate']==today and item[i]['fcstTime']=='1800' :\n",
    "            WSDValueListDJ.append(str(item[i]['fcstValue']))\n",
    "\n",
    "for i in range(225) :\n",
    "        if item[i]['category']=='WSD' and item[i]['fcstDate']==tomorrow and item[i]['fcstTime']=='1800' :\n",
    "            WSDValueListDJ.append(str(item[i]['fcstValue']))\n",
    "            \n",
    "for i in range(225) :\n",
    "        if item[i]['category']=='WSD' and item[i]['fcstDate']==aftTmr and item[i]['fcstTime']=='1800' :\n",
    "            WSDValueListDJ.append(str(item[i]['fcstValue']))    "
   ]
  },
  {
   "cell_type": "markdown",
   "metadata": {},
   "source": [
    "### 대구 기온 리스트 (nx = 89 , ny = 90)"
   ]
  },
  {
   "cell_type": "code",
   "execution_count": 18,
   "metadata": {},
   "outputs": [],
   "source": [
    "url = \"http://apis.data.go.kr/1360000/VilageFcstInfoService/getVilageFcst?serviceKey={}&pageNo=1&numOfRows=225&dataType=JSON&base_date={}&base_time=0500&nx=89&ny=90\".format(key, base_date)\n",
    "content = requests.get(url).content\n",
    "jsonObj = json.loads(content)\n",
    "item = jsonObj['response']['body']['items']['item']"
   ]
  },
  {
   "cell_type": "code",
   "execution_count": 19,
   "metadata": {},
   "outputs": [],
   "source": [
    "T3HValueListDG = []  # 대구 기온 리스트\n",
    "\n",
    "for i in range(225) :\n",
    "        if item[i]['category']=='T3H' and item[i]['fcstDate']==today and item[i]['fcstTime']=='1800' :\n",
    "            T3HValueListDG.append(float(item[i]['fcstValue']))\n",
    "\n",
    "for i in range(225) :\n",
    "        if item[i]['category']=='T3H' and item[i]['fcstDate']==tomorrow and item[i]['fcstTime']=='1800' :\n",
    "            T3HValueListDG.append(float(item[i]['fcstValue']))\n",
    "            \n",
    "for i in range(225) :\n",
    "        if item[i]['category']=='T3H' and item[i]['fcstDate']==aftTmr and item[i]['fcstTime']=='1800' :\n",
    "            T3HValueListDG.append(float(item[i]['fcstValue']))    \n",
    "            \n",
    "REHValueListDG = []  # 대구 습도 리스트\n",
    "\n",
    "for i in range(225) :\n",
    "        if item[i]['category']=='REH' and item[i]['fcstDate']==today and item[i]['fcstTime']=='1800' :\n",
    "            REHValueListDG.append(float(item[i]['fcstValue']))\n",
    "\n",
    "for i in range(225) :\n",
    "        if item[i]['category']=='REH' and item[i]['fcstDate']==tomorrow and item[i]['fcstTime']=='1800' :\n",
    "            REHValueListDG.append(float(item[i]['fcstValue']))\n",
    "            \n",
    "for i in range(225) :\n",
    "        if item[i]['category']=='REH' and item[i]['fcstDate']==aftTmr and item[i]['fcstTime']=='1800' :\n",
    "            REHValueListDG.append(float(item[i]['fcstValue']))\n",
    "            \n",
    "POPValueListDG = [] # 대구 강수확률 리스트\n",
    "\n",
    "for i in range(225) :\n",
    "        if item[i]['category']=='POP' and item[i]['fcstDate']==today and item[i]['fcstTime']=='1800' :\n",
    "            POPValueListDG.append(float(item[i]['fcstValue']))\n",
    "\n",
    "for i in range(225) :\n",
    "        if item[i]['category']=='POP' and item[i]['fcstDate']==tomorrow and item[i]['fcstTime']=='1800' :\n",
    "            POPValueListDG.append(float(item[i]['fcstValue']))\n",
    "            \n",
    "for i in range(225) :\n",
    "        if item[i]['category']=='POP' and item[i]['fcstDate']==aftTmr and item[i]['fcstTime']=='1800' :\n",
    "            POPValueListDG.append(float(item[i]['fcstValue']))\n",
    "            \n",
    "SKYValueListDG = [] # 대구 강수확률 리스트\n",
    "\n",
    "for i in range(225) :\n",
    "        if item[i]['category']=='SKY' and item[i]['fcstDate']==today and item[i]['fcstTime']=='1800' :\n",
    "            SKYValueListDG.append(str(item[i]['fcstValue']))\n",
    "\n",
    "for i in range(225) :\n",
    "        if item[i]['category']=='SKY' and item[i]['fcstDate']==tomorrow and item[i]['fcstTime']=='1800' :\n",
    "            SKYValueListDG.append(str(item[i]['fcstValue']))\n",
    "            \n",
    "for i in range(225) :\n",
    "        if item[i]['category']=='SKY' and item[i]['fcstDate']==aftTmr and item[i]['fcstTime']=='1800' :\n",
    "            SKYValueListDG.append(str(item[i]['fcstValue']))\n",
    "            \n",
    "VECValueListDG = [] # 대구 풍향 상태 \n",
    "for i in range(225) :\n",
    "        if item[i]['category']=='VEC' and item[i]['fcstDate']==today and item[i]['fcstTime']=='1800' :\n",
    "            VECValueListDG.append(str(item[i]['fcstValue']))\n",
    "\n",
    "for i in range(225) :\n",
    "        if item[i]['category']=='VEC' and item[i]['fcstDate']==tomorrow and item[i]['fcstTime']=='1800' :\n",
    "            VECValueListDG.append(str(item[i]['fcstValue']))\n",
    "            \n",
    "for i in range(225) :\n",
    "        if item[i]['category']=='VEC' and item[i]['fcstDate']==aftTmr and item[i]['fcstTime']=='1800' :\n",
    "            VECValueListDG.append(str(item[i]['fcstValue']))    \n",
    "\n",
    "WSDValueListDG = [] # 대구 풍속 상태 \n",
    "for i in range(225) :\n",
    "        if item[i]['category']=='WSD' and item[i]['fcstDate']==today and item[i]['fcstTime']=='1800' :\n",
    "            WSDValueListDG.append(str(item[i]['fcstValue']))\n",
    "\n",
    "for i in range(225) :\n",
    "        if item[i]['category']=='WSD' and item[i]['fcstDate']==tomorrow and item[i]['fcstTime']=='1800' :\n",
    "            WSDValueListDG.append(str(item[i]['fcstValue']))\n",
    "            \n",
    "for i in range(225) :\n",
    "        if item[i]['category']=='WSD' and item[i]['fcstDate']==aftTmr and item[i]['fcstTime']=='1800' :\n",
    "            WSDValueListDG.append(str(item[i]['fcstValue']))    "
   ]
  },
  {
   "cell_type": "markdown",
   "metadata": {},
   "source": [
    "### 수원 기온 리스트 (nx = 60 , ny = 121)"
   ]
  },
  {
   "cell_type": "code",
   "execution_count": 20,
   "metadata": {},
   "outputs": [],
   "source": [
    "url = \"http://apis.data.go.kr/1360000/VilageFcstInfoService/getVilageFcst?serviceKey={}&pageNo=1&numOfRows=225&dataType=JSON&base_date={}&base_time=0500&nx=60&ny=121\".format(key, base_date)\n",
    "content = requests.get(url).content\n",
    "jsonObj = json.loads(content)\n",
    "item = jsonObj['response']['body']['items']['item']"
   ]
  },
  {
   "cell_type": "code",
   "execution_count": 21,
   "metadata": {},
   "outputs": [],
   "source": [
    "T3HValueListSW = []  # 수원 기온 리스트\n",
    "\n",
    "for i in range(225) :\n",
    "        if item[i]['category']=='T3H' and item[i]['fcstDate']==today and item[i]['fcstTime']=='1800' :\n",
    "            T3HValueListSW.append(float(item[i]['fcstValue']))\n",
    "\n",
    "for i in range(225) :\n",
    "        if item[i]['category']=='T3H' and item[i]['fcstDate']==tomorrow and item[i]['fcstTime']=='1800' :\n",
    "            T3HValueListSW.append(float(item[i]['fcstValue']))\n",
    "            \n",
    "for i in range(225) :\n",
    "        if item[i]['category']=='T3H' and item[i]['fcstDate']==aftTmr and item[i]['fcstTime']=='1800' :\n",
    "            T3HValueListSW.append(float(item[i]['fcstValue']))   \n",
    "            \n",
    "REHValueListSW = []  # 수원 습도 리스트\n",
    "\n",
    "for i in range(225) :\n",
    "        if item[i]['category']=='REH' and item[i]['fcstDate']==today and item[i]['fcstTime']=='1800' :\n",
    "            REHValueListSW.append(float(item[i]['fcstValue']))\n",
    "\n",
    "for i in range(225) :\n",
    "        if item[i]['category']=='REH' and item[i]['fcstDate']==tomorrow and item[i]['fcstTime']=='1800' :\n",
    "            REHValueListSW.append(float(item[i]['fcstValue']))\n",
    "            \n",
    "for i in range(225) :\n",
    "        if item[i]['category']=='REH' and item[i]['fcstDate']==aftTmr and item[i]['fcstTime']=='1800' :\n",
    "            REHValueListSW.append(float(item[i]['fcstValue']))\n",
    "            \n",
    "POPValueListSW = [] # 수원 강수확률 리스트\n",
    "\n",
    "for i in range(225) :\n",
    "        if item[i]['category']=='POP' and item[i]['fcstDate']==today and item[i]['fcstTime']=='1800' :\n",
    "            POPValueListSW.append(float(item[i]['fcstValue']))\n",
    "\n",
    "for i in range(225) :\n",
    "        if item[i]['category']=='POP' and item[i]['fcstDate']==tomorrow and item[i]['fcstTime']=='1800' :\n",
    "            POPValueListSW.append(float(item[i]['fcstValue']))\n",
    "            \n",
    "for i in range(225) :\n",
    "        if item[i]['category']=='POP' and item[i]['fcstDate']==aftTmr and item[i]['fcstTime']=='1800' :\n",
    "            POPValueListSW.append(float(item[i]['fcstValue']))\n",
    "\n",
    "                        \n",
    "SKYValueListSW = [] # 수원 하늘 리스트\n",
    "\n",
    "for i in range(225) :\n",
    "        if item[i]['category']=='SKY' and item[i]['fcstDate']==today and item[i]['fcstTime']=='1800' :\n",
    "            SKYValueListSW.append(str(item[i]['fcstValue']))\n",
    "\n",
    "for i in range(225) :\n",
    "        if item[i]['category']=='SKY' and item[i]['fcstDate']==tomorrow and item[i]['fcstTime']=='1800' :\n",
    "            SKYValueListSW.append(str(item[i]['fcstValue']))\n",
    "            \n",
    "for i in range(225) :\n",
    "        if item[i]['category']=='SKY' and item[i]['fcstDate']==aftTmr and item[i]['fcstTime']=='1800' :\n",
    "            SKYValueListSW.append(str(item[i]['fcstValue']))\n",
    "\n",
    "VECValueListSW = [] # 수원 풍향 상태 \n",
    "for i in range(225) :\n",
    "        if item[i]['category']=='VEC' and item[i]['fcstDate']==today and item[i]['fcstTime']=='1800' :\n",
    "            VECValueListSW.append(str(item[i]['fcstValue']))\n",
    "\n",
    "for i in range(225) :\n",
    "        if item[i]['category']=='VEC' and item[i]['fcstDate']==tomorrow and item[i]['fcstTime']=='1800' :\n",
    "            VECValueListSW.append(str(item[i]['fcstValue']))\n",
    "            \n",
    "for i in range(225) :\n",
    "        if item[i]['category']=='VEC' and item[i]['fcstDate']==aftTmr and item[i]['fcstTime']=='1800' :\n",
    "            VECValueListSW.append(str(item[i]['fcstValue']))    \n",
    "\n",
    "WSDValueListSW = [] # 수원 풍속 상태 \n",
    "for i in range(225) :\n",
    "        if item[i]['category']=='WSD' and item[i]['fcstDate']==today and item[i]['fcstTime']=='1800' :\n",
    "            WSDValueListSW.append(str(item[i]['fcstValue']))\n",
    "\n",
    "for i in range(225) :\n",
    "        if item[i]['category']=='WSD' and item[i]['fcstDate']==tomorrow and item[i]['fcstTime']=='1800' :\n",
    "            WSDValueListSW.append(str(item[i]['fcstValue']))\n",
    "            \n",
    "for i in range(225) :\n",
    "        if item[i]['category']=='WSD' and item[i]['fcstDate']==aftTmr and item[i]['fcstTime']=='1800' :\n",
    "            WSDValueListSW.append(str(item[i]['fcstValue']))    "
   ]
  },
  {
   "cell_type": "markdown",
   "metadata": {},
   "source": [
    "### 중기예보"
   ]
  },
  {
   "cell_type": "markdown",
   "metadata": {},
   "source": [
    "### 서울 기온 중기예보 (11B10101)"
   ]
  },
  {
   "cell_type": "code",
   "execution_count": 22,
   "metadata": {},
   "outputs": [],
   "source": [
    "# 중기예보\n",
    "# 기온\n",
    "key = \"wbqXO%2BaP6L04913iIX%2B9w8SpepZMxZG7rhqD22QOOgobPNhFZYPz0uRM5%2FdkgD3gsxC751E%2FvU1VTeL7rJCSeQ%3D%3D\"\n",
    "urlTemp = \"http://apis.data.go.kr/1360000/MidFcstInfoService/getMidTa?serviceKey={}&dataType=JSON&numOfRows=500&pageNo=1&regId=11B10101&tmFc=\".format(key)+today+\"0600\"\n",
    "content = requests.get(urlTemp).content\n",
    "jsonObj = json.loads(content)\n",
    "item = jsonObj['response']['body']['items']['item']"
   ]
  },
  {
   "cell_type": "code",
   "execution_count": 23,
   "metadata": {},
   "outputs": [],
   "source": [
    "T3HValueListSL.append(float((item[0]['taMax3']+item[0]['taMin3'])/2))\n",
    "T3HValueListSL.append(float((item[0]['taMax4']+item[0]['taMin4'])/2))\n",
    "T3HValueListSL.append(float((item[0]['taMax5']+item[0]['taMin5'])/2))\n",
    "T3HValueListSL.append(float((item[0]['taMax6']+item[0]['taMin6'])/2))"
   ]
  },
  {
   "cell_type": "markdown",
   "metadata": {},
   "source": [
    "### 광주 기온 중기예보 (11F20501)"
   ]
  },
  {
   "cell_type": "code",
   "execution_count": 24,
   "metadata": {},
   "outputs": [],
   "source": [
    "# 중기예보\n",
    "# 기온\n",
    "key = \"wbqXO%2BaP6L04913iIX%2B9w8SpepZMxZG7rhqD22QOOgobPNhFZYPz0uRM5%2FdkgD3gsxC751E%2FvU1VTeL7rJCSeQ%3D%3D\"\n",
    "urlTemp = \"http://apis.data.go.kr/1360000/MidFcstInfoService/getMidTa?serviceKey={}&dataType=JSON&numOfRows=500&pageNo=1&regId=11F20501&tmFc=\".format(key)+today+\"0600\"\n",
    "content = requests.get(urlTemp).content\n",
    "jsonObj = json.loads(content)\n",
    "item = jsonObj['response']['body']['items']['item']"
   ]
  },
  {
   "cell_type": "code",
   "execution_count": 25,
   "metadata": {},
   "outputs": [],
   "source": [
    "T3HValueListGJ.append(float((item[0]['taMax3']+item[0]['taMin3'])/2))\n",
    "T3HValueListGJ.append(float((item[0]['taMax4']+item[0]['taMin4'])/2))\n",
    "T3HValueListGJ.append(float((item[0]['taMax5']+item[0]['taMin5'])/2))\n",
    "T3HValueListGJ.append(float((item[0]['taMax6']+item[0]['taMin6'])/2))"
   ]
  },
  {
   "cell_type": "markdown",
   "metadata": {},
   "source": [
    "### 부산 기온 중기예보 (11H20101)"
   ]
  },
  {
   "cell_type": "code",
   "execution_count": 26,
   "metadata": {},
   "outputs": [],
   "source": [
    "# 중기예보\n",
    "# 기온\n",
    "key = \"wbqXO%2BaP6L04913iIX%2B9w8SpepZMxZG7rhqD22QOOgobPNhFZYPz0uRM5%2FdkgD3gsxC751E%2FvU1VTeL7rJCSeQ%3D%3D\"\n",
    "urlTemp = \"http://apis.data.go.kr/1360000/MidFcstInfoService/getMidTa?serviceKey={}&dataType=JSON&numOfRows=500&pageNo=1&regId=11H20101&tmFc=\".format(key)+today+\"0600\"\n",
    "content = requests.get(urlTemp).content\n",
    "jsonObj = json.loads(content)\n",
    "item = jsonObj['response']['body']['items']['item']"
   ]
  },
  {
   "cell_type": "code",
   "execution_count": 27,
   "metadata": {},
   "outputs": [],
   "source": [
    "T3HValueListBS.append(float((item[0]['taMax3']+item[0]['taMin3'])/2))\n",
    "T3HValueListBS.append(float((item[0]['taMax4']+item[0]['taMin4'])/2))\n",
    "T3HValueListBS.append(float((item[0]['taMax5']+item[0]['taMin5'])/2))\n",
    "T3HValueListBS.append(float((item[0]['taMax6']+item[0]['taMin6'])/2))"
   ]
  },
  {
   "cell_type": "markdown",
   "metadata": {},
   "source": [
    "### 창원 기온 중기예보 (11H20301)"
   ]
  },
  {
   "cell_type": "code",
   "execution_count": 28,
   "metadata": {},
   "outputs": [],
   "source": [
    "# 중기예보\n",
    "# 기온\n",
    "key = \"wbqXO%2BaP6L04913iIX%2B9w8SpepZMxZG7rhqD22QOOgobPNhFZYPz0uRM5%2FdkgD3gsxC751E%2FvU1VTeL7rJCSeQ%3D%3D\"\n",
    "urlTemp = \"http://apis.data.go.kr/1360000/MidFcstInfoService/getMidTa?serviceKey={}&dataType=JSON&numOfRows=500&pageNo=1&regId=11H20301&tmFc=\".format(key)+today+\"0600\"\n",
    "content = requests.get(urlTemp).content\n",
    "jsonObj = json.loads(content)\n",
    "item = jsonObj['response']['body']['items']['item']"
   ]
  },
  {
   "cell_type": "code",
   "execution_count": 29,
   "metadata": {},
   "outputs": [],
   "source": [
    "T3HValueListCW.append(float((item[0]['taMax3']+item[0]['taMin3'])/2))\n",
    "T3HValueListCW.append(float((item[0]['taMax4']+item[0]['taMin4'])/2))\n",
    "T3HValueListCW.append(float((item[0]['taMax5']+item[0]['taMin5'])/2))\n",
    "T3HValueListCW.append(float((item[0]['taMax6']+item[0]['taMin6'])/2))"
   ]
  },
  {
   "cell_type": "markdown",
   "metadata": {},
   "source": [
    "### 인천 기온 중기예보 (11B20201)"
   ]
  },
  {
   "cell_type": "code",
   "execution_count": 30,
   "metadata": {},
   "outputs": [],
   "source": [
    "# 중기예보\n",
    "# 기온\n",
    "key = \"wbqXO%2BaP6L04913iIX%2B9w8SpepZMxZG7rhqD22QOOgobPNhFZYPz0uRM5%2FdkgD3gsxC751E%2FvU1VTeL7rJCSeQ%3D%3D\"\n",
    "urlTemp = \"http://apis.data.go.kr/1360000/MidFcstInfoService/getMidTa?serviceKey={}&dataType=JSON&numOfRows=500&pageNo=1&regId=11B20201&tmFc=\".format(key)+today+\"0600\"\n",
    "content = requests.get(urlTemp).content\n",
    "jsonObj = json.loads(content)\n",
    "item = jsonObj['response']['body']['items']['item']"
   ]
  },
  {
   "cell_type": "code",
   "execution_count": 31,
   "metadata": {},
   "outputs": [],
   "source": [
    "T3HValueListIC.append(float((item[0]['taMax3']+item[0]['taMin3'])/2))\n",
    "T3HValueListIC.append(float((item[0]['taMax4']+item[0]['taMin4'])/2))\n",
    "T3HValueListIC.append(float((item[0]['taMax5']+item[0]['taMin5'])/2))\n",
    "T3HValueListIC.append(float((item[0]['taMax6']+item[0]['taMin6'])/2))"
   ]
  },
  {
   "cell_type": "markdown",
   "metadata": {},
   "source": [
    "### 대전 기온 중기 예보 (11C20401)"
   ]
  },
  {
   "cell_type": "code",
   "execution_count": 32,
   "metadata": {},
   "outputs": [],
   "source": [
    "# 중기예보\n",
    "# 기온\n",
    "key = \"wbqXO%2BaP6L04913iIX%2B9w8SpepZMxZG7rhqD22QOOgobPNhFZYPz0uRM5%2FdkgD3gsxC751E%2FvU1VTeL7rJCSeQ%3D%3D\"\n",
    "urlTemp = \"http://apis.data.go.kr/1360000/MidFcstInfoService/getMidTa?serviceKey={}&dataType=JSON&numOfRows=500&pageNo=1&regId=11C20401&tmFc=\".format(key)+today+\"0600\"\n",
    "content = requests.get(urlTemp).content\n",
    "jsonObj = json.loads(content)\n",
    "item = jsonObj['response']['body']['items']['item']"
   ]
  },
  {
   "cell_type": "code",
   "execution_count": 33,
   "metadata": {},
   "outputs": [],
   "source": [
    "T3HValueListDJ.append(float((item[0]['taMax3']+item[0]['taMin3'])/2))\n",
    "T3HValueListDJ.append(float((item[0]['taMax4']+item[0]['taMin4'])/2))\n",
    "T3HValueListDJ.append(float((item[0]['taMax5']+item[0]['taMin5'])/2))\n",
    "T3HValueListDJ.append(float((item[0]['taMax6']+item[0]['taMin6'])/2))"
   ]
  },
  {
   "cell_type": "markdown",
   "metadata": {},
   "source": [
    "### 대구 기온 중기 예보 (11H10701)"
   ]
  },
  {
   "cell_type": "code",
   "execution_count": 34,
   "metadata": {},
   "outputs": [],
   "source": [
    "# 중기예보\n",
    "# 기온\n",
    "key = \"wbqXO%2BaP6L04913iIX%2B9w8SpepZMxZG7rhqD22QOOgobPNhFZYPz0uRM5%2FdkgD3gsxC751E%2FvU1VTeL7rJCSeQ%3D%3D\"\n",
    "urlTemp = \"http://apis.data.go.kr/1360000/MidFcstInfoService/getMidTa?serviceKey={}&dataType=JSON&numOfRows=500&pageNo=1&regId=11H10701&tmFc=\".format(key)+today+\"0600\"\n",
    "content = requests.get(urlTemp).content\n",
    "jsonObj = json.loads(content)\n",
    "item = jsonObj['response']['body']['items']['item']"
   ]
  },
  {
   "cell_type": "code",
   "execution_count": 35,
   "metadata": {},
   "outputs": [],
   "source": [
    "T3HValueListDG.append(float((item[0]['taMax3']+item[0]['taMin3'])/2))\n",
    "T3HValueListDG.append(float((item[0]['taMax4']+item[0]['taMin4'])/2))\n",
    "T3HValueListDG.append(float((item[0]['taMax5']+item[0]['taMin5'])/2))\n",
    "T3HValueListDG.append(float((item[0]['taMax6']+item[0]['taMin6'])/2))"
   ]
  },
  {
   "cell_type": "markdown",
   "metadata": {},
   "source": [
    "### 수원 기온 중기 예보 (11B20601)"
   ]
  },
  {
   "cell_type": "code",
   "execution_count": 36,
   "metadata": {},
   "outputs": [],
   "source": [
    "# 중기예보\n",
    "# 기온\n",
    "key = \"wbqXO%2BaP6L04913iIX%2B9w8SpepZMxZG7rhqD22QOOgobPNhFZYPz0uRM5%2FdkgD3gsxC751E%2FvU1VTeL7rJCSeQ%3D%3D\"\n",
    "urlTemp = \"http://apis.data.go.kr/1360000/MidFcstInfoService/getMidTa?serviceKey={}&dataType=JSON&numOfRows=500&pageNo=1&regId=11B20601&tmFc=\".format(key)+today+\"0600\"\n",
    "content = requests.get(urlTemp).content\n",
    "jsonObj = json.loads(content)\n",
    "item = jsonObj['response']['body']['items']['item']"
   ]
  },
  {
   "cell_type": "code",
   "execution_count": 37,
   "metadata": {},
   "outputs": [],
   "source": [
    "T3HValueListSW.append(float((item[0]['taMax3']+item[0]['taMin3'])/2))\n",
    "T3HValueListSW.append(float((item[0]['taMax4']+item[0]['taMin4'])/2))\n",
    "T3HValueListSW.append(float((item[0]['taMax5']+item[0]['taMin5'])/2))\n",
    "T3HValueListSW.append(float((item[0]['taMax6']+item[0]['taMin6'])/2))"
   ]
  },
  {
   "cell_type": "markdown",
   "metadata": {},
   "source": [
    "### 강수확률 중기 예보"
   ]
  },
  {
   "cell_type": "markdown",
   "metadata": {},
   "source": [
    "### 서울 강수확률 중기예보 (11B10101)"
   ]
  },
  {
   "cell_type": "code",
   "execution_count": 38,
   "metadata": {},
   "outputs": [
    {
     "data": {
      "text/plain": [
       "'http://apis.data.go.kr/1360000/MidFcstInfoService/getMidTa?serviceKey=wbqXO%2BaP6L04913iIX%2B9w8SpepZMxZG7rhqD22QOOgobPNhFZYPz0uRM5%2FdkgD3gsxC751E%2FvU1VTeL7rJCSeQ%3D%3D&dataType=JSON&numOfRows=500&pageNo=1&regId=11B20601&tmFc=202105190600'"
      ]
     },
     "execution_count": 38,
     "metadata": {},
     "output_type": "execute_result"
    }
   ],
   "source": [
    "urlTemp"
   ]
  },
  {
   "cell_type": "code",
   "execution_count": 39,
   "metadata": {},
   "outputs": [
    {
     "data": {
      "text/plain": [
       "[{'regId': '11B10101',\n",
       "  'rnSt3Am': 0,\n",
       "  'rnSt3Pm': 0,\n",
       "  'rnSt4Am': 0,\n",
       "  'rnSt4Pm': 0,\n",
       "  'rnSt5Am': 0,\n",
       "  'rnSt5Pm': 0,\n",
       "  'rnSt6Am': 0,\n",
       "  'rnSt6Pm': 0,\n",
       "  'rnSt7Am': 0,\n",
       "  'rnSt7Pm': 0,\n",
       "  'rnSt8': 0,\n",
       "  'rnSt9': 0,\n",
       "  'rnSt10': 0,\n",
       "  'wf3Am': '',\n",
       "  'wf3Pm': '',\n",
       "  'wf4Am': '',\n",
       "  'wf4Pm': '',\n",
       "  'wf5Am': '',\n",
       "  'wf5Pm': '',\n",
       "  'wf6Am': '',\n",
       "  'wf6Pm': '',\n",
       "  'wf7Am': '',\n",
       "  'wf7Pm': '',\n",
       "  'wf8': '',\n",
       "  'wf9': '',\n",
       "  'wf10': ''}]"
      ]
     },
     "execution_count": 39,
     "metadata": {},
     "output_type": "execute_result"
    }
   ],
   "source": [
    "# 중기예보\n",
    "# 강수확률\n",
    "key = \"wbqXO%2BaP6L04913iIX%2B9w8SpepZMxZG7rhqD22QOOgobPNhFZYPz0uRM5%2FdkgD3gsxC751E%2FvU1VTeL7rJCSeQ%3D%3D\"\n",
    "urlTemp = \"http://apis.data.go.kr/1360000/MidFcstInfoService/getMidLandFcst?serviceKey={}&dataType=JSON&numOfRows=500&pageNo=1&regId=11B10101&tmFc=\".format(key)+today+\"0600\"\n",
    "content = requests.get(urlTemp).content\n",
    "jsonObj = json.loads(content)\n",
    "item = jsonObj['response']['body']['items']['item']\n",
    "item"
   ]
  },
  {
   "cell_type": "code",
   "execution_count": 40,
   "metadata": {},
   "outputs": [],
   "source": [
    "POPValueListSL.append(float(item[0]['rnSt3Pm']))\n",
    "POPValueListSL.append(float(item[0]['rnSt4Pm']))\n",
    "POPValueListSL.append(float(item[0]['rnSt5Pm']))\n",
    "POPValueListSL.append(float(item[0]['rnSt6Pm']))"
   ]
  },
  {
   "cell_type": "markdown",
   "metadata": {},
   "source": [
    "### 광주 강수확률 중기예보 (11F20501)"
   ]
  },
  {
   "cell_type": "code",
   "execution_count": 41,
   "metadata": {},
   "outputs": [],
   "source": [
    "# 중기예보\n",
    "# 강수확률\n",
    "key = \"wbqXO%2BaP6L04913iIX%2B9w8SpepZMxZG7rhqD22QOOgobPNhFZYPz0uRM5%2FdkgD3gsxC751E%2FvU1VTeL7rJCSeQ%3D%3D\"\n",
    "urlTemp = \"http://apis.data.go.kr/1360000/MidFcstInfoService/getMidLandFcst?serviceKey={}&dataType=JSON&numOfRows=500&pageNo=1&regId=11F20501&tmFc=\".format(key)+today+\"0600\"\n",
    "content = requests.get(urlTemp).content\n",
    "jsonObj = json.loads(content)\n",
    "item = jsonObj['response']['body']['items']['item']"
   ]
  },
  {
   "cell_type": "code",
   "execution_count": 42,
   "metadata": {},
   "outputs": [],
   "source": [
    "POPValueListGJ.append(float(item[0]['rnSt3Pm']))\n",
    "POPValueListGJ.append(float(item[0]['rnSt4Pm']))\n",
    "POPValueListGJ.append(float(item[0]['rnSt5Pm']))\n",
    "POPValueListGJ.append(float(item[0]['rnSt6Pm']))"
   ]
  },
  {
   "cell_type": "markdown",
   "metadata": {},
   "source": [
    "### 부산 강수확률 중기예보 (11H20201)"
   ]
  },
  {
   "cell_type": "code",
   "execution_count": 43,
   "metadata": {},
   "outputs": [],
   "source": [
    "# 중기예보\n",
    "# 강수확률\n",
    "key = \"wbqXO%2BaP6L04913iIX%2B9w8SpepZMxZG7rhqD22QOOgobPNhFZYPz0uRM5%2FdkgD3gsxC751E%2FvU1VTeL7rJCSeQ%3D%3D\"\n",
    "urlTemp = \"http://apis.data.go.kr/1360000/MidFcstInfoService/getMidLandFcst?serviceKey={}&dataType=JSON&numOfRows=500&pageNo=1&regId=11H20201&tmFc=\".format(key)+today+\"0600\"\n",
    "content = requests.get(urlTemp).content\n",
    "jsonObj = json.loads(content)\n",
    "item = jsonObj['response']['body']['items']['item']"
   ]
  },
  {
   "cell_type": "code",
   "execution_count": 44,
   "metadata": {},
   "outputs": [],
   "source": [
    "POPValueListBS.append(float(item[0]['rnSt3Pm']))\n",
    "POPValueListBS.append(float(item[0]['rnSt4Pm']))\n",
    "POPValueListBS.append(float(item[0]['rnSt5Pm']))\n",
    "POPValueListBS.append(float(item[0]['rnSt6Pm']))"
   ]
  },
  {
   "cell_type": "markdown",
   "metadata": {},
   "source": [
    "### 창원 강수확률 중기예보 (11H20301)"
   ]
  },
  {
   "cell_type": "code",
   "execution_count": 45,
   "metadata": {},
   "outputs": [],
   "source": [
    "# 중기예보\n",
    "# 강수확률\n",
    "key = \"wbqXO%2BaP6L04913iIX%2B9w8SpepZMxZG7rhqD22QOOgobPNhFZYPz0uRM5%2FdkgD3gsxC751E%2FvU1VTeL7rJCSeQ%3D%3D\"\n",
    "urlTemp = \"http://apis.data.go.kr/1360000/MidFcstInfoService/getMidLandFcst?serviceKey={}&dataType=JSON&numOfRows=500&pageNo=1&regId=11H20301&tmFc=\".format(key)+today+\"0600\"\n",
    "content = requests.get(urlTemp).content\n",
    "jsonObj = json.loads(content)\n",
    "item = jsonObj['response']['body']['items']['item']"
   ]
  },
  {
   "cell_type": "code",
   "execution_count": 46,
   "metadata": {},
   "outputs": [],
   "source": [
    "POPValueListCW.append(float(item[0]['rnSt3Pm']))\n",
    "POPValueListCW.append(float(item[0]['rnSt4Pm']))\n",
    "POPValueListCW.append(float(item[0]['rnSt5Pm']))\n",
    "POPValueListCW.append(float(item[0]['rnSt6Pm']))"
   ]
  },
  {
   "cell_type": "markdown",
   "metadata": {},
   "source": [
    "### 인천 강수확률 중기예보 (11B20201)"
   ]
  },
  {
   "cell_type": "code",
   "execution_count": 47,
   "metadata": {},
   "outputs": [],
   "source": [
    "# 중기예보\n",
    "# 강수확률\n",
    "key = \"wbqXO%2BaP6L04913iIX%2B9w8SpepZMxZG7rhqD22QOOgobPNhFZYPz0uRM5%2FdkgD3gsxC751E%2FvU1VTeL7rJCSeQ%3D%3D\"\n",
    "urlTemp = \"http://apis.data.go.kr/1360000/MidFcstInfoService/getMidLandFcst?serviceKey={}&dataType=JSON&numOfRows=500&pageNo=1&regId=11B20201&tmFc=\".format(key)+today+\"0600\"\n",
    "content = requests.get(urlTemp).content\n",
    "jsonObj = json.loads(content)\n",
    "item = jsonObj['response']['body']['items']['item']"
   ]
  },
  {
   "cell_type": "code",
   "execution_count": 48,
   "metadata": {},
   "outputs": [],
   "source": [
    "POPValueListIC.append(float(item[0]['rnSt3Pm']))\n",
    "POPValueListIC.append(float(item[0]['rnSt4Pm']))\n",
    "POPValueListIC.append(float(item[0]['rnSt5Pm']))\n",
    "POPValueListIC.append(float(item[0]['rnSt6Pm']))"
   ]
  },
  {
   "cell_type": "markdown",
   "metadata": {},
   "source": [
    "### 대전 강수확률 중기예보 (11C20401)"
   ]
  },
  {
   "cell_type": "code",
   "execution_count": 49,
   "metadata": {},
   "outputs": [],
   "source": [
    "# 중기예보\n",
    "# 강수확률\n",
    "key = \"wbqXO%2BaP6L04913iIX%2B9w8SpepZMxZG7rhqD22QOOgobPNhFZYPz0uRM5%2FdkgD3gsxC751E%2FvU1VTeL7rJCSeQ%3D%3D\"\n",
    "urlTemp = \"http://apis.data.go.kr/1360000/MidFcstInfoService/getMidLandFcst?serviceKey={}&dataType=JSON&numOfRows=500&pageNo=1&regId=11C20401&tmFc=\".format(key)+today+\"0600\"\n",
    "content = requests.get(urlTemp).content\n",
    "jsonObj = json.loads(content)\n",
    "item = jsonObj['response']['body']['items']['item']"
   ]
  },
  {
   "cell_type": "code",
   "execution_count": 50,
   "metadata": {},
   "outputs": [],
   "source": [
    "POPValueListDJ.append(float(item[0]['rnSt3Pm']))\n",
    "POPValueListDJ.append(float(item[0]['rnSt4Pm']))\n",
    "POPValueListDJ.append(float(item[0]['rnSt5Pm']))\n",
    "POPValueListDJ.append(float(item[0]['rnSt6Pm']))"
   ]
  },
  {
   "cell_type": "markdown",
   "metadata": {},
   "source": [
    "### 대구 강수확률 중기예보 (11H10701)"
   ]
  },
  {
   "cell_type": "code",
   "execution_count": 51,
   "metadata": {},
   "outputs": [],
   "source": [
    "# 중기예보\n",
    "# 강수확률\n",
    "key = \"wbqXO%2BaP6L04913iIX%2B9w8SpepZMxZG7rhqD22QOOgobPNhFZYPz0uRM5%2FdkgD3gsxC751E%2FvU1VTeL7rJCSeQ%3D%3D\"\n",
    "urlTemp = \"http://apis.data.go.kr/1360000/MidFcstInfoService/getMidLandFcst?serviceKey={}&dataType=JSON&numOfRows=500&pageNo=1&regId=11H10701&tmFc=\".format(key)+today+\"0600\"\n",
    "content = requests.get(urlTemp).content\n",
    "jsonObj = json.loads(content)\n",
    "item = jsonObj['response']['body']['items']['item']"
   ]
  },
  {
   "cell_type": "code",
   "execution_count": 52,
   "metadata": {},
   "outputs": [],
   "source": [
    "POPValueListDG.append(float(item[0]['rnSt3Pm']))\n",
    "POPValueListDG.append(float(item[0]['rnSt4Pm']))\n",
    "POPValueListDG.append(float(item[0]['rnSt5Pm']))\n",
    "POPValueListDG.append(float(item[0]['rnSt6Pm']))"
   ]
  },
  {
   "cell_type": "markdown",
   "metadata": {},
   "source": [
    "### 수원 강수확률 중기예보 (11B20601)"
   ]
  },
  {
   "cell_type": "code",
   "execution_count": 53,
   "metadata": {},
   "outputs": [],
   "source": [
    "# 중기예보\n",
    "# 강수확률\n",
    "key = \"wbqXO%2BaP6L04913iIX%2B9w8SpepZMxZG7rhqD22QOOgobPNhFZYPz0uRM5%2FdkgD3gsxC751E%2FvU1VTeL7rJCSeQ%3D%3D\"\n",
    "urlTemp = \"http://apis.data.go.kr/1360000/MidFcstInfoService/getMidLandFcst?serviceKey={}&dataType=JSON&numOfRows=500&pageNo=1&regId=11B20601&tmFc=\".format(key)+today+\"0600\"\n",
    "content = requests.get(urlTemp).content\n",
    "jsonObj = json.loads(content)\n",
    "item = jsonObj['response']['body']['items']['item']"
   ]
  },
  {
   "cell_type": "code",
   "execution_count": 54,
   "metadata": {},
   "outputs": [],
   "source": [
    "POPValueListSW.append(float(item[0]['rnSt3Pm']))\n",
    "POPValueListSW.append(float(item[0]['rnSt4Pm']))\n",
    "POPValueListSW.append(float(item[0]['rnSt5Pm']))\n",
    "POPValueListSW.append(float(item[0]['rnSt6Pm']))"
   ]
  },
  {
   "cell_type": "markdown",
   "metadata": {},
   "source": [
    "### 중기예보에 습도는 없으므로 0으로 값 채우기"
   ]
  },
  {
   "cell_type": "code",
   "execution_count": 55,
   "metadata": {},
   "outputs": [],
   "source": [
    "for i in range(1,5):\n",
    "    REHValueListSL.append(0)\n",
    "\n",
    "for i in range(1,5):\n",
    "    REHValueListGJ.append(0)\n",
    "    \n",
    "for i in range(1,5):\n",
    "    REHValueListBS.append(0)\n",
    "    \n",
    "for i in range(1,5):\n",
    "    REHValueListCW.append(0)\n",
    "    \n",
    "for i in range(1,5):\n",
    "    REHValueListIC.append(0)\n",
    "    \n",
    "for i in range(1,5):\n",
    "    REHValueListDJ.append(0)\n",
    "    \n",
    "for i in range(1,5):\n",
    "    REHValueListDG.append(0)\n",
    "    \n",
    "for i in range(1,5):\n",
    "    REHValueListSW.append(0)"
   ]
  },
  {
   "cell_type": "code",
   "execution_count": 56,
   "metadata": {},
   "outputs": [],
   "source": [
    "for i in range(4,8):\n",
    "    WSDValueListSL.append(0)\n",
    "\n",
    "for i in range(4,8):\n",
    "    WSDValueListGJ.append(0)\n",
    "    \n",
    "for i in range(4,8):\n",
    "    WSDValueListBS.append(0)\n",
    "    \n",
    "for i in range(4,8):\n",
    "    WSDValueListCW.append(0)\n",
    "    \n",
    "for i in range(4,8):\n",
    "    WSDValueListIC.append(0)\n",
    "    \n",
    "for i in range(4,8):\n",
    "    WSDValueListDJ.append(0)\n",
    "    \n",
    "for i in range(4,8):\n",
    "    WSDValueListDG.append(0)\n",
    "    \n",
    "for i in range(4,8):\n",
    "    WSDValueListSW.append(0)"
   ]
  },
  {
   "cell_type": "code",
   "execution_count": 57,
   "metadata": {},
   "outputs": [],
   "source": [
    "for i in range(4,8):\n",
    "    VECValueListSL.append(0)\n",
    "\n",
    "for i in range(4,8):\n",
    "    VECValueListGJ.append(0)\n",
    "    \n",
    "for i in range(4,8):\n",
    "    VECValueListBS.append(0)\n",
    "    \n",
    "for i in range(4,8):\n",
    "    VECValueListCW.append(0)\n",
    "    \n",
    "for i in range(4,8):\n",
    "    VECValueListIC.append(0)\n",
    "    \n",
    "for i in range(4,8):\n",
    "    VECValueListDJ.append(0)\n",
    "    \n",
    "for i in range(4,8):\n",
    "    VECValueListDG.append(0)\n",
    "    \n",
    "for i in range(4,8):\n",
    "    VECValueListSW.append(0)"
   ]
  },
  {
   "cell_type": "code",
   "execution_count": 58,
   "metadata": {},
   "outputs": [
    {
     "name": "stdout",
     "output_type": "stream",
     "text": [
      "[25.0, 21.0, 18.0, 19.5, 21.5, 21.5, 21.0]\n",
      "[40.0, 65.0, 65.0, 0, 0, 0, 0]\n",
      "[0.0, 30.0, 30.0, 0.0, 0.0, 0.0, 0.0]\n",
      "['1', '4', '4']\n",
      "['1.7', '1.9', '1.7', 0, 0, 0, 0]\n",
      "['260', '28', '287', 0, 0, 0, 0]\n",
      "[26.0, 18.0, 18.0, 20.0, 22.0, 22.5, 21.0]\n",
      "[50.0, 85.0, 65.0, 0, 0, 0, 0]\n",
      "[0.0, 60.0, 30.0, 0.0, 0.0, 0.0, 0.0]\n",
      "['1', '4', '4']\n",
      "['0.8', '2.8', '3.6', 0, 0, 0, 0]\n",
      "['277', '131', '307', 0, 0, 0, 0]\n",
      "[23.0, 17.0, 20.0, 20.0, 21.5, 21.0, 20.0]\n",
      "[55.0, 85.0, 60.0, 0, 0, 0, 0]\n",
      "[0.0, 64.0, 30.0, 0.0, 0.0, 0.0, 0.0]\n",
      "['1', '4', '4']\n",
      "['2.5', '2.5', '4.1', 0, 0, 0, 0]\n",
      "['196', '29', '257', 0, 0, 0, 0]\n",
      "[25.0, 18.0, 21.0, 20.0, 21.5, 21.0, 20.5]\n",
      "[55.0, 90.0, 60.0, 0, 0, 0, 0]\n",
      "[0.0, 60.0, 30.0, 0.0, 0.0, 0.0, 0.0]\n",
      "['1', '4', '4']\n",
      "['2.5', '1.6', '3.5', 0, 0, 0, 0]\n",
      "['194', '68', '292', 0, 0, 0, 0]\n",
      "[22.0, 20.0, 18.0, 18.5, 19.0, 19.0, 18.5]\n",
      "[50.0, 65.0, 70.0, 0, 0, 0, 0]\n",
      "[0.0, 60.0, 30.0, 0.0, 0.0, 0.0, 0.0]\n",
      "['1', '4', '4']\n",
      "['1.9', '3', '5.3', 0, 0, 0, 0]\n",
      "['264', '6', '280', 0, 0, 0, 0]\n",
      "[27.0, 18.0, 18.0, 19.5, 21.0, 21.0, 20.5]\n",
      "[40.0, 80.0, 70.0, 0, 0, 0, 0]\n",
      "[0.0, 61.0, 60.0, 0.0, 0.0, 0.0, 0.0]\n",
      "['1', '4', '4']\n",
      "['1.1', '4.4', '2.4', 0, 0, 0, 0]\n",
      "['34', '87', '294', 0, 0, 0, 0]\n",
      "[28.0, 18.0, 20.0, 20.5, 23.5, 23.0, 21.5]\n",
      "[35.0, 85.0, 60.0, 0, 0, 0, 0]\n",
      "[0.0, 60.0, 30.0, 0.0, 0.0, 0.0, 0.0]\n",
      "['1', '4', '4']\n",
      "['0.9', '3.7', '2.8', 0, 0, 0, 0]\n",
      "['6', '79', '300', 0, 0, 0, 0]\n",
      "[23.0, 19.0, 17.0, 18.5, 20.5, 20.5, 19.5]\n",
      "[45.0, 70.0, 70.0, 0, 0, 0, 0]\n",
      "[0.0, 60.0, 30.0, 0.0, 0.0, 0.0, 0.0]\n",
      "['1', '4', '4']\n",
      "['1.6', '1.7', '2.6', 0, 0, 0, 0]\n",
      "['281', '40', '272', 0, 0, 0, 0]\n"
     ]
    }
   ],
   "source": [
    "print(T3HValueListSL) #서울 기온\n",
    "print(REHValueListSL) #서울 습도\n",
    "print(POPValueListSL) #서울 강수확률\n",
    "print(SKYValueListSL)\n",
    "print(WSDValueListSL)\n",
    "print(VECValueListSL)\n",
    "#광주\n",
    "print(T3HValueListGJ)\n",
    "print(REHValueListGJ)\n",
    "print(POPValueListGJ)\n",
    "print(SKYValueListGJ)\n",
    "print(WSDValueListGJ)\n",
    "print(VECValueListGJ)\n",
    "#부산\n",
    "print(T3HValueListBS)\n",
    "print(REHValueListBS)\n",
    "print(POPValueListBS)\n",
    "print(SKYValueListBS)\n",
    "print(WSDValueListBS)\n",
    "print(VECValueListBS)\n",
    "\n",
    "#창원\n",
    "print(T3HValueListCW)\n",
    "print(REHValueListCW)\n",
    "print(POPValueListCW)\n",
    "print(SKYValueListCW)\n",
    "print(WSDValueListCW)\n",
    "print(VECValueListCW)\n",
    "\n",
    "#인천\n",
    "print(T3HValueListIC)\n",
    "print(REHValueListIC)\n",
    "print(POPValueListIC)\n",
    "print(SKYValueListIC)\n",
    "print(WSDValueListIC)\n",
    "print(VECValueListIC)\n",
    "\n",
    "#대전\n",
    "print(T3HValueListDJ)\n",
    "print(REHValueListDJ)\n",
    "print(POPValueListDJ)\n",
    "print(SKYValueListDJ)\n",
    "print(WSDValueListDJ)\n",
    "print(VECValueListDJ)\n",
    "\n",
    "#대구\n",
    "print(T3HValueListDG)\n",
    "print(REHValueListDG)\n",
    "print(POPValueListDG)\n",
    "print(SKYValueListDG)\n",
    "print(WSDValueListDG)\n",
    "print(VECValueListDG)\n",
    "\n",
    "#수원\n",
    "print(T3HValueListSW)\n",
    "print(REHValueListSW)\n",
    "print(POPValueListSW)\n",
    "print(SKYValueListSW)\n",
    "print(WSDValueListSW)\n",
    "print(VECValueListSW)"
   ]
  },
  {
   "cell_type": "code",
   "execution_count": 59,
   "metadata": {},
   "outputs": [],
   "source": [
    "# 데이터 넣기 쉽게 하기 위해서 이중배열 생성\n",
    "\n",
    "data_list = [[T3HValueListSL,REHValueListSL,POPValueListSL ,WSDValueListSL, VECValueListSL],\n",
    "             [T3HValueListGJ,REHValueListGJ,POPValueListGJ ,WSDValueListGJ, VECValueListGJ],\n",
    "             [T3HValueListBS,REHValueListBS,POPValueListBS ,WSDValueListBS, VECValueListBS],\n",
    "             [T3HValueListCW,REHValueListCW,POPValueListCW ,WSDValueListCW, VECValueListCW],\n",
    "             [T3HValueListIC,REHValueListIC,POPValueListIC ,WSDValueListIC, VECValueListIC],\n",
    "             [T3HValueListDJ,REHValueListDJ,POPValueListDJ ,WSDValueListDJ, VECValueListDJ],\n",
    "             [T3HValueListDG,REHValueListDG,POPValueListDG ,WSDValueListDG, VECValueListDG],\n",
    "             [T3HValueListSW,REHValueListSW,POPValueListSW ,WSDValueListSW, VECValueListSW]]"
   ]
  },
  {
   "cell_type": "code",
   "execution_count": 60,
   "metadata": {},
   "outputs": [
    {
     "data": {
      "text/plain": [
       "[[[25.0, 21.0, 18.0, 19.5, 21.5, 21.5, 21.0],\n",
       "  [40.0, 65.0, 65.0, 0, 0, 0, 0],\n",
       "  [0.0, 30.0, 30.0, 0.0, 0.0, 0.0, 0.0],\n",
       "  ['1.7', '1.9', '1.7', 0, 0, 0, 0],\n",
       "  ['260', '28', '287', 0, 0, 0, 0]],\n",
       " [[26.0, 18.0, 18.0, 20.0, 22.0, 22.5, 21.0],\n",
       "  [50.0, 85.0, 65.0, 0, 0, 0, 0],\n",
       "  [0.0, 60.0, 30.0, 0.0, 0.0, 0.0, 0.0],\n",
       "  ['0.8', '2.8', '3.6', 0, 0, 0, 0],\n",
       "  ['277', '131', '307', 0, 0, 0, 0]],\n",
       " [[23.0, 17.0, 20.0, 20.0, 21.5, 21.0, 20.0],\n",
       "  [55.0, 85.0, 60.0, 0, 0, 0, 0],\n",
       "  [0.0, 64.0, 30.0, 0.0, 0.0, 0.0, 0.0],\n",
       "  ['2.5', '2.5', '4.1', 0, 0, 0, 0],\n",
       "  ['196', '29', '257', 0, 0, 0, 0]],\n",
       " [[25.0, 18.0, 21.0, 20.0, 21.5, 21.0, 20.5],\n",
       "  [55.0, 90.0, 60.0, 0, 0, 0, 0],\n",
       "  [0.0, 60.0, 30.0, 0.0, 0.0, 0.0, 0.0],\n",
       "  ['2.5', '1.6', '3.5', 0, 0, 0, 0],\n",
       "  ['194', '68', '292', 0, 0, 0, 0]],\n",
       " [[22.0, 20.0, 18.0, 18.5, 19.0, 19.0, 18.5],\n",
       "  [50.0, 65.0, 70.0, 0, 0, 0, 0],\n",
       "  [0.0, 60.0, 30.0, 0.0, 0.0, 0.0, 0.0],\n",
       "  ['1.9', '3', '5.3', 0, 0, 0, 0],\n",
       "  ['264', '6', '280', 0, 0, 0, 0]],\n",
       " [[27.0, 18.0, 18.0, 19.5, 21.0, 21.0, 20.5],\n",
       "  [40.0, 80.0, 70.0, 0, 0, 0, 0],\n",
       "  [0.0, 61.0, 60.0, 0.0, 0.0, 0.0, 0.0],\n",
       "  ['1.1', '4.4', '2.4', 0, 0, 0, 0],\n",
       "  ['34', '87', '294', 0, 0, 0, 0]],\n",
       " [[28.0, 18.0, 20.0, 20.5, 23.5, 23.0, 21.5],\n",
       "  [35.0, 85.0, 60.0, 0, 0, 0, 0],\n",
       "  [0.0, 60.0, 30.0, 0.0, 0.0, 0.0, 0.0],\n",
       "  ['0.9', '3.7', '2.8', 0, 0, 0, 0],\n",
       "  ['6', '79', '300', 0, 0, 0, 0]],\n",
       " [[23.0, 19.0, 17.0, 18.5, 20.5, 20.5, 19.5],\n",
       "  [45.0, 70.0, 70.0, 0, 0, 0, 0],\n",
       "  [0.0, 60.0, 30.0, 0.0, 0.0, 0.0, 0.0],\n",
       "  ['1.6', '1.7', '2.6', 0, 0, 0, 0],\n",
       "  ['281', '40', '272', 0, 0, 0, 0]]]"
      ]
     },
     "execution_count": 60,
     "metadata": {},
     "output_type": "execute_result"
    }
   ],
   "source": [
    "data_list"
   ]
  },
  {
   "cell_type": "markdown",
   "metadata": {},
   "source": [
    "### 데이터 불러와서 모델 학습하기"
   ]
  },
  {
   "cell_type": "code",
   "execution_count": 61,
   "metadata": {},
   "outputs": [],
   "source": [
    "import pandas as pd\n",
    "pd.set_option('display.max_row', 500)\n",
    "pd.set_option('display.max_columns', 100)\n",
    "import numpy as np\n",
    "import matplotlib.pyplot as plt  # 그래프 그리는 라이브러리\n",
    "from sklearn.model_selection import train_test_split\n",
    "from sklearn import metrics  # 평가를 위한 라이브러리\n",
    "from sklearn.neighbors import KNeighborsClassifier\n",
    "from sklearn.model_selection import cross_val_score\n",
    "from sklearn.preprocessing import StandardScaler\n",
    "from sklearn.tree import DecisionTreeClassifier\n",
    "from sklearn.svm import SVC\n",
    "from xgboost import plot_importance\n",
    "from xgboost import XGBClassifier\n",
    "import seaborn as sns  # 시각화 라이브러리"
   ]
  },
  {
   "cell_type": "code",
   "execution_count": 62,
   "metadata": {},
   "outputs": [],
   "source": [
    "# 과거데이터 불러와서 학습하기\n",
    "KIA = pd.read_csv('data/KIA.csv', index_col = 'day_text') # 기아\n",
    "\n",
    "LG = pd.read_csv('data/LG.csv', index_col = 'day_text') # 엘지\n",
    "\n",
    "SK = pd.read_csv('data/SK.csv', index_col = 'day_text') # SK\n",
    "\n",
    "DS = pd.read_csv('data/DS.csv', index_col = 'day_text') # 두산\n",
    "\n",
    "KT = pd.read_csv('data/KT.csv', index_col = 'day_text') # KT\n",
    "\n",
    "NC = pd.read_csv('data/NC.csv', index_col = 'day_text') # NC\n",
    "\n",
    "SS = pd.read_csv('data/SS.csv', index_col = 'day_text') # 삼성\n",
    "\n",
    "HH = pd.read_csv('data/HH.csv', index_col = 'day_text') # 한화\n",
    "\n",
    "LT = pd.read_csv('data/LT.csv', index_col = 'day_text') # 롯데\n",
    "\n",
    "KW = pd.read_csv('data/KW.csv', index_col = 'day_text') # 키움\n"
   ]
  },
  {
   "cell_type": "code",
   "execution_count": 63,
   "metadata": {},
   "outputs": [],
   "source": [
    "KIA['rain'] = KIA['rain'].fillna('0').astype('float64')\n",
    "KIA['wind'] = KIA['wind'].fillna('0').astype('float64')\n",
    "KIA['d_wind'] = KIA['d_wind'].fillna('0').astype('float64')\n",
    "\n",
    "LG['rain'] = LG['rain'].fillna('0').astype('float64')\n",
    "LG['wind'] = LG['wind'].fillna('0').astype('float64')\n",
    "LG['d_wind'] = LG['d_wind'].fillna('0').astype('float64')\n",
    "\n",
    "SK['rain'] = SK['rain'].fillna('0').astype('float64')\n",
    "SK['wind'] = SK['wind'].fillna('0').astype('float64')\n",
    "SK['d_wind'] = SK['d_wind'].fillna('0').astype('float64')\n",
    "\n",
    "DS['rain'] = DS['rain'].fillna('0').astype('float64')\n",
    "DS['wind'] = DS['wind'].fillna('0').astype('float64')\n",
    "DS['d_wind'] = DS['d_wind'].fillna('0').astype('float64')\n",
    "\n",
    "KT['rain'] = KT['rain'].fillna('0').astype('float64')\n",
    "KT['wind'] = KT['wind'].fillna('0').astype('float64')\n",
    "KT['d_wind'] = KT['d_wind'].fillna('0').astype('float64')\n",
    "\n",
    "NC['rain'] = NC['rain'].fillna('0').astype('float64')\n",
    "NC['wind'] = NC['wind'].fillna('0').astype('float64')\n",
    "NC['d_wind'] = NC['d_wind'].fillna('0').astype('float64')\n",
    "\n",
    "SS['rain'] = SS['rain'].fillna('0').astype('float64')\n",
    "SS['wind'] = SS['wind'].fillna('0').astype('float64')\n",
    "SS['d_wind'] = SS['d_wind'].fillna('0').astype('float64')\n",
    "\n",
    "HH['rain'] = HH['rain'].fillna('0').astype('float64')\n",
    "HH['wind'] = HH['wind'].fillna('0').astype('float64')\n",
    "HH['d_wind'] = HH['d_wind'].fillna('0').astype('float64')\n",
    "\n",
    "LT['rain'] = LT['rain'].fillna('0').astype('float64')\n",
    "LT['wind'] = LT['wind'].fillna('0').astype('float64')\n",
    "LT['d_wind'] = LT['d_wind'].fillna('0').astype('float64')\n",
    "\n",
    "KW['rain'] = KW['rain'].fillna('0').astype('float64')\n",
    "KW['wind'] = KW['wind'].fillna('0').astype('float64')\n",
    "KW['d_wind'] = KW['d_wind'].fillna('0').astype('float64')\n"
   ]
  },
  {
   "cell_type": "code",
   "execution_count": 64,
   "metadata": {},
   "outputs": [],
   "source": [
    "# 모델링과 상관없는 데이터 드랍\n",
    "KIA.drop('team_text', axis = 1 , inplace = True)\n",
    "KIA.drop('time_text', axis = 1 , inplace = True)\n",
    "KIA.drop('location', axis = 1 , inplace = True)\n",
    "KIA.drop('surface', axis = 1 , inplace = True)\n",
    "KIA.drop('atmosphere', axis = 1 , inplace = True)\n",
    "KIA.drop('wind', axis = 1 , inplace = True)\n",
    "KIA.drop('d_wind', axis = 1 , inplace = True)\n",
    "\n",
    "LG.drop('team_text', axis = 1 , inplace = True)\n",
    "LG.drop('time_text', axis = 1 , inplace = True)\n",
    "LG.drop('location', axis = 1 , inplace = True)\n",
    "LG.drop('surface', axis = 1 , inplace = True)\n",
    "LG.drop('atmosphere', axis = 1 , inplace = True)\n",
    "LG.drop('wind', axis = 1 , inplace = True)\n",
    "LG.drop('d_wind', axis = 1 , inplace = True)\n",
    "\n",
    "SK.drop('team_text', axis = 1 , inplace = True)\n",
    "SK.drop('time_text', axis = 1 , inplace = True)\n",
    "SK.drop('location', axis = 1 , inplace = True)\n",
    "SK.drop('surface', axis = 1 , inplace = True)\n",
    "SK.drop('atmosphere', axis = 1 , inplace = True)\n",
    "SK.drop('wind', axis = 1 , inplace = True)\n",
    "SK.drop('d_wind', axis = 1 , inplace = True)\n",
    "\n",
    "DS.drop('team_text', axis = 1 , inplace = True)\n",
    "DS.drop('time_text', axis = 1 , inplace = True)\n",
    "DS.drop('location', axis = 1 , inplace = True)\n",
    "DS.drop('surface', axis = 1 , inplace = True)\n",
    "DS.drop('atmosphere', axis = 1 , inplace = True)\n",
    "DS.drop('wind', axis = 1 , inplace = True)\n",
    "DS.drop('d_wind', axis = 1 , inplace = True)\n",
    "\n",
    "KT.drop('team_text', axis = 1 , inplace = True)\n",
    "KT.drop('time_text', axis = 1 , inplace = True)\n",
    "KT.drop('location', axis = 1 , inplace = True)\n",
    "KT.drop('surface', axis = 1 , inplace = True)\n",
    "KT.drop('atmosphere', axis = 1 , inplace = True)\n",
    "KT.drop('wind', axis = 1 , inplace = True)\n",
    "KT.drop('d_wind', axis = 1 , inplace = True)\n",
    "\n",
    "NC.drop('team_text', axis = 1 , inplace = True)\n",
    "NC.drop('time_text', axis = 1 , inplace = True)\n",
    "NC.drop('location', axis = 1 , inplace = True)\n",
    "NC.drop('surface', axis = 1 , inplace = True)\n",
    "NC.drop('atmosphere', axis = 1 , inplace = True)\n",
    "NC.drop('wind', axis = 1 , inplace = True)\n",
    "NC.drop('d_wind', axis = 1 , inplace = True)\n",
    "\n",
    "SS.drop('team_text', axis = 1 , inplace = True)\n",
    "SS.drop('time_text', axis = 1 , inplace = True)\n",
    "SS.drop('location', axis = 1 , inplace = True)\n",
    "SS.drop('surface', axis = 1 , inplace = True)\n",
    "SS.drop('atmosphere', axis = 1 , inplace = True)\n",
    "SS.drop('wind', axis = 1 , inplace = True)\n",
    "SS.drop('d_wind', axis = 1 , inplace = True)\n",
    "\n",
    "HH.drop('team_text', axis = 1 , inplace = True)\n",
    "HH.drop('time_text', axis = 1 , inplace = True)\n",
    "HH.drop('location', axis = 1 , inplace = True)\n",
    "HH.drop('surface', axis = 1 , inplace = True)\n",
    "HH.drop('atmosphere', axis = 1 , inplace = True)\n",
    "HH.drop('wind', axis = 1 , inplace = True)\n",
    "HH.drop('d_wind', axis = 1 , inplace = True)\n",
    "\n",
    "LT.drop('team_text', axis = 1 , inplace = True)\n",
    "LT.drop('time_text', axis = 1 , inplace = True)\n",
    "LT.drop('location', axis = 1 , inplace = True)\n",
    "LT.drop('surface', axis = 1 , inplace = True)\n",
    "LT.drop('atmosphere', axis = 1 , inplace = True)\n",
    "LT.drop('wind', axis = 1 , inplace = True)\n",
    "LT.drop('d_wind', axis = 1 , inplace = True)\n",
    "\n",
    "KW.drop('team_text', axis = 1 , inplace = True)\n",
    "KW.drop('time_text', axis = 1 , inplace = True)\n",
    "KW.drop('location', axis = 1 , inplace = True)\n",
    "KW.drop('surface', axis = 1 , inplace = True)\n",
    "KW.drop('atmosphere', axis = 1 , inplace = True)\n",
    "KW.drop('wind', axis = 1 , inplace = True)\n",
    "KW.drop('d_wind', axis = 1 , inplace = True)"
   ]
  },
  {
   "cell_type": "markdown",
   "metadata": {},
   "source": [
    "### KIA 7 : 3 비율로 train, test 나누기"
   ]
  },
  {
   "cell_type": "code",
   "execution_count": 65,
   "metadata": {},
   "outputs": [],
   "source": [
    "X_KIA = KIA.drop('result_text',axis = 1)\n",
    "y_KIA = KIA['result_text']\n",
    "\n",
    "\n",
    "KIA_X_train, KIA_X_test, KIA_y_train, KIA_y_test = train_test_split(X_KIA,y_KIA,\n",
    "                                                  test_size = 0.3,\n",
    "                                                  stratify = y_KIA,\n",
    "                                                  random_state = 1)"
   ]
  },
  {
   "cell_type": "markdown",
   "metadata": {},
   "source": [
    "### LG 7 : 3 비율로 train, test 나누기"
   ]
  },
  {
   "cell_type": "code",
   "execution_count": 66,
   "metadata": {},
   "outputs": [],
   "source": [
    "X_LG = LG.drop('result_text',axis = 1)\n",
    "y_LG = LG['result_text']\n",
    "\n",
    "LG_X_train, LG_X_test, LG_y_train, LG_y_test = train_test_split(X_LG,y_LG,\n",
    "                                                  test_size = 0.3,\n",
    "                                                  stratify = y_LG,\n",
    "                                                  random_state = 1)"
   ]
  },
  {
   "cell_type": "markdown",
   "metadata": {},
   "source": [
    "### SK 7 : 3비율로 train, test 나누기"
   ]
  },
  {
   "cell_type": "code",
   "execution_count": 67,
   "metadata": {},
   "outputs": [],
   "source": [
    "X_SK = SK.drop('result_text',axis = 1)\n",
    "y_SK = SK['result_text']\n",
    "\n",
    "SK_X_train, SK_X_test, SK_y_train, SK_y_test = train_test_split(X_SK,y_SK,\n",
    "                                                  test_size = 0.3,\n",
    "                                                  stratify = y_SK,\n",
    "                                                  random_state = 1)"
   ]
  },
  {
   "cell_type": "markdown",
   "metadata": {},
   "source": [
    "### DS 7 : 3비율로 train, test 나누기"
   ]
  },
  {
   "cell_type": "code",
   "execution_count": 68,
   "metadata": {},
   "outputs": [],
   "source": [
    "X_DS = DS.drop('result_text',axis = 1)\n",
    "y_DS = DS['result_text']\n",
    "\n",
    "DS_X_train, DS_X_test, DS_y_train, DS_y_test = train_test_split(X_DS,y_DS,\n",
    "                                                  test_size = 0.3,\n",
    "                                                  stratify = y_DS,\n",
    "                                                  random_state = 1)"
   ]
  },
  {
   "cell_type": "markdown",
   "metadata": {},
   "source": [
    "### KT 7 : 3비율로 train, test 나누기"
   ]
  },
  {
   "cell_type": "code",
   "execution_count": 69,
   "metadata": {},
   "outputs": [],
   "source": [
    "X_KT = KT.drop('result_text',axis = 1)\n",
    "y_KT = KT['result_text']\n",
    "\n",
    "KT_X_train, KT_X_test, KT_y_train, KT_y_test = train_test_split(X_KT,y_KT,\n",
    "                                                  test_size = 0.3,\n",
    "                                                  stratify = y_KT,\n",
    "                                                  random_state = 1)"
   ]
  },
  {
   "cell_type": "markdown",
   "metadata": {},
   "source": [
    "### NC 7: 3 비율로 train, test 나누기"
   ]
  },
  {
   "cell_type": "code",
   "execution_count": 70,
   "metadata": {},
   "outputs": [],
   "source": [
    "X_NC = NC.drop('result_text',axis = 1)\n",
    "y_NC = NC['result_text']\n",
    "\n",
    "NC_X_train, NC_X_test, NC_y_train, NC_y_test = train_test_split(X_NC,y_NC,\n",
    "                                                  test_size = 0.3,\n",
    "                                                  stratify = y_NC,\n",
    "                                                  random_state = 1)"
   ]
  },
  {
   "cell_type": "markdown",
   "metadata": {},
   "source": [
    "### SS 7: 3 비율로 train, test 나누기"
   ]
  },
  {
   "cell_type": "code",
   "execution_count": 71,
   "metadata": {},
   "outputs": [],
   "source": [
    "X_SS = SS.drop('result_text',axis = 1)\n",
    "y_SS = SS['result_text']\n",
    "\n",
    "SS_X_train, SS_X_test, SS_y_train, SS_y_test = train_test_split(X_SS,y_SS,\n",
    "                                                  test_size = 0.3,\n",
    "                                                  stratify = y_SS,\n",
    "                                                  random_state = 1)"
   ]
  },
  {
   "cell_type": "markdown",
   "metadata": {},
   "source": [
    "### HH 7: 3 비율로 train, test 나누기"
   ]
  },
  {
   "cell_type": "code",
   "execution_count": 72,
   "metadata": {},
   "outputs": [],
   "source": [
    "X_HH = HH.drop('result_text',axis = 1)\n",
    "y_HH = HH['result_text']\n",
    "\n",
    "HH_X_train, HH_X_test, HH_y_train, HH_y_test = train_test_split(X_HH,y_HH,\n",
    "                                                  test_size = 0.3,\n",
    "                                                  stratify = y_HH,\n",
    "                                                  random_state = 1)"
   ]
  },
  {
   "cell_type": "markdown",
   "metadata": {},
   "source": [
    "### LT 7 : 3 비율로 train, test 나누기"
   ]
  },
  {
   "cell_type": "code",
   "execution_count": 73,
   "metadata": {},
   "outputs": [],
   "source": [
    "X_LT = LT.drop('result_text',axis = 1)\n",
    "y_LT = LT['result_text']\n",
    "\n",
    "LT_X_train, LT_X_test, LT_y_train, LT_y_test = train_test_split(X_LT,y_LT,\n",
    "                                                  test_size = 0.3,\n",
    "                                                  stratify = y_LT,\n",
    "                                                  random_state = 1)"
   ]
  },
  {
   "cell_type": "markdown",
   "metadata": {},
   "source": [
    "### KW 7 : 3 비율로 train, test 나누기"
   ]
  },
  {
   "cell_type": "code",
   "execution_count": 74,
   "metadata": {},
   "outputs": [],
   "source": [
    "X_KW = KW.drop('result_text',axis = 1)\n",
    "y_KW = KW['result_text']\n",
    "\n",
    "KW_X_train, KW_X_test, KW_y_train, KW_y_test = train_test_split(X_KW,y_KW,\n",
    "                                                  test_size = 0.3,\n",
    "                                                  stratify = y_KW,\n",
    "                                                  random_state = 1)"
   ]
  },
  {
   "cell_type": "markdown",
   "metadata": {},
   "source": [
    "### 라벨링 "
   ]
  },
  {
   "cell_type": "markdown",
   "metadata": {},
   "source": [
    "#KIA\n",
    "bins = [5,11,16,21,26,31,36,41]  # 구간 만들기\n",
    "labels = ['5~10', '10~15', '15~20', '20~25', '25~30', '30~35', '35~40']\n",
    "KIA['temp'] = pd.cut(KIA['temp'], bins = bins, labels = labels)\n",
    "#LG\n",
    "bins = [5,11,16,21,26,31,36,41]  # 구간 만들기\n",
    "labels = ['5~10', '10~15', '15~20', '20~25', '25~30', '30~35', '35~40']\n",
    "LG['temp'] = pd.cut(LG['temp'], bins = bins, labels = labels)\n",
    "#SK\n",
    "bins = [5,11,16,21,26,31,36,41]  # 구간 만들기\n",
    "labels = ['5~10', '10~15', '15~20', '20~25', '25~30', '30~35', '35~40']\n",
    "SK['temp'] = pd.cut(SK['temp'], bins = bins, labels = labels)\n",
    "#DS\n",
    "bins = [5,11,16,21,26,31,36,41]  # 구간 만들기\n",
    "labels = ['5~10', '10~15', '15~20', '20~25', '25~30', '30~35', '35~40']\n",
    "DS['temp'] = pd.cut(DS['temp'], bins = bins, labels = labels)\n",
    "#KT\n",
    "bins = [5,11,16,21,26,31,36,41]  # 구간 만들기\n",
    "labels = ['5~10', '10~15', '15~20', '20~25', '25~30', '30~35', '35~40']\n",
    "KT['temp'] = pd.cut(KT['temp'], bins = bins, labels = labels)\n",
    "#NC\n",
    "bins = [5,11,16,21,26,31,36,41]  # 구간 만들기\n",
    "labels = ['5~10', '10~15', '15~20', '20~25', '25~30', '30~35', '35~40']\n",
    "NC['temp'] = pd.cut(NC['temp'], bins = bins, labels = labels)\n",
    "#SS\n",
    "bins = [5,11,16,21,26,31,36,41]  # 구간 만들기\n",
    "labels = ['5~10', '10~15', '15~20', '20~25', '25~30', '30~35', '35~40']\n",
    "SS['temp'] = pd.cut(SS['temp'], bins = bins, labels = labels)\n",
    "#HH\n",
    "bins = [5,11,16,21,26,31,36,41]  # 구간 만들기\n",
    "labels = ['5~10', '10~15', '15~20', '20~25', '25~30', '30~35', '35~40']\n",
    "HH['temp'] = pd.cut(HH['temp'], bins = bins, labels = labels)\n",
    "#LT\n",
    "bins = [5,11,16,21,26,31,36,41]  # 구간 만들기\n",
    "labels = ['5~10', '10~15', '15~20', '20~25', '25~30', '30~35', '35~40']\n",
    "LT['temp'] = pd.cut(LT['temp'], bins = bins, labels = labels)\n",
    "#KW\n",
    "bins = [5,11,16,21,26,31,36,41]  # 구간 만들기\n",
    "labels = ['5~10', '10~15', '15~20', '20~25', '25~30', '30~35', '35~40']\n",
    "KW['temp'] = pd.cut(KW['temp'], bins = bins, labels = labels)"
   ]
  },
  {
   "cell_type": "code",
   "execution_count": 75,
   "metadata": {},
   "outputs": [
    {
     "data": {
      "text/plain": [
       "((740, 9), (318, 9), (740,), (318,))"
      ]
     },
     "execution_count": 75,
     "metadata": {},
     "output_type": "execute_result"
    }
   ],
   "source": [
    "KIA_X_train.shape, KIA_X_test.shape, KIA_y_train.shape, KIA_y_test.shape"
   ]
  },
  {
   "cell_type": "code",
   "execution_count": 76,
   "metadata": {},
   "outputs": [
    {
     "name": "stdout",
     "output_type": "stream",
     "text": [
      "<class 'pandas.core.frame.DataFrame'>\n",
      "Index: 740 entries, 7.25토 to 6.1목\n",
      "Data columns (total 9 columns):\n",
      " #   Column    Non-Null Count  Dtype  \n",
      "---  ------    --------------  -----  \n",
      " 0   H_text    740 non-null    int64  \n",
      " 1   HR_text   740 non-null    int64  \n",
      " 2   S_text    740 non-null    int64  \n",
      " 3   ST_text   740 non-null    int64  \n",
      " 4   DU_text   740 non-null    int64  \n",
      " 5   ER_text   740 non-null    int64  \n",
      " 6   temp      740 non-null    float64\n",
      " 7   rain      740 non-null    float64\n",
      " 8   humidity  740 non-null    int64  \n",
      "dtypes: float64(2), int64(7)\n",
      "memory usage: 57.8+ KB\n",
      "<class 'pandas.core.frame.DataFrame'>\n",
      "Index: 318 entries, 4.26수 to 9.1화\n",
      "Data columns (total 9 columns):\n",
      " #   Column    Non-Null Count  Dtype  \n",
      "---  ------    --------------  -----  \n",
      " 0   H_text    318 non-null    int64  \n",
      " 1   HR_text   318 non-null    int64  \n",
      " 2   S_text    318 non-null    int64  \n",
      " 3   ST_text   318 non-null    int64  \n",
      " 4   DU_text   318 non-null    int64  \n",
      " 5   ER_text   318 non-null    int64  \n",
      " 6   temp      318 non-null    float64\n",
      " 7   rain      318 non-null    float64\n",
      " 8   humidity  318 non-null    int64  \n",
      "dtypes: float64(2), int64(7)\n",
      "memory usage: 24.8+ KB\n"
     ]
    },
    {
     "data": {
      "text/plain": [
       "(None, None)"
      ]
     },
     "execution_count": 76,
     "metadata": {},
     "output_type": "execute_result"
    }
   ],
   "source": [
    "KIA_X_train.info(),KIA_X_test.info()"
   ]
  },
  {
   "cell_type": "markdown",
   "metadata": {},
   "source": [
    "#### SVM 모델로 학습하기 (팀별로 다른 모델 생성)"
   ]
  },
  {
   "cell_type": "code",
   "execution_count": 77,
   "metadata": {},
   "outputs": [],
   "source": [
    "KIA_xgb_model  = XGBClassifier(n_estimators = 3000, learning_rate = 0.001, max_depth = 5)\n",
    "LG_xgb_model = XGBClassifier(n_estimators = 3000, learning_rate = 0.001, max_depth = 5)\n",
    "SK_xgb_model = XGBClassifier(n_estimators = 3000, learning_rate = 0.001, max_depth = 5)\n",
    "DS_xgb_model = XGBClassifier(n_estimators = 3000, learning_rate = 0.001, max_depth = 5)\n",
    "KT_xgb_model = XGBClassifier(n_estimators = 3000, learning_rate = 0.001, max_depth = 5)\n",
    "NC_xgb_model = XGBClassifier(n_estimators = 3000, learning_rate = 0.001, max_depth = 5)\n",
    "SS_xgb_model = XGBClassifier(n_estimators = 3000, learning_rate = 0.001, max_depth = 5)\n",
    "HH_xgb_model = XGBClassifier(n_estimators = 3000, learning_rate = 0.001, max_depth = 5)\n",
    "LT_xgb_model = XGBClassifier(n_estimators = 3000, learning_rate = 0.001, max_depth = 5)\n",
    "KW_xgb_model = XGBClassifier(n_estimators = 3000, learning_rate = 0.001, max_depth = 5)"
   ]
  },
  {
   "cell_type": "code",
   "execution_count": 78,
   "metadata": {},
   "outputs": [
    {
     "name": "stdout",
     "output_type": "stream",
     "text": [
      "[15:17:57] WARNING: C:/Users/Administrator/workspace/xgboost-win64_release_1.4.0/src/learner.cc:1095: Starting in XGBoost 1.3.0, the default evaluation metric used with the objective 'binary:logistic' was changed from 'error' to 'logloss'. Explicitly set eval_metric if you'd like to restore the old behavior.\n"
     ]
    },
    {
     "name": "stderr",
     "output_type": "stream",
     "text": [
      "C:\\Users\\smhrd\\anaconda\\lib\\site-packages\\xgboost\\sklearn.py:1146: UserWarning: The use of label encoder in XGBClassifier is deprecated and will be removed in a future release. To remove this warning, do the following: 1) Pass option use_label_encoder=False when constructing XGBClassifier object; and 2) Encode your labels (y) as integers starting with 0, i.e. 0, 1, 2, ..., [num_class - 1].\n",
      "  warnings.warn(label_encoder_deprecation_msg, UserWarning)\n",
      "C:\\Users\\smhrd\\anaconda\\lib\\site-packages\\xgboost\\data.py:112: UserWarning: Use subset (sliced data) of np.ndarray is not recommended because it will generate extra copies and increase memory consumption\n",
      "  warnings.warn(\n"
     ]
    },
    {
     "name": "stdout",
     "output_type": "stream",
     "text": [
      "[15:17:59] WARNING: C:/Users/Administrator/workspace/xgboost-win64_release_1.4.0/src/learner.cc:1095: Starting in XGBoost 1.3.0, the default evaluation metric used with the objective 'binary:logistic' was changed from 'error' to 'logloss'. Explicitly set eval_metric if you'd like to restore the old behavior.\n",
      "[15:18:01] WARNING: C:/Users/Administrator/workspace/xgboost-win64_release_1.4.0/src/learner.cc:1095: Starting in XGBoost 1.3.0, the default evaluation metric used with the objective 'binary:logistic' was changed from 'error' to 'logloss'. Explicitly set eval_metric if you'd like to restore the old behavior.\n",
      "[15:18:02] WARNING: C:/Users/Administrator/workspace/xgboost-win64_release_1.4.0/src/learner.cc:1095: Starting in XGBoost 1.3.0, the default evaluation metric used with the objective 'binary:logistic' was changed from 'error' to 'logloss'. Explicitly set eval_metric if you'd like to restore the old behavior.\n",
      "[15:18:04] WARNING: C:/Users/Administrator/workspace/xgboost-win64_release_1.4.0/src/learner.cc:1095: Starting in XGBoost 1.3.0, the default evaluation metric used with the objective 'binary:logistic' was changed from 'error' to 'logloss'. Explicitly set eval_metric if you'd like to restore the old behavior.\n",
      "[15:18:06] WARNING: C:/Users/Administrator/workspace/xgboost-win64_release_1.4.0/src/learner.cc:1095: Starting in XGBoost 1.3.0, the default evaluation metric used with the objective 'binary:logistic' was changed from 'error' to 'logloss'. Explicitly set eval_metric if you'd like to restore the old behavior.\n",
      "[15:18:07] WARNING: C:/Users/Administrator/workspace/xgboost-win64_release_1.4.0/src/learner.cc:1095: Starting in XGBoost 1.3.0, the default evaluation metric used with the objective 'binary:logistic' was changed from 'error' to 'logloss'. Explicitly set eval_metric if you'd like to restore the old behavior.\n",
      "[15:18:09] WARNING: C:/Users/Administrator/workspace/xgboost-win64_release_1.4.0/src/learner.cc:1095: Starting in XGBoost 1.3.0, the default evaluation metric used with the objective 'binary:logistic' was changed from 'error' to 'logloss'. Explicitly set eval_metric if you'd like to restore the old behavior.\n",
      "[15:18:10] WARNING: C:/Users/Administrator/workspace/xgboost-win64_release_1.4.0/src/learner.cc:1095: Starting in XGBoost 1.3.0, the default evaluation metric used with the objective 'binary:logistic' was changed from 'error' to 'logloss'. Explicitly set eval_metric if you'd like to restore the old behavior.\n",
      "[15:18:12] WARNING: C:/Users/Administrator/workspace/xgboost-win64_release_1.4.0/src/learner.cc:1095: Starting in XGBoost 1.3.0, the default evaluation metric used with the objective 'binary:logistic' was changed from 'error' to 'logloss'. Explicitly set eval_metric if you'd like to restore the old behavior.\n"
     ]
    }
   ],
   "source": [
    "KIA_y_pred = KIA_xgb_model.fit(KIA_X_train, KIA_y_train).predict(KIA_X_test)\n",
    "LG_y_pred = LG_xgb_model.fit(LG_X_train, LG_y_train).predict(LG_X_test)\n",
    "SK_y_pred = SK_xgb_model.fit(SK_X_train, SK_y_train).predict(SK_X_test)\n",
    "DS_y_pred = DS_xgb_model.fit(DS_X_train, DS_y_train).predict(DS_X_test)\n",
    "KT_y_pred = KT_xgb_model.fit(KT_X_train, KT_y_train).predict(KT_X_test)\n",
    "NC_y_pred = NC_xgb_model.fit(NC_X_train, NC_y_train).predict(NC_X_test)\n",
    "SS_y_pred = SS_xgb_model.fit(SS_X_train, SS_y_train).predict(SS_X_test)\n",
    "HH_y_pred = HH_xgb_model.fit(HH_X_train, HH_y_train).predict(HH_X_test)\n",
    "LT_y_pred = LT_xgb_model.fit(LT_X_train, LT_y_train).predict(LT_X_test)\n",
    "KW_y_pred = KW_xgb_model.fit(KW_X_train, KW_y_train).predict(KW_X_test)"
   ]
  },
  {
   "cell_type": "code",
   "execution_count": 79,
   "metadata": {},
   "outputs": [
    {
     "name": "stdout",
     "output_type": "stream",
     "text": [
      "총 승패 갯수 318 에서 틀린 예측 갯수 : 95\n",
      "총 승패 갯수 321 에서 틀린 예측 갯수 : 92\n",
      "총 승패 갯수 321 에서 틀린 예측 갯수 : 94\n",
      "총 승패 갯수 321 에서 틀린 예측 갯수 : 83\n",
      "총 승패 갯수 224 에서 틀린 예측 갯수 : 81\n",
      "총 승패 갯수 284 에서 틀린 예측 갯수 : 77\n",
      "총 승패 갯수 320 에서 틀린 예측 갯수 : 92\n",
      "총 승패 갯수 322 에서 틀린 예측 갯수 : 100\n",
      "총 승패 갯수 318 에서 틀린 예측 갯수 : 100\n",
      "총 승패 갯수 325 에서 틀린 예측 갯수 : 93\n"
     ]
    }
   ],
   "source": [
    "print(\"총 승패 갯수 %d 에서 틀린 예측 갯수 : %d\" % (KIA_X_test.shape[0], (KIA_y_test != KIA_y_pred).sum()))\n",
    "print(\"총 승패 갯수 %d 에서 틀린 예측 갯수 : %d\" % (LG_X_test.shape[0], (LG_y_test != LG_y_pred).sum()))\n",
    "print(\"총 승패 갯수 %d 에서 틀린 예측 갯수 : %d\" % (SK_X_test.shape[0], (SK_y_test != SK_y_pred).sum()))\n",
    "print(\"총 승패 갯수 %d 에서 틀린 예측 갯수 : %d\" % (DS_X_test.shape[0], (DS_y_test != DS_y_pred).sum()))\n",
    "print(\"총 승패 갯수 %d 에서 틀린 예측 갯수 : %d\" % (KT_X_test.shape[0], (KT_y_test != KT_y_pred).sum()))\n",
    "print(\"총 승패 갯수 %d 에서 틀린 예측 갯수 : %d\" % (NC_X_test.shape[0], (NC_y_test != NC_y_pred).sum()))\n",
    "print(\"총 승패 갯수 %d 에서 틀린 예측 갯수 : %d\" % (SS_X_test.shape[0], (SS_y_test != SS_y_pred).sum()))\n",
    "print(\"총 승패 갯수 %d 에서 틀린 예측 갯수 : %d\" % (HH_X_test.shape[0], (HH_y_test != HH_y_pred).sum()))\n",
    "print(\"총 승패 갯수 %d 에서 틀린 예측 갯수 : %d\" % (LT_X_test.shape[0], (LT_y_test != LT_y_pred).sum()))\n",
    "print(\"총 승패 갯수 %d 에서 틀린 예측 갯수 : %d\" % (KW_X_test.shape[0], (KW_y_test != KW_y_pred).sum()))"
   ]
  },
  {
   "cell_type": "code",
   "execution_count": 80,
   "metadata": {},
   "outputs": [
    {
     "name": "stdout",
     "output_type": "stream",
     "text": [
      "예측 정확도: 0.70\n",
      "예측 정확도: 0.71\n",
      "예측 정확도: 0.71\n",
      "예측 정확도: 0.74\n",
      "예측 정확도: 0.64\n",
      "예측 정확도: 0.73\n",
      "예측 정확도: 0.71\n",
      "예측 정확도: 0.69\n",
      "예측 정확도: 0.69\n",
      "예측 정확도: 0.71\n",
      "0.7\n"
     ]
    }
   ],
   "source": [
    "print(\"예측 정확도: {:.2f}\".format(np.mean(KIA_y_pred == KIA_y_test)))\n",
    "print(\"예측 정확도: {:.2f}\".format(np.mean(LG_y_pred == LG_y_test)))\n",
    "print(\"예측 정확도: {:.2f}\".format(np.mean(SK_y_pred == SK_y_test)))\n",
    "print(\"예측 정확도: {:.2f}\".format(np.mean(DS_y_pred == DS_y_test)))\n",
    "print(\"예측 정확도: {:.2f}\".format(np.mean(KT_y_pred == KT_y_test)))\n",
    "print(\"예측 정확도: {:.2f}\".format(np.mean(NC_y_pred == NC_y_test)))\n",
    "print(\"예측 정확도: {:.2f}\".format(np.mean(SS_y_pred == SS_y_test)))\n",
    "print(\"예측 정확도: {:.2f}\".format(np.mean(HH_y_pred == HH_y_test)))\n",
    "print(\"예측 정확도: {:.2f}\".format(np.mean(LT_y_pred == LT_y_test)))\n",
    "print(\"예측 정확도: {:.2f}\".format(np.mean(KW_y_pred == KW_y_test)))\n",
    "winrate = np.mean(KIA_y_pred == KIA_y_test)\n",
    "print(round(winrate,2))"
   ]
  },
  {
   "cell_type": "code",
   "execution_count": 81,
   "metadata": {},
   "outputs": [],
   "source": [
    "# 각 팀별 기온 구간별 성적 평균값 넣어주는 이중 배열 생성 (기온 구간 4개)\n",
    "# 팀 이름 순서 (KIA, LG, SK, DU, KT, NC, SL, HE, GI, KH)\n",
    "#rain,wind,d_wind,humidity\n",
    "# 5도 ~ 15도\n",
    "temp_interval_1 = [[9.77,0.88,0.85,6.94,0.85,0.74],[9.36,0.81,0.76,6.73,0.93,0.73],[9.08,1.19,0.70,7.3,0.64,0.71],[9.65,0.67,0.96,6.80,0.85,0.72],[8.04,0.59,0.61,7.07,1.01,0.75],[8.95,0.9,0.98,0.71,7.54,0.67],[8.93,0.6,0.93,6.75,0.73,0.66],[8.25,0.67,0.55,7.5,1.04,0.89],[9.18,0.89,0.69,7.85,0.93,0.84,0.46],[9.28,0.96,0.68,7.64,0.69,0.82]]\n",
    "# 15도 ~ 25도\n",
    "temp_interval_2 = [[9.21,0.79,0.75,6.66,0.75,0.69],[9.34,0.65,0.75,6.86,0.75,0.66],[9.23,1.11,0.79,7.22,0.68,0.72],[10.05,0.97,0.73,6.17,0.85,0.63],[9.35,0.89,0.70,7.22,0.78,0.77],[9.38,0.96,0.86,0.77,7.10,0.66],[9.99,0.99,0.88,6.51,0.78,0.58],[8.98,0.75,0.61,7.41,0.79,0.73],[9.72,0.93,0.67,9.18,0.81,0.72,0.49],[9.57,1.01,0.8,72,0.73,0.71]]\n",
    "# 25도 ~ 35도\n",
    "temp_interval_3 = [[9.57,0.97,0.77,6.52,0.82,0.66],[9.75,0.74,0.78,6.51,0.76,0.70],[9.55,1.14,0.75,6.90,0.73,0.66],[10.01,0.93,0.76,5.65,0.83,0.52],[9.77,1.00,0.63,6.86,0.81,0.78],[9.84,1.05,0.84,0.84,6.76,0.68],[9.79,0.98,0.83,6.31,0.70,0.63],[9.59,0.84,0.61,0.98,0.87,0.66],[9.35,0.88,0.73,7.45,0.80,0.65,0.45],[10.03,1.11,0.89,6.97,0.64,0.80]]\n",
    "# 35도 ~ 45도\n",
    "temp_interval_4 = [[10.75,0.5,0.5,4.25,0.75,0.75],[12.3,12,0.9,6.5,1,0.7],[8.25,1.5,0.75,6.75,0,0.75],[10.75,0.75,0.37,6,0.5,0.25],[7,1.25,0.5,8.25,0.75,1.25],[13,3.33,1,1.33,7.33,0.33],[10.57,2,0.64,5.78,0.64,0.5],[10,0.8,0.4,7,0.8,0.4],[0,0,0,0,0,0],[11.6,1,0.8,5.6,0.8,0.8]]\n",
    "\n",
    "temp_total = [temp_interval_1,temp_interval_2,temp_interval_3,temp_interval_4]"
   ]
  },
  {
   "cell_type": "markdown",
   "metadata": {},
   "source": [
    "### 플라스크 서버 연동하기"
   ]
  },
  {
   "cell_type": "code",
   "execution_count": 82,
   "metadata": {},
   "outputs": [
    {
     "name": "stdout",
     "output_type": "stream",
     "text": [
      "Requirement already satisfied: flask in c:\\users\\smhrd\\anaconda\\lib\\site-packages (1.1.2)\n",
      "Requirement already satisfied: Werkzeug>=0.15 in c:\\users\\smhrd\\anaconda\\lib\\site-packages (from flask) (1.0.1)\n",
      "Requirement already satisfied: Jinja2>=2.10.1 in c:\\users\\smhrd\\anaconda\\lib\\site-packages (from flask) (2.11.2)\n",
      "Requirement already satisfied: click>=5.1 in c:\\users\\smhrd\\anaconda\\lib\\site-packages (from flask) (7.1.2)\n",
      "Requirement already satisfied: itsdangerous>=0.24 in c:\\users\\smhrd\\anaconda\\lib\\site-packages (from flask) (1.1.0)\n",
      "Requirement already satisfied: MarkupSafe>=0.23 in c:\\users\\smhrd\\anaconda\\lib\\site-packages (from Jinja2>=2.10.1->flask) (1.1.1)\n",
      "Requirement already satisfied: flask-cors in c:\\users\\smhrd\\anaconda\\lib\\site-packages (3.0.10)\n",
      "Requirement already satisfied: Six in c:\\users\\smhrd\\anaconda\\lib\\site-packages (from flask-cors) (1.15.0)\n",
      "Requirement already satisfied: Flask>=0.9 in c:\\users\\smhrd\\anaconda\\lib\\site-packages (from flask-cors) (1.1.2)\n",
      "Requirement already satisfied: Werkzeug>=0.15 in c:\\users\\smhrd\\anaconda\\lib\\site-packages (from Flask>=0.9->flask-cors) (1.0.1)\n",
      "Requirement already satisfied: click>=5.1 in c:\\users\\smhrd\\anaconda\\lib\\site-packages (from Flask>=0.9->flask-cors) (7.1.2)\n",
      "Requirement already satisfied: Jinja2>=2.10.1 in c:\\users\\smhrd\\anaconda\\lib\\site-packages (from Flask>=0.9->flask-cors) (2.11.2)\n",
      "Requirement already satisfied: itsdangerous>=0.24 in c:\\users\\smhrd\\anaconda\\lib\\site-packages (from Flask>=0.9->flask-cors) (1.1.0)\n",
      "Requirement already satisfied: MarkupSafe>=0.23 in c:\\users\\smhrd\\anaconda\\lib\\site-packages (from Jinja2>=2.10.1->Flask>=0.9->flask-cors) (1.1.1)\n"
     ]
    }
   ],
   "source": [
    "!pip install flask\n",
    "!pip install flask-cors"
   ]
  },
  {
   "cell_type": "code",
   "execution_count": 83,
   "metadata": {},
   "outputs": [],
   "source": [
    "import pickle # 데이터 저장/로딩을 위한 모듈\n",
    "import pandas as pd\n",
    "import numpy as np"
   ]
  },
  {
   "cell_type": "code",
   "execution_count": 84,
   "metadata": {},
   "outputs": [],
   "source": [
    "from flask import Flask, redirect, request, Response \n",
    "from flask_cors import CORS"
   ]
  },
  {
   "cell_type": "code",
   "execution_count": null,
   "metadata": {},
   "outputs": [
    {
     "name": "stdout",
     "output_type": "stream",
     "text": [
      " * Serving Flask app \"__main__\" (lazy loading)\n",
      " * Environment: production\n",
      "   WARNING: This is a development server. Do not use it in a production deployment.\n",
      "   Use a production WSGI server instead.\n",
      " * Debug mode: off\n"
     ]
    },
    {
     "name": "stderr",
     "output_type": "stream",
     "text": [
      " * Running on http://127.0.0.1:9005/ (Press CTRL+C to quit)\n"
     ]
    },
    {
     "name": "stdout",
     "output_type": "stream",
     "text": [
      "2021-05-19\n",
      "대전\n",
      "HE\n",
      "          H_text  HR_text  S_text  ST_text  DU_text  ER_text  temp  rain  \\\n",
      "day_text    9.59     0.84    0.61     0.98     0.87     0.66  27.0   0.0   \n",
      "\n",
      "          humidity  \n",
      "day_text      40.0  \n"
     ]
    },
    {
     "name": "stderr",
     "output_type": "stream",
     "text": [
      "C:\\Users\\smhrd\\anaconda\\lib\\site-packages\\xgboost\\sklearn.py:1146: UserWarning: The use of label encoder in XGBClassifier is deprecated and will be removed in a future release. To remove this warning, do the following: 1) Pass option use_label_encoder=False when constructing XGBClassifier object; and 2) Encode your labels (y) as integers starting with 0, i.e. 0, 1, 2, ..., [num_class - 1].\n",
      "  warnings.warn(label_encoder_deprecation_msg, UserWarning)\n",
      "127.0.0.1 - - [19/May/2021 23:16:53] \"\u001b[37mPOST /home HTTP/1.1\u001b[0m\" 200 -\n"
     ]
    },
    {
     "name": "stdout",
     "output_type": "stream",
     "text": [
      "0.69\n",
      "2021-05-19\n",
      "대전\n",
      "HE\n",
      "          H_text  HR_text  S_text  ST_text  DU_text  ER_text  temp  rain  \\\n",
      "day_text    9.59     0.84    0.61     0.98     0.87     0.66  27.0   0.0   \n",
      "\n",
      "          humidity  \n",
      "day_text      40.0  \n"
     ]
    },
    {
     "name": "stderr",
     "output_type": "stream",
     "text": [
      "C:\\Users\\smhrd\\anaconda\\lib\\site-packages\\xgboost\\sklearn.py:1146: UserWarning: The use of label encoder in XGBClassifier is deprecated and will be removed in a future release. To remove this warning, do the following: 1) Pass option use_label_encoder=False when constructing XGBClassifier object; and 2) Encode your labels (y) as integers starting with 0, i.e. 0, 1, 2, ..., [num_class - 1].\n",
      "  warnings.warn(label_encoder_deprecation_msg, UserWarning)\n",
      "127.0.0.1 - - [19/May/2021 23:17:24] \"\u001b[37mPOST /home HTTP/1.1\u001b[0m\" 200 -\n"
     ]
    },
    {
     "name": "stdout",
     "output_type": "stream",
     "text": [
      "0.69\n",
      "2021-05-19\n",
      "대전\n",
      "HE\n",
      "          H_text  HR_text  S_text  ST_text  DU_text  ER_text  temp  rain  \\\n",
      "day_text    9.59     0.84    0.61     0.98     0.87     0.66  27.0   0.0   \n",
      "\n",
      "          humidity  \n",
      "day_text      40.0  \n"
     ]
    },
    {
     "name": "stderr",
     "output_type": "stream",
     "text": [
      "C:\\Users\\smhrd\\anaconda\\lib\\site-packages\\xgboost\\sklearn.py:1146: UserWarning: The use of label encoder in XGBClassifier is deprecated and will be removed in a future release. To remove this warning, do the following: 1) Pass option use_label_encoder=False when constructing XGBClassifier object; and 2) Encode your labels (y) as integers starting with 0, i.e. 0, 1, 2, ..., [num_class - 1].\n",
      "  warnings.warn(label_encoder_deprecation_msg, UserWarning)\n",
      "127.0.0.1 - - [19/May/2021 23:17:32] \"\u001b[37mPOST /home HTTP/1.1\u001b[0m\" 200 -\n"
     ]
    },
    {
     "name": "stdout",
     "output_type": "stream",
     "text": [
      "0.69\n",
      "2021-05-19\n",
      "대전\n",
      "HE\n",
      "          H_text  HR_text  S_text  ST_text  DU_text  ER_text  temp  rain  \\\n",
      "day_text    9.59     0.84    0.61     0.98     0.87     0.66  27.0   0.0   \n",
      "\n",
      "          humidity  \n",
      "day_text      40.0  \n"
     ]
    },
    {
     "name": "stderr",
     "output_type": "stream",
     "text": [
      "C:\\Users\\smhrd\\anaconda\\lib\\site-packages\\xgboost\\sklearn.py:1146: UserWarning: The use of label encoder in XGBClassifier is deprecated and will be removed in a future release. To remove this warning, do the following: 1) Pass option use_label_encoder=False when constructing XGBClassifier object; and 2) Encode your labels (y) as integers starting with 0, i.e. 0, 1, 2, ..., [num_class - 1].\n",
      "  warnings.warn(label_encoder_deprecation_msg, UserWarning)\n",
      "127.0.0.1 - - [19/May/2021 23:17:45] \"\u001b[37mPOST /home HTTP/1.1\u001b[0m\" 200 -\n"
     ]
    },
    {
     "name": "stdout",
     "output_type": "stream",
     "text": [
      "0.69\n",
      "2021-05-18\n",
      "대전\n",
      "HE\n",
      "          H_text  HR_text  S_text  ST_text  DU_text  ER_text  temp  rain  \\\n",
      "day_text    8.98     0.75    0.61     7.41     0.79     0.73  20.5   0.0   \n",
      "\n",
      "          humidity  \n",
      "day_text         0  \n"
     ]
    },
    {
     "name": "stderr",
     "output_type": "stream",
     "text": [
      "C:\\Users\\smhrd\\anaconda\\lib\\site-packages\\xgboost\\sklearn.py:1146: UserWarning: The use of label encoder in XGBClassifier is deprecated and will be removed in a future release. To remove this warning, do the following: 1) Pass option use_label_encoder=False when constructing XGBClassifier object; and 2) Encode your labels (y) as integers starting with 0, i.e. 0, 1, 2, ..., [num_class - 1].\n",
      "  warnings.warn(label_encoder_deprecation_msg, UserWarning)\n",
      "127.0.0.1 - - [19/May/2021 23:17:55] \"\u001b[37mPOST /home HTTP/1.1\u001b[0m\" 200 -\n"
     ]
    },
    {
     "name": "stdout",
     "output_type": "stream",
     "text": [
      "0.31\n",
      "2021-05-18\n",
      "대전\n",
      "HE\n",
      "          H_text  HR_text  S_text  ST_text  DU_text  ER_text  temp  rain  \\\n",
      "day_text    8.98     0.75    0.61     7.41     0.79     0.73  20.5   0.0   \n",
      "\n",
      "          humidity  \n",
      "day_text         0  \n"
     ]
    },
    {
     "name": "stderr",
     "output_type": "stream",
     "text": [
      "C:\\Users\\smhrd\\anaconda\\lib\\site-packages\\xgboost\\sklearn.py:1146: UserWarning: The use of label encoder in XGBClassifier is deprecated and will be removed in a future release. To remove this warning, do the following: 1) Pass option use_label_encoder=False when constructing XGBClassifier object; and 2) Encode your labels (y) as integers starting with 0, i.e. 0, 1, 2, ..., [num_class - 1].\n",
      "  warnings.warn(label_encoder_deprecation_msg, UserWarning)\n",
      "127.0.0.1 - - [19/May/2021 23:18:59] \"\u001b[37mPOST /home HTTP/1.1\u001b[0m\" 200 -\n"
     ]
    },
    {
     "name": "stdout",
     "output_type": "stream",
     "text": [
      "0.31\n"
     ]
    },
    {
     "name": "stderr",
     "output_type": "stream",
     "text": [
      "[2021-05-19 23:20:37,175] ERROR in app: Exception on /home [POST]\n",
      "Traceback (most recent call last):\n",
      "  File \"C:\\Users\\smhrd\\anaconda\\lib\\site-packages\\flask\\app.py\", line 2447, in wsgi_app\n",
      "    response = self.full_dispatch_request()\n",
      "  File \"C:\\Users\\smhrd\\anaconda\\lib\\site-packages\\flask\\app.py\", line 1952, in full_dispatch_request\n",
      "    rv = self.handle_user_exception(e)\n",
      "  File \"C:\\Users\\smhrd\\anaconda\\lib\\site-packages\\flask_cors\\extension.py\", line 165, in wrapped_function\n",
      "    return cors_after_request(app.make_response(f(*args, **kwargs)))\n",
      "  File \"C:\\Users\\smhrd\\anaconda\\lib\\site-packages\\flask\\app.py\", line 1821, in handle_user_exception\n",
      "    reraise(exc_type, exc_value, tb)\n",
      "  File \"C:\\Users\\smhrd\\anaconda\\lib\\site-packages\\flask\\_compat.py\", line 39, in reraise\n",
      "    raise value\n",
      "  File \"C:\\Users\\smhrd\\anaconda\\lib\\site-packages\\flask\\app.py\", line 1950, in full_dispatch_request\n",
      "    rv = self.dispatch_request()\n",
      "  File \"C:\\Users\\smhrd\\anaconda\\lib\\site-packages\\flask\\app.py\", line 1936, in dispatch_request\n",
      "    return self.view_functions[rule.endpoint](**req.view_args)\n",
      "  File \"<ipython-input-101-5cd4e06811af>\", line 41, in predict_result\n",
      "    temp = data_list[3][0][date]\n",
      "IndexError: list index out of range\n",
      "127.0.0.1 - - [19/May/2021 23:20:37] \"\u001b[35m\u001b[1mPOST /home HTTP/1.1\u001b[0m\" 500 -\n"
     ]
    },
    {
     "name": "stdout",
     "output_type": "stream",
     "text": [
      "2021-05-26\n",
      "창원\n",
      "NC\n",
      "2021-05-25\n",
      "창원\n",
      "NC\n",
      "          H_text  HR_text  S_text  ST_text  DU_text  ER_text  temp  rain  \\\n",
      "day_text    9.38     0.96    0.86     0.77      7.1     0.66  20.5   0.0   \n",
      "\n",
      "          humidity  \n",
      "day_text         0  \n"
     ]
    },
    {
     "name": "stderr",
     "output_type": "stream",
     "text": [
      "C:\\Users\\smhrd\\anaconda\\lib\\site-packages\\xgboost\\sklearn.py:1146: UserWarning: The use of label encoder in XGBClassifier is deprecated and will be removed in a future release. To remove this warning, do the following: 1) Pass option use_label_encoder=False when constructing XGBClassifier object; and 2) Encode your labels (y) as integers starting with 0, i.e. 0, 1, 2, ..., [num_class - 1].\n",
      "  warnings.warn(label_encoder_deprecation_msg, UserWarning)\n",
      "127.0.0.1 - - [19/May/2021 23:20:46] \"\u001b[37mPOST /home HTTP/1.1\u001b[0m\" 200 -\n"
     ]
    },
    {
     "name": "stdout",
     "output_type": "stream",
     "text": [
      "0.73\n",
      "2021-05-20\n",
      "부산\n",
      "GI\n",
      "          H_text  HR_text  S_text  ST_text  DU_text  ER_text  temp  rain  \\\n",
      "day_text    9.72     0.93    0.67     9.18     0.81     0.72  17.0  64.0   \n",
      "\n",
      "          humidity  \n",
      "day_text      85.0  \n"
     ]
    },
    {
     "name": "stderr",
     "output_type": "stream",
     "text": [
      "C:\\Users\\smhrd\\anaconda\\lib\\site-packages\\xgboost\\sklearn.py:1146: UserWarning: The use of label encoder in XGBClassifier is deprecated and will be removed in a future release. To remove this warning, do the following: 1) Pass option use_label_encoder=False when constructing XGBClassifier object; and 2) Encode your labels (y) as integers starting with 0, i.e. 0, 1, 2, ..., [num_class - 1].\n",
      "  warnings.warn(label_encoder_deprecation_msg, UserWarning)\n",
      "127.0.0.1 - - [20/May/2021 14:35:31] \"\u001b[37mPOST /home HTTP/1.1\u001b[0m\" 200 -\n"
     ]
    },
    {
     "name": "stdout",
     "output_type": "stream",
     "text": [
      "0.69\n",
      "2021-05-20\n",
      "광주\n",
      "KIA\n",
      "          H_text  HR_text  S_text  ST_text  DU_text  ER_text  temp  rain  \\\n",
      "day_text    9.21     0.79    0.75     6.66     0.75     0.69  18.0  60.0   \n",
      "\n",
      "          humidity  \n",
      "day_text      85.0  \n"
     ]
    },
    {
     "name": "stderr",
     "output_type": "stream",
     "text": [
      "C:\\Users\\smhrd\\anaconda\\lib\\site-packages\\xgboost\\sklearn.py:1146: UserWarning: The use of label encoder in XGBClassifier is deprecated and will be removed in a future release. To remove this warning, do the following: 1) Pass option use_label_encoder=False when constructing XGBClassifier object; and 2) Encode your labels (y) as integers starting with 0, i.e. 0, 1, 2, ..., [num_class - 1].\n",
      "  warnings.warn(label_encoder_deprecation_msg, UserWarning)\n",
      "127.0.0.1 - - [20/May/2021 14:36:00] \"\u001b[37mPOST /home HTTP/1.1\u001b[0m\" 200 -\n"
     ]
    },
    {
     "name": "stdout",
     "output_type": "stream",
     "text": [
      "0.7\n",
      "0.3\n",
      "2021-05-20\n",
      "서울\n",
      "DU\n",
      "          H_text  HR_text  S_text  ST_text  DU_text  ER_text  temp  rain  \\\n",
      "day_text   10.05     0.97    0.73     6.17     0.85     0.63  21.0  30.0   \n",
      "\n",
      "          humidity  \n",
      "day_text      65.0  \n"
     ]
    },
    {
     "name": "stderr",
     "output_type": "stream",
     "text": [
      "C:\\Users\\smhrd\\anaconda\\lib\\site-packages\\xgboost\\sklearn.py:1146: UserWarning: The use of label encoder in XGBClassifier is deprecated and will be removed in a future release. To remove this warning, do the following: 1) Pass option use_label_encoder=False when constructing XGBClassifier object; and 2) Encode your labels (y) as integers starting with 0, i.e. 0, 1, 2, ..., [num_class - 1].\n",
      "  warnings.warn(label_encoder_deprecation_msg, UserWarning)\n",
      "[2021-05-20 14:44:49,401] ERROR in app: Exception on /home [POST]\n",
      "Traceback (most recent call last):\n",
      "  File \"C:\\Users\\smhrd\\anaconda\\lib\\site-packages\\flask\\app.py\", line 2447, in wsgi_app\n",
      "    response = self.full_dispatch_request()\n",
      "  File \"C:\\Users\\smhrd\\anaconda\\lib\\site-packages\\flask\\app.py\", line 1952, in full_dispatch_request\n",
      "    rv = self.handle_user_exception(e)\n",
      "  File \"C:\\Users\\smhrd\\anaconda\\lib\\site-packages\\flask_cors\\extension.py\", line 165, in wrapped_function\n",
      "    return cors_after_request(app.make_response(f(*args, **kwargs)))\n",
      "  File \"C:\\Users\\smhrd\\anaconda\\lib\\site-packages\\flask\\app.py\", line 1821, in handle_user_exception\n",
      "    reraise(exc_type, exc_value, tb)\n",
      "  File \"C:\\Users\\smhrd\\anaconda\\lib\\site-packages\\flask\\_compat.py\", line 39, in reraise\n",
      "    raise value\n",
      "  File \"C:\\Users\\smhrd\\anaconda\\lib\\site-packages\\flask\\app.py\", line 1950, in full_dispatch_request\n",
      "    rv = self.dispatch_request()\n",
      "  File \"C:\\Users\\smhrd\\anaconda\\lib\\site-packages\\flask\\app.py\", line 1936, in dispatch_request\n",
      "    return self.view_functions[rule.endpoint](**req.view_args)\n",
      "  File \"<ipython-input-101-5cd4e06811af>\", line 181, in predict_result\n",
      "    y_percent = np.mean(DU_y_pred == DU_y_test)\n",
      "NameError: name 'DU_y_pred' is not defined\n",
      "127.0.0.1 - - [20/May/2021 14:44:49] \"\u001b[35m\u001b[1mPOST /home HTTP/1.1\u001b[0m\" 500 -\n"
     ]
    },
    {
     "name": "stdout",
     "output_type": "stream",
     "text": [
      "2021-05-20\n",
      "광주\n",
      "KIA\n",
      "          H_text  HR_text  S_text  ST_text  DU_text  ER_text  temp  rain  \\\n",
      "day_text    9.21     0.79    0.75     6.66     0.75     0.69  18.0  60.0   \n",
      "\n",
      "          humidity  \n",
      "day_text      85.0  \n"
     ]
    },
    {
     "name": "stderr",
     "output_type": "stream",
     "text": [
      "C:\\Users\\smhrd\\anaconda\\lib\\site-packages\\xgboost\\sklearn.py:1146: UserWarning: The use of label encoder in XGBClassifier is deprecated and will be removed in a future release. To remove this warning, do the following: 1) Pass option use_label_encoder=False when constructing XGBClassifier object; and 2) Encode your labels (y) as integers starting with 0, i.e. 0, 1, 2, ..., [num_class - 1].\n",
      "  warnings.warn(label_encoder_deprecation_msg, UserWarning)\n",
      "127.0.0.1 - - [20/May/2021 15:05:26] \"\u001b[37mPOST /home HTTP/1.1\u001b[0m\" 200 -\n"
     ]
    },
    {
     "name": "stdout",
     "output_type": "stream",
     "text": [
      "0.7\n",
      "0.3\n",
      "2021-05-20\n",
      "광주\n",
      "KIA\n",
      "          H_text  HR_text  S_text  ST_text  DU_text  ER_text  temp  rain  \\\n",
      "day_text    9.21     0.79    0.75     6.66     0.75     0.69  18.0  60.0   \n",
      "\n",
      "          humidity  \n",
      "day_text      85.0  \n"
     ]
    },
    {
     "name": "stderr",
     "output_type": "stream",
     "text": [
      "C:\\Users\\smhrd\\anaconda\\lib\\site-packages\\xgboost\\sklearn.py:1146: UserWarning: The use of label encoder in XGBClassifier is deprecated and will be removed in a future release. To remove this warning, do the following: 1) Pass option use_label_encoder=False when constructing XGBClassifier object; and 2) Encode your labels (y) as integers starting with 0, i.e. 0, 1, 2, ..., [num_class - 1].\n",
      "  warnings.warn(label_encoder_deprecation_msg, UserWarning)\n",
      "127.0.0.1 - - [20/May/2021 15:29:02] \"\u001b[37mPOST /home HTTP/1.1\u001b[0m\" 200 -\n"
     ]
    },
    {
     "name": "stdout",
     "output_type": "stream",
     "text": [
      "0.7\n",
      "0.3\n",
      "2021-05-20\n",
      "광주\n",
      "KIA\n",
      "          H_text  HR_text  S_text  ST_text  DU_text  ER_text  temp  rain  \\\n",
      "day_text    9.21     0.79    0.75     6.66     0.75     0.69  18.0  60.0   \n",
      "\n",
      "          humidity  \n",
      "day_text      85.0  \n"
     ]
    },
    {
     "name": "stderr",
     "output_type": "stream",
     "text": [
      "C:\\Users\\smhrd\\anaconda\\lib\\site-packages\\xgboost\\sklearn.py:1146: UserWarning: The use of label encoder in XGBClassifier is deprecated and will be removed in a future release. To remove this warning, do the following: 1) Pass option use_label_encoder=False when constructing XGBClassifier object; and 2) Encode your labels (y) as integers starting with 0, i.e. 0, 1, 2, ..., [num_class - 1].\n",
      "  warnings.warn(label_encoder_deprecation_msg, UserWarning)\n",
      "127.0.0.1 - - [20/May/2021 16:04:18] \"\u001b[37mPOST /home HTTP/1.1\u001b[0m\" 200 -\n"
     ]
    },
    {
     "name": "stdout",
     "output_type": "stream",
     "text": [
      "0.7\n",
      "0.3\n",
      "2021-05-21\n",
      "부산\n",
      "GI\n",
      "          H_text  HR_text  S_text  ST_text  DU_text  ER_text  temp  rain  \\\n",
      "day_text    9.72     0.93    0.67     9.18     0.81     0.72  20.0  30.0   \n",
      "\n",
      "          humidity  \n",
      "day_text      60.0  \n"
     ]
    },
    {
     "name": "stderr",
     "output_type": "stream",
     "text": [
      "C:\\Users\\smhrd\\anaconda\\lib\\site-packages\\xgboost\\sklearn.py:1146: UserWarning: The use of label encoder in XGBClassifier is deprecated and will be removed in a future release. To remove this warning, do the following: 1) Pass option use_label_encoder=False when constructing XGBClassifier object; and 2) Encode your labels (y) as integers starting with 0, i.e. 0, 1, 2, ..., [num_class - 1].\n",
      "  warnings.warn(label_encoder_deprecation_msg, UserWarning)\n",
      "127.0.0.1 - - [20/May/2021 16:44:49] \"\u001b[37mPOST /home HTTP/1.1\u001b[0m\" 200 -\n"
     ]
    },
    {
     "name": "stdout",
     "output_type": "stream",
     "text": [
      "0.69\n"
     ]
    },
    {
     "name": "stderr",
     "output_type": "stream",
     "text": [
      "[2021-05-20 18:00:01,012] ERROR in app: Exception on /home [POST]\n",
      "Traceback (most recent call last):\n",
      "  File \"C:\\Users\\smhrd\\anaconda\\lib\\site-packages\\flask\\app.py\", line 2447, in wsgi_app\n",
      "    response = self.full_dispatch_request()\n",
      "  File \"C:\\Users\\smhrd\\anaconda\\lib\\site-packages\\flask\\app.py\", line 1952, in full_dispatch_request\n",
      "    rv = self.handle_user_exception(e)\n",
      "  File \"C:\\Users\\smhrd\\anaconda\\lib\\site-packages\\flask_cors\\extension.py\", line 165, in wrapped_function\n",
      "    return cors_after_request(app.make_response(f(*args, **kwargs)))\n",
      "  File \"C:\\Users\\smhrd\\anaconda\\lib\\site-packages\\flask\\app.py\", line 1821, in handle_user_exception\n",
      "    reraise(exc_type, exc_value, tb)\n",
      "  File \"C:\\Users\\smhrd\\anaconda\\lib\\site-packages\\flask\\_compat.py\", line 39, in reraise\n",
      "    raise value\n",
      "  File \"C:\\Users\\smhrd\\anaconda\\lib\\site-packages\\flask\\app.py\", line 1950, in full_dispatch_request\n",
      "    rv = self.dispatch_request()\n",
      "  File \"C:\\Users\\smhrd\\anaconda\\lib\\site-packages\\flask\\app.py\", line 1936, in dispatch_request\n",
      "    return self.view_functions[rule.endpoint](**req.view_args)\n",
      "  File \"<ipython-input-101-5cd4e06811af>\", line 29, in predict_result\n",
      "    temp = data_list[1][0][date]\n",
      "IndexError: list index out of range\n",
      "127.0.0.1 - - [20/May/2021 18:00:01] \"\u001b[35m\u001b[1mPOST /home HTTP/1.1\u001b[0m\" 500 -\n"
     ]
    },
    {
     "name": "stdout",
     "output_type": "stream",
     "text": [
      "2021-05-27\n",
      "광주\n",
      "KIA\n",
      "2021-05-21\n",
      "광주\n",
      "KIA\n",
      "          H_text  HR_text  S_text  ST_text  DU_text  ER_text  temp  rain  \\\n",
      "day_text    9.21     0.79    0.75     6.66     0.75     0.69  18.0  30.0   \n",
      "\n",
      "          humidity  \n",
      "day_text      65.0  \n"
     ]
    },
    {
     "name": "stderr",
     "output_type": "stream",
     "text": [
      "C:\\Users\\smhrd\\anaconda\\lib\\site-packages\\xgboost\\sklearn.py:1146: UserWarning: The use of label encoder in XGBClassifier is deprecated and will be removed in a future release. To remove this warning, do the following: 1) Pass option use_label_encoder=False when constructing XGBClassifier object; and 2) Encode your labels (y) as integers starting with 0, i.e. 0, 1, 2, ..., [num_class - 1].\n",
      "  warnings.warn(label_encoder_deprecation_msg, UserWarning)\n",
      "127.0.0.1 - - [20/May/2021 18:01:22] \"\u001b[37mPOST /home HTTP/1.1\u001b[0m\" 200 -\n"
     ]
    },
    {
     "name": "stdout",
     "output_type": "stream",
     "text": [
      "0.7\n",
      "0.3\n"
     ]
    }
   ],
   "source": [
    "app = Flask(__name__) # 내장변수 name을 이용해 서버를 구동시키는 객체 생성\n",
    "CORS(app)\n",
    "\n",
    "@app.route(\"/\")\n",
    "@app.route(\"/home\", methods=[\"GET\",'POST'])\n",
    "def predict_result() :    \n",
    "    print(request.form['select_day'])\n",
    "    print(request.form['location'])\n",
    "    print(request.form['home_team'])\n",
    "    # 데이터 입력 받기 (여기서는 테스트를 위해서 임의의 데이터를 사용)\n",
    "    \n",
    "    team_text = request.form['home_team']  # 웹페이지에서 받아온 팀 이름 입력 받기\n",
    "    location = request.form['location']  # 웹페이지에서 받아온 지역 넣기\n",
    "    date = request.form['select_day']  # 웹페이지에서 받아온 날짜 넣기\n",
    "    date = str(date).replace('-', '')[:8] # 받아온 날짜 형식 고치기\n",
    "    date = int(date) # 날짜 int 형으로 형변환\n",
    "\n",
    "    # 몇일 뒤 날짜인지 구하기\n",
    "    date = date - int(today)\n",
    "\n",
    "    # 지역별로 날씨 값 정해주기\n",
    "    if location == \"서울\":\n",
    "        temp = data_list[0][0][date]\n",
    "        humidity = data_list[0][1][date]\n",
    "        rain = data_list[0][2][date] \n",
    "        wind = data_list[0][3][date]\n",
    "        d_wind = data_list[0][4][date]\n",
    "    elif location == \"광주\":\n",
    "        temp = data_list[1][0][date]\n",
    "        humidity = data_list[1][1][date]\n",
    "        rain = data_list[1][2][date]\n",
    "        wind = data_list[1][3][date]\n",
    "        d_wind = data_list[1][4][date]\n",
    "    elif location == \"부산\":\n",
    "        temp = data_list[2][0][date]\n",
    "        humidity = data_list[2][1][date]\n",
    "        rain = data_list[2][2][date] \n",
    "        wind = data_list[2][3][date]\n",
    "        d_wind = data_list[2][4][date]\n",
    "    elif location == \"창원\":\n",
    "        temp = data_list[3][0][date]\n",
    "        humidity = data_list[3][1][date]\n",
    "        rain = data_list[3][2][date] \n",
    "        wind = data_list[3][3][date]\n",
    "        d_wind = data_list[3][4][date]\n",
    "    elif location == \"인천\":\n",
    "        temp = data_list[4][0][date]\n",
    "        humidity = data_list[4][1][date]\n",
    "        rain = data_list[4][2][date] \n",
    "        wind = data_list[4][3][date]\n",
    "        d_wind = data_list[4][4][date]\n",
    "    elif location == \"대전\":\n",
    "        temp = data_list[5][0][date]\n",
    "        humidity = data_list[5][1][date]\n",
    "        rain = data_list[5][2][date] \n",
    "        wind = data_list[5][3][date]\n",
    "        d_wind = data_list[5][4][date]\n",
    "    elif location == \"대구\":\n",
    "        temp = data_list[6][0][date]\n",
    "        humidity = data_list[6][1][date]\n",
    "        rain = data_list[6][2][date] \n",
    "        wind = data_list[6][3][date]\n",
    "        d_wind = data_list[6][4][date]\n",
    "    elif location == \"수원\":\n",
    "        temp = data_list[7][0][date]\n",
    "        humidity = data_list[7][1][date]\n",
    "        rain = data_list[7][2][date] \n",
    "        wind = data_list[7][3][date]\n",
    "        d_wind = data_list[7][4][date]\n",
    "\n",
    "\n",
    "    # 받아온 기온 보고 구간별 기온값 중에 어떤걸 쓸지 결정\n",
    "    if temp <= 15:\n",
    "        tempint = 0\n",
    "    elif temp > 15 and temp <= 25:\n",
    "        tempint = 1\n",
    "    elif temp > 25 and temp <= 35:\n",
    "        tempint = 2\n",
    "    elif temp > 35:\n",
    "        tempint = 3\n",
    "\n",
    "    # 팀별로 기온에 따른 성적 평균값 넣어주기\n",
    "    if team_text == \"KIA\":\n",
    "        H_text = temp_total[tempint][0][0]\n",
    "        HR_text = temp_total[tempint][0][1]\n",
    "        S_text = temp_total[tempint][0][2]\n",
    "        ST_text = temp_total[tempint][0][3]\n",
    "        DU_text = temp_total[tempint][0][4]\n",
    "        ER_text = temp_total[tempint][0][5]\n",
    "        \n",
    "    elif team_text == \"LG\":\n",
    "        H_text = temp_total[tempint][1][0]\n",
    "        HR_text = temp_total[tempint][1][1]\n",
    "        S_text = temp_total[tempint][1][2]\n",
    "        ST_text = temp_total[tempint][1][3]\n",
    "        DU_text = temp_total[tempint][1][4]\n",
    "        ER_text = temp_total[tempint][1][5]\n",
    "    elif team_text == \"SK\":\n",
    "        H_text = temp_total[tempint][2][0]\n",
    "        HR_text = temp_total[tempint][2][1]\n",
    "        S_text = temp_total[tempint][2][2]\n",
    "        ST_text = temp_total[tempint][2][3]\n",
    "        DU_text = temp_total[tempint][2][4]\n",
    "        ER_text = temp_total[tempint][2][5]\n",
    "    elif team_text == \"DU\":\n",
    "        H_text = temp_total[tempint][3][0]\n",
    "        HR_text = temp_total[tempint][3][1]\n",
    "        S_text = temp_total[tempint][3][2]\n",
    "        ST_text = temp_total[tempint][3][3]\n",
    "        DU_text = temp_total[tempint][3][4]\n",
    "        ER_text = temp_total[tempint][3][5]\n",
    "    elif team_text == \"KT\":\n",
    "        H_text = temp_total[tempint][4][0]\n",
    "        HR_text = temp_total[tempint][4][1]\n",
    "        S_text = temp_total[tempint][4][2]\n",
    "        ST_text = temp_total[tempint][4][3]\n",
    "        DU_text = temp_total[tempint][4][4]\n",
    "        ER_text = temp_total[tempint][4][5]\n",
    "    elif team_text == \"NC\":\n",
    "        H_text = temp_total[tempint][5][0]\n",
    "        HR_text = temp_total[tempint][5][1]\n",
    "        S_text = temp_total[tempint][5][2]\n",
    "        ST_text = temp_total[tempint][5][3]\n",
    "        DU_text = temp_total[tempint][5][4]\n",
    "        ER_text = temp_total[tempint][5][5]\n",
    "    elif team_text == \"SL\":\n",
    "        H_text = temp_total[tempint][6][0]\n",
    "        HR_text = temp_total[tempint][6][1]\n",
    "        S_text = temp_total[tempint][6][2]\n",
    "        ST_text = temp_total[tempint][6][3]\n",
    "        DU_text = temp_total[tempint][6][4]\n",
    "        ER_text = temp_total[tempint][6][5]\n",
    "    elif team_text == \"HE\":\n",
    "        H_text = temp_total[tempint][7][0]\n",
    "        HR_text = temp_total[tempint][7][1]\n",
    "        S_text = temp_total[tempint][7][2]\n",
    "        ST_text = temp_total[tempint][7][3]\n",
    "        DU_text = temp_total[tempint][7][4]\n",
    "        ER_text = temp_total[tempint][7][5]\n",
    "    elif team_text == \"GI\":\n",
    "        H_text = temp_total[tempint][8][0]\n",
    "        HR_text = temp_total[tempint][8][1]\n",
    "        S_text = temp_total[tempint][8][2]\n",
    "        ST_text = temp_total[tempint][8][3]\n",
    "        DU_text = temp_total[tempint][8][4]\n",
    "        ER_text = temp_total[tempint][8][5]\n",
    "    elif team_text == \"KH\":\n",
    "        H_text = temp_total[tempint][9][0]\n",
    "        HR_text = temp_total[tempint][9][1]\n",
    "        S_text = temp_total[tempint][9][2]\n",
    "        ST_text = temp_total[tempint][9][3]\n",
    "        DU_text = temp_total[tempint][9][4]\n",
    "        ER_text = temp_total[tempint][9][5]\n",
    "\n",
    "    # 입력받은 데이터로 데이터 프레임 생성\n",
    "    datatest = pd.DataFrame(\n",
    "        data = {'H_text': [H_text], 'HR_text' : [HR_text], 'S_text' : [S_text], 'ST_text' : [ST_text], 'DU_text' : [DU_text],\n",
    "               'ER_text' : [ER_text], 'temp' : [temp], 'rain' : [rain] , 'humidity' : [humidity] },\n",
    "        columns = ['H_text', 'HR_text', 'S_text', 'ST_text' , 'DU_text', 'ER_text', 'temp', 'rain','humidity'],\n",
    "    index = ['day_text'])\n",
    "    print(datatest)\n",
    "    # 입력받은 team_text 에 따라 다른 모델을 사용\n",
    "    if team_text == \"KIA\":\n",
    "        KIA_xgb_model.fit(KIA_X_train, KIA_y_train)\n",
    "        y_pred = KIA_xgb_model.predict(datatest)\n",
    "        y_percent = np.mean(KIA_y_pred == KIA_y_test)\n",
    "        y_percent = round(y_percent,2)\n",
    "        print(y_percent)\n",
    "    elif team_text == \"LG\":\n",
    "        y_pred = LG_xgb_model.fit(LG_X_train, LG_y_train).predict(datatest)\n",
    "        y_percent = np.mean(LG_y_pred == LG_y_test)\n",
    "        y_percent = round(y_percent,2)\n",
    "    elif team_text == \"SK\":\n",
    "        y_pred = SK_xgb_model.fit(SK_X_train, SK_y_train).predict(datatest)\n",
    "        y_percent = np.mean(SK_y_pred == SK_y_test)\n",
    "        y_percent = round(y_percent,2)\n",
    "        \n",
    "        \n",
    "    elif team_text == \"DU\":\n",
    "        y_pred = DS_xgb_model.fit(DS_X_train, DS_y_train).predict(datatest)\n",
    "        y_percent = np.mean(DU_y_pred == DU_y_test)\n",
    "        #y_percent = round(y_percent,2)\n",
    "    elif team_text == \"KT\":\n",
    "        y_pred = KT_xgb_model.fit(KT_X_train, KT_y_train).predict(datatest)\n",
    "        y_percent = np.mean(KT_y_pred == KT_y_test)\n",
    "        #y_percent = round(y_percent,2)\n",
    "        \n",
    "    elif team_text == \"NC\":\n",
    "        y_pred = NC_xgb_model.fit(NC_X_train, NC_y_train).predict(datatest)\n",
    "        y_percent = np.mean(NC_y_pred == NC_y_test)\n",
    "        #y_percent = round(y_percent,2)\n",
    "    elif team_text == \"SL\":\n",
    "        y_pred = SS_xgb_model.fit(SS_X_train, SS_y_train).predict(datatest)\n",
    "        y_percent = np.mean(SL_y_pred == SL_y_test)\n",
    "        #y_percent = round(y_percent,2)\n",
    "    elif team_text == \"HE\":\n",
    "        y_pred = HH_xgb_model.fit(HH_X_train, HH_y_train).predict(datatest)\n",
    "        y_percent = np.mean(HH_y_pred == HH_y_test)\n",
    "        #y_percent = round(y_percent,2)\n",
    "    elif team_text == \"GI\":\n",
    "        y_pred = LT_xgb_model.fit(LT_X_train, LT_y_train).predict(datatest)\n",
    "        y_percent = np.mean(LT_y_pred == LT_y_test)\n",
    "        #y_percent = round(y_percent,2)\n",
    "    elif team_text == \"KW\":\n",
    "        y_pred = KW_xgb_model.fit(KW_X_train, KW_y_train).predict(datatest)\n",
    "        y_percent = np.mean(KW_y_pred == KW_y_test)\n",
    "        #y_percent = round(y_percent,2)\n",
    "        \n",
    "    if str(y_pred[0]) == \"0\" and float(y_percent) > 0.5:\n",
    "        y_percent = 1 - y_percent\n",
    "    \n",
    "    y_percent = round(y_percent,2)\n",
    "    print(y_percent)\n",
    "    \n",
    "    #return'{ \"key1\" : '+ str(y_pred[0]) + '}' \n",
    "    return'{ \"key1\" : '+ str(y_pred[0]) + ',\"key2\" : '+ str(y_percent) + '}' \n",
    "\n",
    "\n",
    "if __name__ == \"__main__\" : # .py 파일에서 main함수 역할\n",
    "    app.run(host=\"127.0.0.1\", port=\"9005\")"
   ]
  },
  {
   "cell_type": "code",
   "execution_count": 86,
   "metadata": {},
   "outputs": [
    {
     "ename": "NameError",
     "evalue": "name 'team_text' is not defined",
     "output_type": "error",
     "traceback": [
      "\u001b[1;31m---------------------------------------------------------------------------\u001b[0m",
      "\u001b[1;31mNameError\u001b[0m                                 Traceback (most recent call last)",
      "\u001b[1;32m<ipython-input-86-c5b5789e6875>\u001b[0m in \u001b[0;36m<module>\u001b[1;34m\u001b[0m\n\u001b[1;32m----> 1\u001b[1;33m \u001b[0mteam_text\u001b[0m\u001b[1;33m\u001b[0m\u001b[1;33m\u001b[0m\u001b[0m\n\u001b[0m",
      "\u001b[1;31mNameError\u001b[0m: name 'team_text' is not defined"
     ]
    }
   ],
   "source": [
    "team_text"
   ]
  },
  {
   "cell_type": "code",
   "execution_count": null,
   "metadata": {},
   "outputs": [],
   "source": [
    "location"
   ]
  },
  {
   "cell_type": "code",
   "execution_count": null,
   "metadata": {},
   "outputs": [],
   "source": [
    "date"
   ]
  },
  {
   "cell_type": "code",
   "execution_count": null,
   "metadata": {},
   "outputs": [],
   "source": [
    "datatest"
   ]
  },
  {
   "cell_type": "code",
   "execution_count": null,
   "metadata": {},
   "outputs": [],
   "source": [
    "KIA_X_train"
   ]
  },
  {
   "cell_type": "code",
   "execution_count": null,
   "metadata": {},
   "outputs": [],
   "source": [
    "KIA_y_train"
   ]
  },
  {
   "cell_type": "code",
   "execution_count": null,
   "metadata": {},
   "outputs": [],
   "source": [
    "dataset"
   ]
  },
  {
   "cell_type": "code",
   "execution_count": null,
   "metadata": {},
   "outputs": [],
   "source": []
  }
 ],
 "metadata": {
  "kernelspec": {
   "display_name": "Python 3",
   "language": "python",
   "name": "python3"
  },
  "language_info": {
   "codemirror_mode": {
    "name": "ipython",
    "version": 3
   },
   "file_extension": ".py",
   "mimetype": "text/x-python",
   "name": "python",
   "nbconvert_exporter": "python",
   "pygments_lexer": "ipython3",
   "version": "3.8.5"
  }
 },
 "nbformat": 4,
 "nbformat_minor": 4
}
