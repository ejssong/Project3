{
 "cells": [
  {
   "cell_type": "code",
   "execution_count": 22,
   "metadata": {},
   "outputs": [],
   "source": [
    "import pandas as pd\n",
    "pd.set_option('display.max_row', 500)\n",
    "pd.set_option('display.max_columns', 100)\n",
    "import numpy as np\n",
    "import matplotlib.pyplot as plt  # 그래프 그리는 라이브러리\n",
    "from sklearn.model_selection import train_test_split\n",
    "from sklearn import metrics  # 평가를 위한 라이브러리\n",
    "from sklearn.neighbors import KNeighborsClassifier\n",
    "from sklearn.model_selection import cross_val_score\n",
    "from sklearn.preprocessing import StandardScaler\n",
    "from sklearn.tree import DecisionTreeClassifier\n",
    "from sklearn.svm import SVC\n",
    "import seaborn as sns  # 시각화 라이브러리\n"
   ]
  },
  {
   "cell_type": "code",
   "execution_count": 23,
   "metadata": {},
   "outputs": [],
   "source": [
    "train = pd.read_csv('data/data.csv', index_col = 'day_text')"
   ]
  },
  {
   "cell_type": "markdown",
   "metadata": {},
   "source": [
    "### 결측치 채우기"
   ]
  },
  {
   "cell_type": "code",
   "execution_count": 24,
   "metadata": {},
   "outputs": [
    {
     "data": {
      "text/plain": [
       "time_text         0\n",
       "team_text         0\n",
       "location          0\n",
       "H_text            0\n",
       "HR_text           0\n",
       "S_text            0\n",
       "ST_text           0\n",
       "DU_text           0\n",
       "ER_text           0\n",
       "result_text       0\n",
       "temp              0\n",
       "rain           7212\n",
       "wind              2\n",
       "d_wind            2\n",
       "humidity          0\n",
       "atmosphere        0\n",
       "surface           2\n",
       "dtype: int64"
      ]
     },
     "execution_count": 24,
     "metadata": {},
     "output_type": "execute_result"
    }
   ],
   "source": [
    "#결측치 확인\n",
    "train.isnull().sum()"
   ]
  },
  {
   "cell_type": "code",
   "execution_count": 25,
   "metadata": {},
   "outputs": [],
   "source": [
    "#결측치 0으로 채우기\n",
    "train['rain'] = train['rain'].fillna('0')\n",
    "train['wind'] = train['wind'].fillna('0')\n",
    "train['d_wind'] = train['d_wind'].fillna('0')\n",
    "train['surface'] = train['surface'].fillna('0')"
   ]
  },
  {
   "cell_type": "code",
   "execution_count": 26,
   "metadata": {},
   "outputs": [
    {
     "data": {
      "text/plain": [
       "time_text      0\n",
       "team_text      0\n",
       "location       0\n",
       "H_text         0\n",
       "HR_text        0\n",
       "S_text         0\n",
       "ST_text        0\n",
       "DU_text        0\n",
       "ER_text        0\n",
       "result_text    0\n",
       "temp           0\n",
       "rain           0\n",
       "wind           0\n",
       "d_wind         0\n",
       "humidity       0\n",
       "atmosphere     0\n",
       "surface        0\n",
       "dtype: int64"
      ]
     },
     "execution_count": 26,
     "metadata": {},
     "output_type": "execute_result"
    }
   ],
   "source": [
    "train.isnull().sum()"
   ]
  },
  {
   "cell_type": "code",
   "execution_count": 27,
   "metadata": {},
   "outputs": [
    {
     "name": "stdout",
     "output_type": "stream",
     "text": [
      "<class 'pandas.core.frame.DataFrame'>\n",
      "Index: 10230 entries, 4.2화 to 9.30일\n",
      "Data columns (total 17 columns):\n",
      " #   Column       Non-Null Count  Dtype  \n",
      "---  ------       --------------  -----  \n",
      " 0   time_text    10230 non-null  object \n",
      " 1   team_text    10230 non-null  object \n",
      " 2   location     10230 non-null  object \n",
      " 3   H_text       10230 non-null  int64  \n",
      " 4   HR_text      10230 non-null  int64  \n",
      " 5   S_text       10230 non-null  int64  \n",
      " 6   ST_text      10230 non-null  int64  \n",
      " 7   DU_text      10230 non-null  int64  \n",
      " 8   ER_text      10230 non-null  int64  \n",
      " 9   result_text  10230 non-null  int64  \n",
      " 10  temp         10230 non-null  float64\n",
      " 11  rain         10230 non-null  object \n",
      " 12  wind         10230 non-null  object \n",
      " 13  d_wind       10230 non-null  object \n",
      " 14  humidity     10230 non-null  int64  \n",
      " 15  atmosphere   10230 non-null  float64\n",
      " 16  surface      10230 non-null  object \n",
      "dtypes: float64(2), int64(8), object(7)\n",
      "memory usage: 1.4+ MB\n"
     ]
    }
   ],
   "source": [
    "train.info()"
   ]
  },
  {
   "cell_type": "code",
   "execution_count": 28,
   "metadata": {},
   "outputs": [],
   "source": [
    "train['rain'] = train['rain'].astype('float64')\n",
    "train['wind'] = train['wind'].astype('float64')\n",
    "train['d_wind'] = train['d_wind'].astype('float64')\n",
    "train['atmosphere'] = train['atmosphere'].astype('float64')\n",
    "train['surface'] = train['surface'].astype('float64')"
   ]
  },
  {
   "cell_type": "markdown",
   "metadata": {},
   "source": [
    "### 데이터 7:3으로 나누기"
   ]
  },
  {
   "cell_type": "code",
   "execution_count": 29,
   "metadata": {},
   "outputs": [],
   "source": [
    "#7대 3으로 데이터 나누기\n",
    "train = train.drop(['surface','atmosphere'], axis = 1)\n",
    "X = train.drop('result_text',axis = 1)\n",
    "y = train['result_text']\n",
    "\n",
    "X_train, X_test, y_train,y_test = train_test_split(X,y,\n",
    "                                                  test_size = 0.2,\n",
    "                                                  stratify = y,\n",
    "                                                  random_state = 1)"
   ]
  },
  {
   "cell_type": "code",
   "execution_count": 30,
   "metadata": {},
   "outputs": [
    {
     "name": "stdout",
     "output_type": "stream",
     "text": [
      "(8184, 14) (8184,) (2046, 14) (2046,)\n"
     ]
    }
   ],
   "source": [
    "print(X_train.shape, y_train.shape,X_test.shape,y_test.shape)"
   ]
  },
  {
   "cell_type": "code",
   "execution_count": 31,
   "metadata": {},
   "outputs": [
    {
     "name": "stdout",
     "output_type": "stream",
     "text": [
      "<class 'pandas.core.frame.DataFrame'>\n",
      "Index: 8184 entries, 8.23금 to 5.8수\n",
      "Data columns (total 14 columns):\n",
      " #   Column     Non-Null Count  Dtype  \n",
      "---  ------     --------------  -----  \n",
      " 0   time_text  8184 non-null   object \n",
      " 1   team_text  8184 non-null   object \n",
      " 2   location   8184 non-null   object \n",
      " 3   H_text     8184 non-null   int64  \n",
      " 4   HR_text    8184 non-null   int64  \n",
      " 5   S_text     8184 non-null   int64  \n",
      " 6   ST_text    8184 non-null   int64  \n",
      " 7   DU_text    8184 non-null   int64  \n",
      " 8   ER_text    8184 non-null   int64  \n",
      " 9   temp       8184 non-null   float64\n",
      " 10  rain       8184 non-null   float64\n",
      " 11  wind       8184 non-null   float64\n",
      " 12  d_wind     8184 non-null   float64\n",
      " 13  humidity   8184 non-null   int64  \n",
      "dtypes: float64(4), int64(7), object(3)\n",
      "memory usage: 959.1+ KB\n"
     ]
    }
   ],
   "source": [
    "X_train.info()"
   ]
  },
  {
   "cell_type": "code",
   "execution_count": 32,
   "metadata": {},
   "outputs": [
    {
     "name": "stdout",
     "output_type": "stream",
     "text": [
      "<class 'pandas.core.frame.DataFrame'>\n",
      "Index: 2046 entries, 7.31수 to 8.1토\n",
      "Data columns (total 14 columns):\n",
      " #   Column     Non-Null Count  Dtype  \n",
      "---  ------     --------------  -----  \n",
      " 0   time_text  2046 non-null   object \n",
      " 1   team_text  2046 non-null   object \n",
      " 2   location   2046 non-null   object \n",
      " 3   H_text     2046 non-null   int64  \n",
      " 4   HR_text    2046 non-null   int64  \n",
      " 5   S_text     2046 non-null   int64  \n",
      " 6   ST_text    2046 non-null   int64  \n",
      " 7   DU_text    2046 non-null   int64  \n",
      " 8   ER_text    2046 non-null   int64  \n",
      " 9   temp       2046 non-null   float64\n",
      " 10  rain       2046 non-null   float64\n",
      " 11  wind       2046 non-null   float64\n",
      " 12  d_wind     2046 non-null   float64\n",
      " 13  humidity   2046 non-null   int64  \n",
      "dtypes: float64(4), int64(7), object(3)\n",
      "memory usage: 239.8+ KB\n"
     ]
    }
   ],
   "source": [
    "X_test.info()"
   ]
  },
  {
   "cell_type": "code",
   "execution_count": 33,
   "metadata": {},
   "outputs": [
    {
     "data": {
      "text/plain": [
       "<AxesSubplot:>"
      ]
     },
     "execution_count": 33,
     "metadata": {},
     "output_type": "execute_result"
    },
    {
     "data": {
      "image/png": "[encoded data removed]",
      "text/plain": [
       "<Figure size 1080x1080 with 2 Axes>"
      ]
     },
     "metadata": {
      "needs_background": "light"
     },
     "output_type": "display_data"
    }
   ],
   "source": [
    "plt.figure(figsize=(15,15))\n",
    "sns.heatmap(data = train.corr(), annot=True, \n",
    "fmt = '.2f', linewidths=.5, cmap='Blues')"
   ]
  },
  {
   "cell_type": "markdown",
   "metadata": {},
   "source": [
    "### 데이터 탐색(result_text 의 빈도가 높은 경우를 찾기)"
   ]
  },
  {
   "cell_type": "code",
   "execution_count": 34,
   "metadata": {},
   "outputs": [],
   "source": [
    "bins = [5,11,16,21,26,31,36,41]  # 구간 만들기\n",
    "labels = ['5~10', '10~15', '15~20', '20~25', '25~30', '30~35', '35~40']\n",
    "train['temp'] = pd.cut(train['temp'], bins = bins, labels = labels)"
   ]
  },
  {
   "cell_type": "code",
   "execution_count": 35,
   "metadata": {},
   "outputs": [
    {
     "data": {
      "text/html": [
       "<div>\n",
       "<style scoped>\n",
       "    .dataframe tbody tr th:only-of-type {\n",
       "        vertical-align: middle;\n",
       "    }\n",
       "\n",
       "    .dataframe tbody tr th {\n",
       "        vertical-align: top;\n",
       "    }\n",
       "\n",
       "    .dataframe thead th {\n",
       "        text-align: right;\n",
       "    }\n",
       "</style>\n",
       "<table border=\"1\" class=\"dataframe\">\n",
       "  <thead>\n",
       "    <tr style=\"text-align: right;\">\n",
       "      <th></th>\n",
       "      <th></th>\n",
       "      <th>H_text</th>\n",
       "    </tr>\n",
       "    <tr>\n",
       "      <th>team_text</th>\n",
       "      <th>temp</th>\n",
       "      <th></th>\n",
       "    </tr>\n",
       "  </thead>\n",
       "  <tbody>\n",
       "    <tr>\n",
       "      <th rowspan=\"7\" valign=\"top\">KIA 타이거즈</th>\n",
       "      <th>5~10</th>\n",
       "      <td>8.727273</td>\n",
       "    </tr>\n",
       "    <tr>\n",
       "      <th>10~15</th>\n",
       "      <td>9.830769</td>\n",
       "    </tr>\n",
       "    <tr>\n",
       "      <th>15~20</th>\n",
       "      <td>9.437500</td>\n",
       "    </tr>\n",
       "    <tr>\n",
       "      <th>20~25</th>\n",
       "      <td>9.156818</td>\n",
       "    </tr>\n",
       "    <tr>\n",
       "      <th>25~30</th>\n",
       "      <td>9.551948</td>\n",
       "    </tr>\n",
       "    <tr>\n",
       "      <th>30~35</th>\n",
       "      <td>9.683333</td>\n",
       "    </tr>\n",
       "    <tr>\n",
       "      <th>35~40</th>\n",
       "      <td>11.000000</td>\n",
       "    </tr>\n",
       "    <tr>\n",
       "      <th rowspan=\"7\" valign=\"top\">LG 트윈스</th>\n",
       "      <th>5~10</th>\n",
       "      <td>9.037037</td>\n",
       "    </tr>\n",
       "    <tr>\n",
       "      <th>10~15</th>\n",
       "      <td>9.000000</td>\n",
       "    </tr>\n",
       "    <tr>\n",
       "      <th>15~20</th>\n",
       "      <td>9.115854</td>\n",
       "    </tr>\n",
       "    <tr>\n",
       "      <th>20~25</th>\n",
       "      <td>9.549223</td>\n",
       "    </tr>\n",
       "    <tr>\n",
       "      <th>25~30</th>\n",
       "      <td>9.863636</td>\n",
       "    </tr>\n",
       "    <tr>\n",
       "      <th>30~35</th>\n",
       "      <td>9.625000</td>\n",
       "    </tr>\n",
       "    <tr>\n",
       "      <th>35~40</th>\n",
       "      <td>2.000000</td>\n",
       "    </tr>\n",
       "    <tr>\n",
       "      <th rowspan=\"7\" valign=\"top\">NC 다이노스</th>\n",
       "      <th>5~10</th>\n",
       "      <td>9.043478</td>\n",
       "    </tr>\n",
       "    <tr>\n",
       "      <th>10~15</th>\n",
       "      <td>9.610390</td>\n",
       "    </tr>\n",
       "    <tr>\n",
       "      <th>15~20</th>\n",
       "      <td>9.546961</td>\n",
       "    </tr>\n",
       "    <tr>\n",
       "      <th>20~25</th>\n",
       "      <td>9.795756</td>\n",
       "    </tr>\n",
       "    <tr>\n",
       "      <th>25~30</th>\n",
       "      <td>9.423077</td>\n",
       "    </tr>\n",
       "    <tr>\n",
       "      <th>30~35</th>\n",
       "      <td>9.346154</td>\n",
       "    </tr>\n",
       "    <tr>\n",
       "      <th>35~40</th>\n",
       "      <td>8.000000</td>\n",
       "    </tr>\n",
       "    <tr>\n",
       "      <th rowspan=\"7\" valign=\"top\">SK 와이번스</th>\n",
       "      <th>5~10</th>\n",
       "      <td>8.151515</td>\n",
       "    </tr>\n",
       "    <tr>\n",
       "      <th>10~15</th>\n",
       "      <td>9.081633</td>\n",
       "    </tr>\n",
       "    <tr>\n",
       "      <th>15~20</th>\n",
       "      <td>9.010204</td>\n",
       "    </tr>\n",
       "    <tr>\n",
       "      <th>20~25</th>\n",
       "      <td>9.381279</td>\n",
       "    </tr>\n",
       "    <tr>\n",
       "      <th>25~30</th>\n",
       "      <td>9.452830</td>\n",
       "    </tr>\n",
       "    <tr>\n",
       "      <th>30~35</th>\n",
       "      <td>8.702703</td>\n",
       "    </tr>\n",
       "    <tr>\n",
       "      <th>35~40</th>\n",
       "      <td>NaN</td>\n",
       "    </tr>\n",
       "    <tr>\n",
       "      <th rowspan=\"7\" valign=\"top\">kt wiz</th>\n",
       "      <th>5~10</th>\n",
       "      <td>8.391304</td>\n",
       "    </tr>\n",
       "    <tr>\n",
       "      <th>10~15</th>\n",
       "      <td>8.534247</td>\n",
       "    </tr>\n",
       "    <tr>\n",
       "      <th>15~20</th>\n",
       "      <td>9.543103</td>\n",
       "    </tr>\n",
       "    <tr>\n",
       "      <th>20~25</th>\n",
       "      <td>9.583039</td>\n",
       "    </tr>\n",
       "    <tr>\n",
       "      <th>25~30</th>\n",
       "      <td>9.830189</td>\n",
       "    </tr>\n",
       "    <tr>\n",
       "      <th>30~35</th>\n",
       "      <td>9.285714</td>\n",
       "    </tr>\n",
       "    <tr>\n",
       "      <th>35~40</th>\n",
       "      <td>NaN</td>\n",
       "    </tr>\n",
       "    <tr>\n",
       "      <th rowspan=\"7\" valign=\"top\">두산 베어스</th>\n",
       "      <th>5~10</th>\n",
       "      <td>10.200000</td>\n",
       "    </tr>\n",
       "    <tr>\n",
       "      <th>10~15</th>\n",
       "      <td>10.181818</td>\n",
       "    </tr>\n",
       "    <tr>\n",
       "      <th>15~20</th>\n",
       "      <td>10.195402</td>\n",
       "    </tr>\n",
       "    <tr>\n",
       "      <th>20~25</th>\n",
       "      <td>9.915167</td>\n",
       "    </tr>\n",
       "    <tr>\n",
       "      <th>25~30</th>\n",
       "      <td>10.235988</td>\n",
       "    </tr>\n",
       "    <tr>\n",
       "      <th>30~35</th>\n",
       "      <td>10.433333</td>\n",
       "    </tr>\n",
       "    <tr>\n",
       "      <th>35~40</th>\n",
       "      <td>9.000000</td>\n",
       "    </tr>\n",
       "    <tr>\n",
       "      <th rowspan=\"7\" valign=\"top\">롯데 자이언츠</th>\n",
       "      <th>5~10</th>\n",
       "      <td>8.478261</td>\n",
       "    </tr>\n",
       "    <tr>\n",
       "      <th>10~15</th>\n",
       "      <td>9.678161</td>\n",
       "    </tr>\n",
       "    <tr>\n",
       "      <th>15~20</th>\n",
       "      <td>9.745614</td>\n",
       "    </tr>\n",
       "    <tr>\n",
       "      <th>20~25</th>\n",
       "      <td>9.515294</td>\n",
       "    </tr>\n",
       "    <tr>\n",
       "      <th>25~30</th>\n",
       "      <td>9.337121</td>\n",
       "    </tr>\n",
       "    <tr>\n",
       "      <th>30~35</th>\n",
       "      <td>9.133333</td>\n",
       "    </tr>\n",
       "    <tr>\n",
       "      <th>35~40</th>\n",
       "      <td>NaN</td>\n",
       "    </tr>\n",
       "    <tr>\n",
       "      <th rowspan=\"7\" valign=\"top\">삼성 라이온즈</th>\n",
       "      <th>5~10</th>\n",
       "      <td>8.090909</td>\n",
       "    </tr>\n",
       "    <tr>\n",
       "      <th>10~15</th>\n",
       "      <td>9.632353</td>\n",
       "    </tr>\n",
       "    <tr>\n",
       "      <th>15~20</th>\n",
       "      <td>9.064706</td>\n",
       "    </tr>\n",
       "    <tr>\n",
       "      <th>20~25</th>\n",
       "      <td>10.122396</td>\n",
       "    </tr>\n",
       "    <tr>\n",
       "      <th>25~30</th>\n",
       "      <td>9.792507</td>\n",
       "    </tr>\n",
       "    <tr>\n",
       "      <th>30~35</th>\n",
       "      <td>10.416667</td>\n",
       "    </tr>\n",
       "    <tr>\n",
       "      <th>35~40</th>\n",
       "      <td>9.000000</td>\n",
       "    </tr>\n",
       "    <tr>\n",
       "      <th rowspan=\"7\" valign=\"top\">키움 히어로즈</th>\n",
       "      <th>5~10</th>\n",
       "      <td>9.111111</td>\n",
       "    </tr>\n",
       "    <tr>\n",
       "      <th>10~15</th>\n",
       "      <td>9.098765</td>\n",
       "    </tr>\n",
       "    <tr>\n",
       "      <th>15~20</th>\n",
       "      <td>9.957576</td>\n",
       "    </tr>\n",
       "    <tr>\n",
       "      <th>20~25</th>\n",
       "      <td>9.432099</td>\n",
       "    </tr>\n",
       "    <tr>\n",
       "      <th>25~30</th>\n",
       "      <td>10.115044</td>\n",
       "    </tr>\n",
       "    <tr>\n",
       "      <th>30~35</th>\n",
       "      <td>9.307692</td>\n",
       "    </tr>\n",
       "    <tr>\n",
       "      <th>35~40</th>\n",
       "      <td>9.000000</td>\n",
       "    </tr>\n",
       "    <tr>\n",
       "      <th rowspan=\"7\" valign=\"top\">한화 이글스</th>\n",
       "      <th>5~10</th>\n",
       "      <td>7.576923</td>\n",
       "    </tr>\n",
       "    <tr>\n",
       "      <th>10~15</th>\n",
       "      <td>9.365079</td>\n",
       "    </tr>\n",
       "    <tr>\n",
       "      <th>15~20</th>\n",
       "      <td>9.112994</td>\n",
       "    </tr>\n",
       "    <tr>\n",
       "      <th>20~25</th>\n",
       "      <td>9.096852</td>\n",
       "    </tr>\n",
       "    <tr>\n",
       "      <th>25~30</th>\n",
       "      <td>9.290625</td>\n",
       "    </tr>\n",
       "    <tr>\n",
       "      <th>30~35</th>\n",
       "      <td>9.541667</td>\n",
       "    </tr>\n",
       "    <tr>\n",
       "      <th>35~40</th>\n",
       "      <td>NaN</td>\n",
       "    </tr>\n",
       "  </tbody>\n",
       "</table>\n",
       "</div>"
      ],
      "text/plain": [
       "                    H_text\n",
       "team_text temp            \n",
       "KIA 타이거즈  5~10    8.727273\n",
       "          10~15   9.830769\n",
       "          15~20   9.437500\n",
       "          20~25   9.156818\n",
       "          25~30   9.551948\n",
       "          30~35   9.683333\n",
       "          35~40  11.000000\n",
       "LG 트윈스    5~10    9.037037\n",
       "          10~15   9.000000\n",
       "          15~20   9.115854\n",
       "          20~25   9.549223\n",
       "          25~30   9.863636\n",
       "          30~35   9.625000\n",
       "          35~40   2.000000\n",
       "NC 다이노스   5~10    9.043478\n",
       "          10~15   9.610390\n",
       "          15~20   9.546961\n",
       "          20~25   9.795756\n",
       "          25~30   9.423077\n",
       "          30~35   9.346154\n",
       "          35~40   8.000000\n",
       "SK 와이번스   5~10    8.151515\n",
       "          10~15   9.081633\n",
       "          15~20   9.010204\n",
       "          20~25   9.381279\n",
       "          25~30   9.452830\n",
       "          30~35   8.702703\n",
       "          35~40        NaN\n",
       "kt wiz    5~10    8.391304\n",
       "          10~15   8.534247\n",
       "          15~20   9.543103\n",
       "          20~25   9.583039\n",
       "          25~30   9.830189\n",
       "          30~35   9.285714\n",
       "          35~40        NaN\n",
       "두산 베어스    5~10   10.200000\n",
       "          10~15  10.181818\n",
       "          15~20  10.195402\n",
       "          20~25   9.915167\n",
       "          25~30  10.235988\n",
       "          30~35  10.433333\n",
       "          35~40   9.000000\n",
       "롯데 자이언츠   5~10    8.478261\n",
       "          10~15   9.678161\n",
       "          15~20   9.745614\n",
       "          20~25   9.515294\n",
       "          25~30   9.337121\n",
       "          30~35   9.133333\n",
       "          35~40        NaN\n",
       "삼성 라이온즈   5~10    8.090909\n",
       "          10~15   9.632353\n",
       "          15~20   9.064706\n",
       "          20~25  10.122396\n",
       "          25~30   9.792507\n",
       "          30~35  10.416667\n",
       "          35~40   9.000000\n",
       "키움 히어로즈   5~10    9.111111\n",
       "          10~15   9.098765\n",
       "          15~20   9.957576\n",
       "          20~25   9.432099\n",
       "          25~30  10.115044\n",
       "          30~35   9.307692\n",
       "          35~40   9.000000\n",
       "한화 이글스    5~10    7.576923\n",
       "          10~15   9.365079\n",
       "          15~20   9.112994\n",
       "          20~25   9.096852\n",
       "          25~30   9.290625\n",
       "          30~35   9.541667\n",
       "          35~40        NaN"
      ]
     },
     "execution_count": 35,
     "metadata": {},
     "output_type": "execute_result"
    }
   ],
   "source": [
    "test_result = train[['team_text','temp','H_text']].groupby(['team_text','temp']).mean()\n",
    "test_result"
   ]
  },
  {
   "cell_type": "markdown",
   "metadata": {},
   "source": [
    "### 온도 5도 기준으로 나눠서 시각화\n",
    "- 어느 온도에서 야구 경기가 많이 이루어졌는지 볼 수 있음"
   ]
  },
  {
   "cell_type": "code",
   "execution_count": 36,
   "metadata": {},
   "outputs": [
    {
     "data": {
      "text/plain": [
       "<AxesSubplot:xlabel='temp', ylabel='count'>"
      ]
     },
     "execution_count": 36,
     "metadata": {},
     "output_type": "execute_result"
    },
    {
     "data": {
      "image/png": "[encoded data removed]",
      "text/plain": [
       "<Figure size 432x288 with 1 Axes>"
      ]
     },
     "metadata": {
      "needs_background": "light"
     },
     "output_type": "display_data"
    }
   ],
   "source": [
    "sns.countplot(data = train, x = 'temp', hue='result_text')"
   ]
  },
  {
   "cell_type": "code",
   "execution_count": 37,
   "metadata": {},
   "outputs": [
    {
     "name": "stdout",
     "output_type": "stream",
     "text": [
      "day_text\n",
      "4.2화     0.0\n",
      "4.2화     0.0\n",
      "4.2화     0.0\n",
      "4.2화     0.0\n",
      "4.2화     0.0\n",
      "        ... \n",
      "9.30일    0.0\n",
      "9.30일    0.0\n",
      "9.30일    0.0\n",
      "9.30일    0.0\n",
      "9.30일    0.0\n",
      "Name: rain, Length: 10230, dtype: float64\n"
     ]
    }
   ],
   "source": [
    "print(train['rain'])"
   ]
  },
  {
   "cell_type": "markdown",
   "metadata": {},
   "source": [
    "### 강수량 3mm 를 기준으로 나눠서 시각화"
   ]
  },
  {
   "cell_type": "code",
   "execution_count": 38,
   "metadata": {},
   "outputs": [],
   "source": [
    "bins = [0,4,7,10,13,16,19]  # 구간 만들기\n",
    "labels = ['0~3', '3~6', '6~9', '9~12', '12~15', '15~18']\n",
    "train['rain'] = pd.cut(train['rain'], bins = bins, labels = labels)"
   ]
  },
  {
   "cell_type": "code",
   "execution_count": 39,
   "metadata": {},
   "outputs": [
    {
     "data": {
      "text/plain": [
       "<AxesSubplot:xlabel='rain', ylabel='count'>"
      ]
     },
     "execution_count": 39,
     "metadata": {},
     "output_type": "execute_result"
    },
    {
     "data": {
      "image/png": "[encoded data removed]",
      "text/plain": [
       "<Figure size 432x288 with 1 Axes>"
      ]
     },
     "metadata": {
      "needs_background": "light"
     },
     "output_type": "display_data"
    }
   ],
   "source": [
    "sns.countplot(data = train, x = 'rain', hue='result_text')"
   ]
  },
  {
   "cell_type": "markdown",
   "metadata": {},
   "source": [
    "### 습도 10% 를 기준으로 나눠서 시각화"
   ]
  },
  {
   "cell_type": "code",
   "execution_count": 40,
   "metadata": {},
   "outputs": [],
   "source": [
    "bins = [0,11,21,31,41,51,61,71,81,91,101]  # 구간 만들기\n",
    "labels = ['0~10', '10~20', '20~30', '30~40', '40~50', '50~60', '60~70', '70~80', '80~90', '90~100']\n",
    "train['humidity'] = pd.cut(train['humidity'], bins = bins, labels = labels)"
   ]
  },
  {
   "cell_type": "code",
   "execution_count": 41,
   "metadata": {},
   "outputs": [
    {
     "data": {
      "text/plain": [
       "<AxesSubplot:xlabel='humidity', ylabel='count'>"
      ]
     },
     "execution_count": 41,
     "metadata": {},
     "output_type": "execute_result"
    },
    {
     "data": {
      "image/png": "[encoded data removed]",
      "text/plain": [
       "<Figure size 432x288 with 1 Axes>"
      ]
     },
     "metadata": {
      "needs_background": "light"
     },
     "output_type": "display_data"
    }
   ],
   "source": [
    "sns.countplot(data = train, x = 'humidity', hue='result_text')"
   ]
  },
  {
   "cell_type": "markdown",
   "metadata": {},
   "source": [
    "### 원핫인코딩"
   ]
  },
  {
   "cell_type": "code",
   "execution_count": 42,
   "metadata": {},
   "outputs": [
    {
     "name": "stderr",
     "output_type": "stream",
     "text": [
      "C:\\Users\\smhrd\\anaconda\\lib\\site-packages\\pandas\\core\\frame.py:4163: SettingWithCopyWarning: \n",
      "A value is trying to be set on a copy of a slice from a DataFrame\n",
      "\n",
      "See the caveats in the documentation: https://pandas.pydata.org/pandas-docs/stable/user_guide/indexing.html#returning-a-view-versus-a-copy\n",
      "  return super().drop(\n"
     ]
    }
   ],
   "source": [
    "X_train.drop('time_text', axis = 1 , inplace = True)"
   ]
  },
  {
   "cell_type": "code",
   "execution_count": 43,
   "metadata": {},
   "outputs": [],
   "source": [
    "X_test.drop('time_text', axis = 1, inplace = True)"
   ]
  },
  {
   "cell_type": "code",
   "execution_count": 44,
   "metadata": {},
   "outputs": [],
   "source": [
    "cat_feature = ['team_text','location']"
   ]
  },
  {
   "cell_type": "code",
   "execution_count": 45,
   "metadata": {},
   "outputs": [],
   "source": [
    "for i in cat_feature:\n",
    "    dummy = pd.get_dummies(X_train[i], prefix = i)\n",
    "    X_train = pd.concat([X_train, dummy], axis = 1)\n",
    "    X_train.drop(i, axis=1, inplace = True)"
   ]
  },
  {
   "cell_type": "code",
   "execution_count": 46,
   "metadata": {},
   "outputs": [],
   "source": [
    "for i in cat_feature:\n",
    "    dummy = pd.get_dummies(X_test[i], prefix = i)\n",
    "    X_test = pd.concat([X_test, dummy], axis = 1)\n",
    "    X_test.drop(i, axis=1, inplace = True)"
   ]
  },
  {
   "cell_type": "code",
   "execution_count": 47,
   "metadata": {},
   "outputs": [
    {
     "name": "stdout",
     "output_type": "stream",
     "text": [
      "<class 'pandas.core.frame.DataFrame'>\n",
      "Index: 2046 entries, 7.31수 to 8.1토\n",
      "Data columns (total 29 columns):\n",
      " #   Column              Non-Null Count  Dtype  \n",
      "---  ------              --------------  -----  \n",
      " 0   H_text              2046 non-null   int64  \n",
      " 1   HR_text             2046 non-null   int64  \n",
      " 2   S_text              2046 non-null   int64  \n",
      " 3   ST_text             2046 non-null   int64  \n",
      " 4   DU_text             2046 non-null   int64  \n",
      " 5   ER_text             2046 non-null   int64  \n",
      " 6   temp                2046 non-null   float64\n",
      " 7   rain                2046 non-null   float64\n",
      " 8   wind                2046 non-null   float64\n",
      " 9   d_wind              2046 non-null   float64\n",
      " 10  humidity            2046 non-null   int64  \n",
      " 11  team_text_KIA 타이거즈  2046 non-null   uint8  \n",
      " 12  team_text_LG 트윈스    2046 non-null   uint8  \n",
      " 13  team_text_NC 다이노스   2046 non-null   uint8  \n",
      " 14  team_text_SK 와이번스   2046 non-null   uint8  \n",
      " 15  team_text_kt wiz    2046 non-null   uint8  \n",
      " 16  team_text_두산 베어스    2046 non-null   uint8  \n",
      " 17  team_text_롯데 자이언츠   2046 non-null   uint8  \n",
      " 18  team_text_삼성 라이온즈   2046 non-null   uint8  \n",
      " 19  team_text_키움 히어로즈   2046 non-null   uint8  \n",
      " 20  team_text_한화 이글스    2046 non-null   uint8  \n",
      " 21  location_광주         2046 non-null   uint8  \n",
      " 22  location_대구         2046 non-null   uint8  \n",
      " 23  location_대전         2046 non-null   uint8  \n",
      " 24  location_부산         2046 non-null   uint8  \n",
      " 25  location_서울         2046 non-null   uint8  \n",
      " 26  location_수원         2046 non-null   uint8  \n",
      " 27  location_인천         2046 non-null   uint8  \n",
      " 28  location_창원         2046 non-null   uint8  \n",
      "dtypes: float64(4), int64(7), uint8(18)\n",
      "memory usage: 227.8+ KB\n"
     ]
    }
   ],
   "source": [
    "X_test.info()"
   ]
  },
  {
   "cell_type": "code",
   "execution_count": 48,
   "metadata": {},
   "outputs": [
    {
     "name": "stdout",
     "output_type": "stream",
     "text": [
      "<class 'pandas.core.frame.DataFrame'>\n",
      "Index: 8184 entries, 8.23금 to 5.8수\n",
      "Data columns (total 29 columns):\n",
      " #   Column              Non-Null Count  Dtype  \n",
      "---  ------              --------------  -----  \n",
      " 0   H_text              8184 non-null   int64  \n",
      " 1   HR_text             8184 non-null   int64  \n",
      " 2   S_text              8184 non-null   int64  \n",
      " 3   ST_text             8184 non-null   int64  \n",
      " 4   DU_text             8184 non-null   int64  \n",
      " 5   ER_text             8184 non-null   int64  \n",
      " 6   temp                8184 non-null   float64\n",
      " 7   rain                8184 non-null   float64\n",
      " 8   wind                8184 non-null   float64\n",
      " 9   d_wind              8184 non-null   float64\n",
      " 10  humidity            8184 non-null   int64  \n",
      " 11  team_text_KIA 타이거즈  8184 non-null   uint8  \n",
      " 12  team_text_LG 트윈스    8184 non-null   uint8  \n",
      " 13  team_text_NC 다이노스   8184 non-null   uint8  \n",
      " 14  team_text_SK 와이번스   8184 non-null   uint8  \n",
      " 15  team_text_kt wiz    8184 non-null   uint8  \n",
      " 16  team_text_두산 베어스    8184 non-null   uint8  \n",
      " 17  team_text_롯데 자이언츠   8184 non-null   uint8  \n",
      " 18  team_text_삼성 라이온즈   8184 non-null   uint8  \n",
      " 19  team_text_키움 히어로즈   8184 non-null   uint8  \n",
      " 20  team_text_한화 이글스    8184 non-null   uint8  \n",
      " 21  location_광주         8184 non-null   uint8  \n",
      " 22  location_대구         8184 non-null   uint8  \n",
      " 23  location_대전         8184 non-null   uint8  \n",
      " 24  location_부산         8184 non-null   uint8  \n",
      " 25  location_서울         8184 non-null   uint8  \n",
      " 26  location_수원         8184 non-null   uint8  \n",
      " 27  location_인천         8184 non-null   uint8  \n",
      " 28  location_창원         8184 non-null   uint8  \n",
      "dtypes: float64(4), int64(7), uint8(18)\n",
      "memory usage: 911.1+ KB\n"
     ]
    }
   ],
   "source": [
    "X_train.info()"
   ]
  },
  {
   "cell_type": "code",
   "execution_count": 49,
   "metadata": {},
   "outputs": [
    {
     "data": {
      "text/plain": [
       "set()"
      ]
     },
     "execution_count": 49,
     "metadata": {},
     "output_type": "execute_result"
    }
   ],
   "source": [
    "set(X_train.columns) - set(X_test.columns)"
   ]
  },
  {
   "cell_type": "markdown",
   "metadata": {},
   "source": [
    "### KNN 모델"
   ]
  },
  {
   "cell_type": "code",
   "execution_count": 50,
   "metadata": {},
   "outputs": [
    {
     "data": {
      "text/plain": [
       "array([0.61331704, 0.62797801, 0.61453879, 0.60232132, 0.61613692])"
      ]
     },
     "execution_count": 50,
     "metadata": {},
     "output_type": "execute_result"
    }
   ],
   "source": [
    "knn_model = KNeighborsClassifier(n_neighbors = 50)\n",
    "result = cross_val_score(knn_model,\n",
    "                        X_train,\n",
    "                        y_train,\n",
    "                        cv = 5)\n",
    "result"
   ]
  },
  {
   "cell_type": "code",
   "execution_count": 51,
   "metadata": {},
   "outputs": [
    {
     "data": {
      "text/plain": [
       "0.6148584162393788"
      ]
     },
     "execution_count": 51,
     "metadata": {},
     "output_type": "execute_result"
    }
   ],
   "source": [
    "result.mean()"
   ]
  },
  {
   "cell_type": "markdown",
   "metadata": {},
   "source": [
    "#### KNN Scaler 적용"
   ]
  },
  {
   "cell_type": "code",
   "execution_count": 52,
   "metadata": {},
   "outputs": [],
   "source": [
    "scaler = StandardScaler()"
   ]
  },
  {
   "cell_type": "code",
   "execution_count": 53,
   "metadata": {},
   "outputs": [
    {
     "data": {
      "text/plain": [
       "StandardScaler()"
      ]
     },
     "execution_count": 53,
     "metadata": {},
     "output_type": "execute_result"
    }
   ],
   "source": [
    "scaler.fit(X_train)  # 평균과 표준편차로 scaling 한 값을 컴퓨터가 기억"
   ]
  },
  {
   "cell_type": "code",
   "execution_count": 54,
   "metadata": {},
   "outputs": [
    {
     "data": {
      "text/plain": [
       "array([[-0.1502618 , -0.86961722, -0.76059392, ..., -0.27898897,\n",
       "        -0.34066219,  3.09634012],\n",
       "       [-1.49277549,  0.07452543,  0.24745477, ..., -0.27898897,\n",
       "         2.93545929, -0.32296194],\n",
       "       [ 0.92374916,  1.01866809, -0.76059392, ..., -0.27898897,\n",
       "        -0.34066219, -0.32296194],\n",
       "       ...,\n",
       "       [ 1.46075464,  3.85109607, -0.76059392, ..., -0.27898897,\n",
       "        -0.34066219, -0.32296194],\n",
       "       [ 1.72925738,  1.01866809,  1.25550345, ..., -0.27898897,\n",
       "        -0.34066219, -0.32296194],\n",
       "       [-1.49277549,  1.96281075,  1.25550345, ..., -0.27898897,\n",
       "        -0.34066219, -0.32296194]])"
      ]
     },
     "execution_count": 54,
     "metadata": {},
     "output_type": "execute_result"
    }
   ],
   "source": [
    "transform_X_train = scaler.transform(X_train)\n",
    "transform_X_train"
   ]
  },
  {
   "cell_type": "code",
   "execution_count": 55,
   "metadata": {},
   "outputs": [
    {
     "data": {
      "text/plain": [
       "array([[ 0.92374916,  1.01866809, -0.76059392, ..., -0.27898897,\n",
       "        -0.34066219, -0.32296194],\n",
       "       [ 0.65524642,  1.01866809,  0.24745477, ..., -0.27898897,\n",
       "         2.93545929, -0.32296194],\n",
       "       [-1.76127823, -0.86961722, -0.76059392, ..., -0.27898897,\n",
       "        -0.34066219, -0.32296194],\n",
       "       ...,\n",
       "       [ 0.65524642,  0.07452543, -0.76059392, ..., -0.27898897,\n",
       "        -0.34066219,  3.09634012],\n",
       "       [-0.1502618 ,  0.07452543, -0.76059392, ..., -0.27898897,\n",
       "        -0.34066219, -0.32296194],\n",
       "       [ 0.11824094,  1.01866809, -0.76059392, ..., -0.27898897,\n",
       "        -0.34066219, -0.32296194]])"
      ]
     },
     "execution_count": 55,
     "metadata": {},
     "output_type": "execute_result"
    }
   ],
   "source": [
    "transform_X_test = scaler.transform(X_test)\n",
    "transform_X_test"
   ]
  },
  {
   "cell_type": "code",
   "execution_count": 56,
   "metadata": {},
   "outputs": [
    {
     "data": {
      "text/plain": [
       "array([0.66035431, 0.68845449, 0.67135003, 0.6719609 , 0.68459658])"
      ]
     },
     "execution_count": 56,
     "metadata": {},
     "output_type": "execute_result"
    }
   ],
   "source": [
    "result = cross_val_score(knn_model,\n",
    "                        transform_X_train,\n",
    "                        y_train,\n",
    "                        cv = 5)\n",
    "result"
   ]
  },
  {
   "cell_type": "code",
   "execution_count": 57,
   "metadata": {},
   "outputs": [
    {
     "data": {
      "text/plain": [
       "0.6753432616465507"
      ]
     },
     "execution_count": 57,
     "metadata": {},
     "output_type": "execute_result"
    }
   ],
   "source": [
    "result.mean()"
   ]
  },
  {
   "cell_type": "markdown",
   "metadata": {},
   "source": [
    "#### KNN Scaler 적용"
   ]
  },
  {
   "cell_type": "code",
   "execution_count": 58,
   "metadata": {},
   "outputs": [],
   "source": [
    "y_pred = knn_model.fit(transform_X_train, y_train).predict(transform_X_test)"
   ]
  },
  {
   "cell_type": "code",
   "execution_count": 59,
   "metadata": {},
   "outputs": [
    {
     "name": "stdout",
     "output_type": "stream",
     "text": [
      "총 승패 갯수 2046 에서 틀린 예측 갯수 : 642\n"
     ]
    }
   ],
   "source": [
    "print(\"총 승패 갯수 %d 에서 틀린 예측 갯수 : %d\" % (transform_X_test.shape[0], (y_test != y_pred).sum()))"
   ]
  },
  {
   "cell_type": "code",
   "execution_count": 60,
   "metadata": {},
   "outputs": [
    {
     "name": "stdout",
     "output_type": "stream",
     "text": [
      "예측 정확도: 0.69\n"
     ]
    }
   ],
   "source": [
    "print(\"예측 정확도: {:.2f}\".format(np.mean(y_pred == y_test)))"
   ]
  },
  {
   "cell_type": "markdown",
   "metadata": {},
   "source": [
    "### Decision Tree 모델"
   ]
  },
  {
   "cell_type": "code",
   "execution_count": 61,
   "metadata": {},
   "outputs": [],
   "source": [
    "tree_model = DecisionTreeClassifier(max_depth = 7)"
   ]
  },
  {
   "cell_type": "code",
   "execution_count": 62,
   "metadata": {},
   "outputs": [
    {
     "data": {
      "text/plain": [
       "array([0.65201465, 0.67277167, 0.66178266, 0.68620269, 0.6809291 ,\n",
       "       0.67603912, 0.66381418, 0.68581907, 0.67481663, 0.6809291 ])"
      ]
     },
     "execution_count": 62,
     "metadata": {},
     "output_type": "execute_result"
    }
   ],
   "source": [
    "result = cross_val_score(tree_model,\n",
    "                        X_train,\n",
    "                        y_train,\n",
    "                        cv = 10)\n",
    "result"
   ]
  },
  {
   "cell_type": "code",
   "execution_count": 63,
   "metadata": {},
   "outputs": [
    {
     "data": {
      "text/plain": [
       "0.6735118861035732"
      ]
     },
     "execution_count": 63,
     "metadata": {},
     "output_type": "execute_result"
    }
   ],
   "source": [
    "result.mean()"
   ]
  },
  {
   "cell_type": "code",
   "execution_count": 64,
   "metadata": {},
   "outputs": [],
   "source": [
    "y_pred = tree_model.fit(X_train, y_train).predict(X_test)"
   ]
  },
  {
   "cell_type": "code",
   "execution_count": 65,
   "metadata": {},
   "outputs": [
    {
     "name": "stdout",
     "output_type": "stream",
     "text": [
      "총 승패 갯수 2046 에서 틀린 예측 갯수 : 640\n"
     ]
    }
   ],
   "source": [
    "print(\"총 승패 갯수 %d 에서 틀린 예측 갯수 : %d\" % (X_test.shape[0], (y_test != y_pred).sum()))"
   ]
  },
  {
   "cell_type": "code",
   "execution_count": 66,
   "metadata": {},
   "outputs": [
    {
     "name": "stdout",
     "output_type": "stream",
     "text": [
      "예측 정확도: 0.69\n"
     ]
    }
   ],
   "source": [
    "print(\"예측 정확도: {:.2f}\".format(np.mean(y_pred == y_test)))"
   ]
  },
  {
   "cell_type": "markdown",
   "metadata": {},
   "source": [
    "### Naive Bayes 분류 모델"
   ]
  },
  {
   "cell_type": "code",
   "execution_count": 67,
   "metadata": {},
   "outputs": [],
   "source": [
    "from sklearn.naive_bayes import GaussianNB"
   ]
  },
  {
   "cell_type": "code",
   "execution_count": 68,
   "metadata": {},
   "outputs": [],
   "source": [
    "nb = GaussianNB()\n",
    "     "
   ]
  },
  {
   "cell_type": "code",
   "execution_count": 69,
   "metadata": {},
   "outputs": [],
   "source": [
    "y_pred = nb.fit(X_train, y_train).predict(X_test)"
   ]
  },
  {
   "cell_type": "code",
   "execution_count": 70,
   "metadata": {},
   "outputs": [
    {
     "name": "stdout",
     "output_type": "stream",
     "text": [
      "총 승패 갯수 2046 에서 틀린 예측 갯수 : 596\n"
     ]
    }
   ],
   "source": [
    "print(\"총 승패 갯수 %d 에서 틀린 예측 갯수 : %d\" % (X_test.shape[0], (y_test != y_pred).sum()))"
   ]
  },
  {
   "cell_type": "code",
   "execution_count": 71,
   "metadata": {},
   "outputs": [
    {
     "name": "stdout",
     "output_type": "stream",
     "text": [
      "예측 정확도: 0.71\n"
     ]
    }
   ],
   "source": [
    "print(\"예측 정확도: {:.2f}\".format(np.mean(y_pred == y_test)))"
   ]
  },
  {
   "cell_type": "markdown",
   "metadata": {},
   "source": [
    "### SVM 분류 모델"
   ]
  },
  {
   "cell_type": "code",
   "execution_count": 72,
   "metadata": {},
   "outputs": [],
   "source": [
    "svm_model = SVC(kernel='rbf', C=300, gamma=0.0001)"
   ]
  },
  {
   "cell_type": "code",
   "execution_count": 73,
   "metadata": {},
   "outputs": [],
   "source": [
    "y_pred = svm_model.fit(X_train, y_train).predict(X_test)"
   ]
  },
  {
   "cell_type": "code",
   "execution_count": 74,
   "metadata": {},
   "outputs": [
    {
     "name": "stdout",
     "output_type": "stream",
     "text": [
      "예측 정확도: 0.74\n"
     ]
    }
   ],
   "source": [
    "print(\"예측 정확도: {:.2f}\".format(np.mean(y_pred == y_test)))"
   ]
  },
  {
   "cell_type": "markdown",
   "metadata": {},
   "source": [
    "### XGBOOST 모델"
   ]
  },
  {
   "cell_type": "code",
   "execution_count": 75,
   "metadata": {},
   "outputs": [
    {
     "name": "stdout",
     "output_type": "stream",
     "text": [
      "Requirement already satisfied: xgboost in c:\\users\\smhrd\\anaconda\\lib\\site-packages (1.4.1)\n",
      "Requirement already satisfied: numpy in c:\\users\\smhrd\\anaconda\\lib\\site-packages (from xgboost) (1.19.5)\n",
      "Requirement already satisfied: scipy in c:\\users\\smhrd\\anaconda\\lib\\site-packages (from xgboost) (1.5.2)\n"
     ]
    }
   ],
   "source": [
    "!pip install xgboost"
   ]
  },
  {
   "cell_type": "code",
   "execution_count": 76,
   "metadata": {},
   "outputs": [],
   "source": [
    "from xgboost import plot_importance\n",
    "from xgboost import XGBClassifier"
   ]
  },
  {
   "cell_type": "code",
   "execution_count": 77,
   "metadata": {},
   "outputs": [
    {
     "name": "stderr",
     "output_type": "stream",
     "text": [
      "C:\\Users\\smhrd\\anaconda\\lib\\site-packages\\xgboost\\sklearn.py:1146: UserWarning: The use of label encoder in XGBClassifier is deprecated and will be removed in a future release. To remove this warning, do the following: 1) Pass option use_label_encoder=False when constructing XGBClassifier object; and 2) Encode your labels (y) as integers starting with 0, i.e. 0, 1, 2, ..., [num_class - 1].\n",
      "  warnings.warn(label_encoder_deprecation_msg, UserWarning)\n"
     ]
    },
    {
     "name": "stdout",
     "output_type": "stream",
     "text": [
      "[19:35:09] WARNING: C:/Users/Administrator/workspace/xgboost-win64_release_1.4.0/src/learner.cc:1095: Starting in XGBoost 1.3.0, the default evaluation metric used with the objective 'binary:logistic' was changed from 'error' to 'logloss'. Explicitly set eval_metric if you'd like to restore the old behavior.\n"
     ]
    },
    {
     "name": "stderr",
     "output_type": "stream",
     "text": [
      "C:\\Users\\smhrd\\anaconda\\lib\\site-packages\\xgboost\\data.py:112: UserWarning: Use subset (sliced data) of np.ndarray is not recommended because it will generate extra copies and increase memory consumption\n",
      "  warnings.warn(\n"
     ]
    }
   ],
   "source": [
    "xgb = XGBClassifier(n_estimators = 5000, learning_rate = 0.001, max_depth = 5)\n",
    "xgb.fit(X_train, y_train)\n",
    "xgb_pred = xgb.predict(X_test)"
   ]
  },
  {
   "cell_type": "code",
   "execution_count": 78,
   "metadata": {},
   "outputs": [
    {
     "data": {
      "text/plain": [
       "array([1, 0, 0, ..., 1, 0, 1], dtype=int64)"
      ]
     },
     "execution_count": 78,
     "metadata": {},
     "output_type": "execute_result"
    }
   ],
   "source": [
    "xgb_pred"
   ]
  },
  {
   "cell_type": "code",
   "execution_count": 79,
   "metadata": {},
   "outputs": [
    {
     "name": "stdout",
     "output_type": "stream",
     "text": [
      "총 승패 갯수 2046 에서 틀린 예측 갯수 : 501\n"
     ]
    }
   ],
   "source": [
    "print(\"총 승패 갯수 %d 에서 틀린 예측 갯수 : %d\" % (X_test.shape[0], (y_test != xgb_pred).sum()))"
   ]
  },
  {
   "cell_type": "code",
   "execution_count": 80,
   "metadata": {},
   "outputs": [
    {
     "name": "stdout",
     "output_type": "stream",
     "text": [
      "예측 정확도: 0.76\n"
     ]
    }
   ],
   "source": [
    "print(\"예측 정확도: {:.2f}\".format(np.mean(xgb_pred == y_test)))"
   ]
  },
  {
   "cell_type": "markdown",
   "metadata": {},
   "source": [
    "### Logistic Regression 모델"
   ]
  },
  {
   "cell_type": "code",
   "execution_count": 81,
   "metadata": {},
   "outputs": [],
   "source": [
    "from sklearn.linear_model import LogisticRegression\n",
    "from sklearn.svm import SVC\n",
    "from sklearn.neighbors import KNeighborsClassifier\n",
    "from sklearn.ensemble import RandomForestClassifier\n",
    "from sklearn.naive_bayes import GaussianNB\n",
    "\n",
    "from sklearn.utils import shuffle"
   ]
  },
  {
   "cell_type": "code",
   "execution_count": 82,
   "metadata": {},
   "outputs": [],
   "source": [
    "train_data, train_label = shuffle(X_train, y_train, random_state = 5)"
   ]
  },
  {
   "cell_type": "code",
   "execution_count": 83,
   "metadata": {},
   "outputs": [],
   "source": [
    "def train_and_test(model):\n",
    "    model.fit(train_data, train_label)\n",
    "    prediction = model.predict(X_test)\n",
    "    accuracy = round(model.score(train_data, train_label) * 100, 2)\n",
    "    print(\"Accuracy : \", accuracy, \"%\")\n",
    "    return prediction"
   ]
  },
  {
   "cell_type": "code",
   "execution_count": 84,
   "metadata": {},
   "outputs": [
    {
     "name": "stderr",
     "output_type": "stream",
     "text": [
      "C:\\Users\\smhrd\\anaconda\\lib\\site-packages\\sklearn\\linear_model\\_logistic.py:762: ConvergenceWarning: lbfgs failed to converge (status=1):\n",
      "STOP: TOTAL NO. of ITERATIONS REACHED LIMIT.\n",
      "\n",
      "Increase the number of iterations (max_iter) or scale the data as shown in:\n",
      "    https://scikit-learn.org/stable/modules/preprocessing.html\n",
      "Please also refer to the documentation for alternative solver options:\n",
      "    https://scikit-learn.org/stable/modules/linear_model.html#logistic-regression\n",
      "  n_iter_i = _check_optimize_result(\n"
     ]
    },
    {
     "name": "stdout",
     "output_type": "stream",
     "text": [
      "Accuracy :  72.37 %\n",
      "Accuracy :  68.3 %\n",
      "Accuracy :  70.15 %\n",
      "Accuracy :  100.0 %\n",
      "Accuracy :  68.38 %\n"
     ]
    }
   ],
   "source": [
    "# Logistic Regression\n",
    "log_pred = train_and_test(LogisticRegression())\n",
    "# SVM\n",
    "svm_pred = train_and_test(SVC())\n",
    "#kNN\n",
    "knn_pred_4 = train_and_test(KNeighborsClassifier(n_neighbors = 4))\n",
    "# Random Forest\n",
    "rf_pred = train_and_test(RandomForestClassifier(n_estimators=100))\n",
    "# Navie Bayes\n",
    "nb_pred = train_and_test(GaussianNB())"
   ]
  },
  {
   "cell_type": "code",
   "execution_count": 85,
   "metadata": {},
   "outputs": [
    {
     "name": "stdout",
     "output_type": "stream",
     "text": [
      "총 승패 갯수 2046 에서 틀린 예측 갯수 : 520\n"
     ]
    }
   ],
   "source": [
    "print(\"총 승패 갯수 %d 에서 틀린 예측 갯수 : %d\" % (X_test.shape[0], (y_test != log_pred).sum()))"
   ]
  },
  {
   "cell_type": "code",
   "execution_count": 86,
   "metadata": {},
   "outputs": [
    {
     "name": "stdout",
     "output_type": "stream",
     "text": [
      "예측 정확도: 0.75\n"
     ]
    }
   ],
   "source": [
    "print(\"예측 정확도: {:.2f}\".format(np.mean(log_pred == y_test)))"
   ]
  },
  {
   "cell_type": "markdown",
   "metadata": {},
   "source": [
    "### Random Forest 모델"
   ]
  },
  {
   "cell_type": "code",
   "execution_count": 87,
   "metadata": {},
   "outputs": [
    {
     "name": "stdout",
     "output_type": "stream",
     "text": [
      "총 승패 갯수 2046 에서 틀린 예측 갯수 : 554\n"
     ]
    }
   ],
   "source": [
    "print(\"총 승패 갯수 %d 에서 틀린 예측 갯수 : %d\" % (X_test.shape[0], (y_test != rf_pred ).sum()))"
   ]
  },
  {
   "cell_type": "code",
   "execution_count": 88,
   "metadata": {},
   "outputs": [
    {
     "name": "stdout",
     "output_type": "stream",
     "text": [
      "예측 정확도: 0.73\n"
     ]
    }
   ],
   "source": [
    "print(\"예측 정확도: {:.2f}\".format(np.mean(rf_pred == y_test)))"
   ]
  },
  {
   "cell_type": "code",
   "execution_count": 89,
   "metadata": {},
   "outputs": [
    {
     "name": "stdout",
     "output_type": "stream",
     "text": [
      "총 승패 갯수 2046 에서 틀린 예측 갯수 : 893\n",
      "예측 정확도: 0.56\n"
     ]
    }
   ],
   "source": [
    "print(\"총 승패 갯수 %d 에서 틀린 예측 갯수 : %d\" % (X_test.shape[0], (y_test != knn_pred_4 ).sum()))\n",
    "print(\"예측 정확도: {:.2f}\".format(np.mean(knn_pred_4 == y_test)))"
   ]
  },
  {
   "cell_type": "code",
   "execution_count": 90,
   "metadata": {},
   "outputs": [
    {
     "name": "stdout",
     "output_type": "stream",
     "text": [
      "총 승패 갯수 2046 에서 틀린 예측 갯수 : 602\n",
      "예측 정확도: 0.71\n"
     ]
    }
   ],
   "source": [
    "print(\"총 승패 갯수 %d 에서 틀린 예측 갯수 : %d\" % (X_test.shape[0], (y_test != svm_pred ).sum()))\n",
    "print(\"예측 정확도: {:.2f}\".format(np.mean(svm_pred == y_test)))\n"
   ]
  },
  {
   "cell_type": "markdown",
   "metadata": {},
   "source": [
    "### Gradient Boosting "
   ]
  },
  {
   "cell_type": "code",
   "execution_count": 91,
   "metadata": {},
   "outputs": [],
   "source": [
    "from sklearn.ensemble import GradientBoostingClassifier\n",
    "from sklearn.metrics import accuracy_score"
   ]
  },
  {
   "cell_type": "code",
   "execution_count": 92,
   "metadata": {},
   "outputs": [
    {
     "data": {
      "text/plain": [
       "GradientBoostingClassifier(random_state=0)"
      ]
     },
     "execution_count": 92,
     "metadata": {},
     "output_type": "execute_result"
    }
   ],
   "source": [
    "gb = GradientBoostingClassifier(random_state = 0 )\n",
    "gb.fit(X_train,y_train)"
   ]
  },
  {
   "cell_type": "code",
   "execution_count": 93,
   "metadata": {},
   "outputs": [
    {
     "name": "stdout",
     "output_type": "stream",
     "text": [
      "정확도 :  0.751\n"
     ]
    }
   ],
   "source": [
    "pred = gb.predict(X_test)\n",
    "print(\"정확도 : {0: .3f}\".format(accuracy_score(y_test,pred)))"
   ]
  },
  {
   "cell_type": "code",
   "execution_count": 94,
   "metadata": {},
   "outputs": [
    {
     "name": "stdout",
     "output_type": "stream",
     "text": [
      "총 승패 갯수 2046 에서 틀린 예측 갯수 : 509\n",
      "예측 정확도: 0.75\n"
     ]
    }
   ],
   "source": [
    "print(\"총 승패 갯수 %d 에서 틀린 예측 갯수 : %d\" % (X_test.shape[0], (y_test != pred).sum()))\n",
    "print(\"예측 정확도: {:.2f}\".format(np.mean(pred == y_test)))"
   ]
  },
  {
   "cell_type": "code",
   "execution_count": null,
   "metadata": {},
   "outputs": [],
   "source": []
  }
 ],
 "metadata": {
  "kernelspec": {
   "display_name": "Python 3",
   "language": "python",
   "name": "python3"
  },
  "language_info": {
   "codemirror_mode": {
    "name": "ipython",
    "version": 3
   },
   "file_extension": ".py",
   "mimetype": "text/x-python",
   "name": "python",
   "nbconvert_exporter": "python",
   "pygments_lexer": "ipython3",
   "version": "3.8.5"
  }
 },
 "nbformat": 4,
 "nbformat_minor": 4
}
